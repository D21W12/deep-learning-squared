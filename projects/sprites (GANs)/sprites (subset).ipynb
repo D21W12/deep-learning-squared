{
 "cells": [
  {
   "metadata": {
    "id": "ae15ebfc126e17db"
   },
   "cell_type": "markdown",
   "source": [
    "### Imports\n",
    "\n",
    "The following cell imports all necessary libraries/modules"
   ],
   "id": "ae15ebfc126e17db"
  },
  {
   "cell_type": "code",
   "id": "initial_id",
   "metadata": {
    "collapsed": true,
    "id": "initial_id",
    "ExecuteTime": {
     "end_time": "2025-05-26T21:39:07.540185Z",
     "start_time": "2025-05-26T21:38:41.315666Z"
    }
   },
   "source": [
    "import torch\n",
    "import torchvision\n",
    "import torch.nn as nn\n",
    "from torch.utils.data import DataLoader, Dataset, Subset\n",
    "import os\n",
    "import matplotlib.pyplot as plt\n",
    "from tqdm import tqdm\n",
    "import numpy as np"
   ],
   "outputs": [],
   "execution_count": 1
  },
  {
   "metadata": {
    "id": "65e2ed1d1f70a02d"
   },
   "cell_type": "markdown",
   "source": [
    "### Creating dataloader\n",
    "\n",
    "Transforming the data and creating an useful dataloader object to use for training."
   ],
   "id": "65e2ed1d1f70a02d"
  },
  {
   "metadata": {
    "id": "6abfbebde9d21ec1",
    "ExecuteTime": {
     "end_time": "2025-05-26T21:39:07.563606Z",
     "start_time": "2025-05-26T21:39:07.557379Z"
    }
   },
   "cell_type": "code",
   "source": [
    "class SubsetSprites(Dataset):\n",
    "\n",
    "    def __init__(\n",
    "            self,\n",
    "            images: str,\n",
    "            labels: str,\n",
    "            label: np.ndarray,\n",
    "            transform=None,\n",
    "    ):\n",
    "        labels = np.load(labels)\n",
    "        mask = []\n",
    "        for encoding in labels:\n",
    "            mask.append(np.array_equal(encoding, label))\n",
    "        subset = np.load(images)[mask]\n",
    "        images = torch.from_numpy(subset) / 255\n",
    "        if transform:\n",
    "            images = torch.stack([transform(image) for image in images])\n",
    "        self.images = images.to(device)\n",
    "\n",
    "    def __len__(self):\n",
    "        return self.images.shape[0]\n",
    "\n",
    "    def __getitem__(self, idx):\n",
    "        return self.images[idx]"
   ],
   "id": "6abfbebde9d21ec1",
   "outputs": [],
   "execution_count": 2
  },
  {
   "metadata": {
    "id": "903767f66528d506",
    "ExecuteTime": {
     "end_time": "2025-05-26T21:39:07.574083Z",
     "start_time": "2025-05-26T21:39:07.570879Z"
    }
   },
   "cell_type": "code",
   "source": [
    "BATCH_SIZE = 64"
   ],
   "id": "903767f66528d506",
   "outputs": [],
   "execution_count": 3
  },
  {
   "metadata": {
    "id": "902c70b93dba3cb",
    "ExecuteTime": {
     "end_time": "2025-05-26T21:39:07.650126Z",
     "start_time": "2025-05-26T21:39:07.584382Z"
    }
   },
   "cell_type": "code",
   "source": [
    "device = torch.device(\"cuda\" if torch.cuda.is_available() else \"cpu\")\n",
    "device"
   ],
   "id": "902c70b93dba3cb",
   "outputs": [
    {
     "data": {
      "text/plain": [
       "device(type='cuda')"
      ]
     },
     "execution_count": 4,
     "metadata": {},
     "output_type": "execute_result"
    }
   ],
   "execution_count": 4
  },
  {
   "metadata": {
    "ExecuteTime": {
     "end_time": "2025-05-26T21:39:08.363785Z",
     "start_time": "2025-05-26T21:39:08.359422Z"
    }
   },
   "cell_type": "code",
   "source": [
    "class PermuteChannelsAxis:\n",
    "    \n",
    "    def __call__(self, x):\n",
    "        return x.permute(2, 0, 1)"
   ],
   "id": "f69a989c213f9eb3",
   "outputs": [],
   "execution_count": 5
  },
  {
   "metadata": {
    "id": "4970ebaee6f37301",
    "ExecuteTime": {
     "end_time": "2025-05-26T21:39:08.432014Z",
     "start_time": "2025-05-26T21:39:08.427577Z"
    }
   },
   "cell_type": "code",
   "source": [
    "transforms = torchvision.transforms.Compose([\n",
    "    PermuteChannelsAxis(),\n",
    "    torchvision.transforms.Normalize(0.5, 0.5)\n",
    "])"
   ],
   "id": "4970ebaee6f37301",
   "outputs": [],
   "execution_count": 6
  },
  {
   "metadata": {
    "id": "92561656a4beaff2",
    "ExecuteTime": {
     "end_time": "2025-05-26T21:39:09.619667Z",
     "start_time": "2025-05-26T21:39:08.489207Z"
    }
   },
   "cell_type": "code",
   "source": [
    "images = os.path.join(\"data/sprites.npy\")\n",
    "labels = os.path.join(\"data/sprites_labels.npy\")\n",
    "\n",
    "label = 0\n",
    "\n",
    "sprites = SubsetSprites(\n",
    "    images=images,\n",
    "    labels=labels,\n",
    "    label=np.eye(1, 5, label)[0],\n",
    "    transform=transforms\n",
    ")\n",
    "\n",
    "dataloader = DataLoader(\n",
    "    dataset=sprites,\n",
    "    shuffle=True,\n",
    "    batch_size=BATCH_SIZE,\n",
    ")"
   ],
   "id": "92561656a4beaff2",
   "outputs": [],
   "execution_count": 7
  },
  {
   "metadata": {
    "id": "61658a8d496c036d"
   },
   "cell_type": "markdown",
   "source": [
    "### Looking at the data\n",
    "\n",
    "In the following cells we take a look at the data"
   ],
   "id": "61658a8d496c036d"
  },
  {
   "metadata": {
    "id": "48a1a38688c31573",
    "ExecuteTime": {
     "end_time": "2025-05-26T21:39:09.735925Z",
     "start_time": "2025-05-26T21:39:09.637263Z"
    }
   },
   "cell_type": "code",
   "source": "samples = next(iter(dataloader)).to(\"cpu\")",
   "id": "48a1a38688c31573",
   "outputs": [],
   "execution_count": 8
  },
  {
   "metadata": {
    "id": "26ef1181e6588ccc",
    "outputId": "0ba851c8-5181-4623-9208-0ab66f880d19",
    "colab": {
     "base_uri": "https://localhost:8080/",
     "height": 350
    },
    "ExecuteTime": {
     "end_time": "2025-05-26T21:39:10.305820Z",
     "start_time": "2025-05-26T21:39:09.780730Z"
    }
   },
   "cell_type": "code",
   "source": [
    "samples = samples[:10,:,:,:] / 2 + 0.5 # Undo the normalization when showing the images\n",
    "\n",
    "fig, axis = plt.subplots(2, 5)\n",
    "axis = axis.flatten()\n",
    "\n",
    "for i in range(10):\n",
    "    axis[i].imshow(samples[i].permute(1, 2, 0))\n",
    "\n",
    "plt.show()"
   ],
   "id": "26ef1181e6588ccc",
   "outputs": [
    {
     "data": {
      "text/plain": [
       "<Figure size 640x480 with 10 Axes>"
      ],
      "image/png": "[encoded data removed]"
     },
     "metadata": {},
     "output_type": "display_data"
    }
   ],
   "execution_count": 9
  },
  {
   "metadata": {
    "id": "ea6655bf4a1877bb"
   },
   "cell_type": "markdown",
   "source": [
    "### Creating our networks\n",
    "\n",
    "Creating the generator and discriminator network and it's necessary blocks and modules."
   ],
   "id": "ea6655bf4a1877bb"
  },
  {
   "metadata": {
    "id": "6543ed9232cc222b",
    "ExecuteTime": {
     "end_time": "2025-05-26T21:39:10.336666Z",
     "start_time": "2025-05-26T21:39:10.332240Z"
    }
   },
   "cell_type": "code",
   "source": [
    "class PrintShape(nn.Module):\n",
    "    \"\"\"\n",
    "    Neural network model used for debugging the shape.\n",
    "    \"\"\"\n",
    "\n",
    "    def forward(self, x):\n",
    "        print(x.shape)\n",
    "        return x"
   ],
   "id": "6543ed9232cc222b",
   "outputs": [],
   "execution_count": 10
  },
  {
   "metadata": {
    "id": "9938a5537649349a",
    "ExecuteTime": {
     "end_time": "2025-05-26T21:39:10.373835Z",
     "start_time": "2025-05-26T21:39:10.368548Z"
    }
   },
   "cell_type": "code",
   "source": [
    "class GeneratorBlock(nn.Module):\n",
    "\n",
    "    def __init__(\n",
    "            self,\n",
    "            in_channels,\n",
    "            out_channels,\n",
    "            kernel_size=4,\n",
    "            stride=2,\n",
    "            padding=1,\n",
    "            **kwargs\n",
    "    ):\n",
    "        super().__init__(**kwargs)\n",
    "        self.conv_trans2d = nn.ConvTranspose2d(\n",
    "            in_channels=in_channels,\n",
    "            out_channels=out_channels,\n",
    "            kernel_size=kernel_size,\n",
    "            stride=stride,\n",
    "            padding=padding,\n",
    "        )\n",
    "        self.layer_norm = nn.BatchNorm2d(out_channels)\n",
    "        self.activation = nn.ReLU()\n",
    "\n",
    "    def forward(self, x):\n",
    "        return self.activation(self.layer_norm(self.conv_trans2d(x)))"
   ],
   "id": "9938a5537649349a",
   "outputs": [],
   "execution_count": 11
  },
  {
   "metadata": {
    "id": "a5fb358e10815fd5",
    "ExecuteTime": {
     "end_time": "2025-05-26T21:39:10.408474Z",
     "start_time": "2025-05-26T21:39:10.403772Z"
    }
   },
   "cell_type": "code",
   "source": [
    "class Generator(nn.Module):\n",
    "\n",
    "    def __init__(self, **kwargs):\n",
    "        super().__init__(**kwargs)\n",
    "\n",
    "        n_G = 32\n",
    "        self.net = nn.Sequential(\n",
    "            GeneratorBlock(\n",
    "                in_channels=100,\n",
    "                out_channels=n_G * 4,\n",
    "                kernel_size=4,\n",
    "                stride=1,\n",
    "                padding=0,\n",
    "            ), # Output: BATCH_SIZE x 64 x 4 x 4\n",
    "            GeneratorBlock(\n",
    "                in_channels=n_G * 4,\n",
    "                out_channels=n_G * 2,\n",
    "                kernel_size=4,\n",
    "                stride=2,\n",
    "                padding=1,\n",
    "            ), # Output: BATCH_SIZE x 32 x 8 x 8\n",
    "            nn.ConvTranspose2d(\n",
    "                in_channels=n_G * 2,\n",
    "                out_channels=3,\n",
    "                kernel_size=4,\n",
    "                stride=2,\n",
    "                padding=1\n",
    "            ), nn.Tanh()  # Output: BATCH_SIZE x 3 x 16 x 16\n",
    "        )\n",
    "\n",
    "    def forward(self, x):\n",
    "        return self.net(x)"
   ],
   "id": "a5fb358e10815fd5",
   "outputs": [],
   "execution_count": 12
  },
  {
   "metadata": {
    "id": "629808e96c530b41",
    "ExecuteTime": {
     "end_time": "2025-05-26T21:39:10.446679Z",
     "start_time": "2025-05-26T21:39:10.441685Z"
    }
   },
   "cell_type": "code",
   "source": [
    "class DiscriminatorBlock(nn.Module):\n",
    "\n",
    "    def __init__(\n",
    "            self,\n",
    "            in_channels: int,\n",
    "            out_channels: int,\n",
    "            kernel_size: int,\n",
    "            stride: int,\n",
    "            padding: int,\n",
    "            alpha: float,\n",
    "            **kwargs\n",
    "    ):\n",
    "\n",
    "        super().__init__(**kwargs)\n",
    "\n",
    "        self.conv = nn.Conv2d(\n",
    "            in_channels=in_channels,\n",
    "            out_channels=out_channels,\n",
    "            kernel_size=kernel_size,\n",
    "            stride=stride,\n",
    "            padding=padding,\n",
    "        )\n",
    "        self.batch_norm = nn.BatchNorm2d(out_channels)\n",
    "        self.activation = nn.LeakyReLU(alpha)\n",
    "\n",
    "    def forward(self, x):\n",
    "        return self.activation(self.batch_norm(self.conv(x)))"
   ],
   "id": "629808e96c530b41",
   "outputs": [],
   "execution_count": 13
  },
  {
   "metadata": {
    "id": "d38e3d1112875063",
    "ExecuteTime": {
     "end_time": "2025-05-26T21:39:10.473960Z",
     "start_time": "2025-05-26T21:39:10.468631Z"
    }
   },
   "cell_type": "code",
   "source": [
    "class Discriminator(nn.Module):\n",
    "\n",
    "    def __init__(self, alpha: float, **kwargs):\n",
    "        super().__init__(**kwargs)\n",
    "\n",
    "        self.net = nn.Sequential(\n",
    "            DiscriminatorBlock(\n",
    "                in_channels=3,\n",
    "                out_channels=64,\n",
    "                kernel_size=4,\n",
    "                stride=2,\n",
    "                padding=1,\n",
    "                alpha=alpha,\n",
    "            ),  # Output: BATCH_SIZE x 16 x 8 x 8\n",
    "            DiscriminatorBlock(\n",
    "                in_channels=64,\n",
    "                out_channels=128,\n",
    "                kernel_size=4,\n",
    "                stride=2,\n",
    "                padding=1,\n",
    "                alpha=alpha,\n",
    "            ),  # Output: BATCH_SIZE x 32 x 4 x 4\n",
    "            nn.Conv2d(in_channels=128, out_channels=1, kernel_size=4, stride=1, padding=0),\n",
    "            nn.Sigmoid()\n",
    "        )\n",
    "\n",
    "    def forward(self, x):\n",
    "        return self.net(x)"
   ],
   "id": "d38e3d1112875063",
   "outputs": [],
   "execution_count": 14
  },
  {
   "metadata": {
    "id": "52de0b63a8797041",
    "ExecuteTime": {
     "end_time": "2025-05-26T21:39:10.507810Z",
     "start_time": "2025-05-26T21:39:10.497798Z"
    }
   },
   "cell_type": "code",
   "source": [
    "class GAN:\n",
    "\n",
    "    def __init__(\n",
    "            self,\n",
    "            alpha: float = 0.2,\n",
    "            lr: float = 0.0002,\n",
    "            betas: tuple[float, float] = (0.5, 0.999),\n",
    "            checkpoint: dict = None\n",
    "    ):\n",
    "        \n",
    "        self._gen = Generator().to(device)\n",
    "        self._dis = Discriminator(alpha).to(device)\n",
    "        \n",
    "        self._gen_optim = torch.optim.Adam(\n",
    "            params=self._gen.parameters(),\n",
    "            lr=lr,\n",
    "            betas=betas,\n",
    "        )\n",
    "        self._dis_optim = torch.optim.Adam(\n",
    "            params=self._dis.parameters(),\n",
    "            lr=lr,\n",
    "            betas=betas,\n",
    "        )\n",
    "        \n",
    "        if checkpoint:\n",
    "            checkpoint = torch.load(checkpoint, map_location=device)\n",
    "            self._gen.load_state_dict(checkpoint[\"gen\"])\n",
    "            self._dis.load_state_dict(checkpoint[\"dis\"])\n",
    "            self._gen_optim.load_state_dict(checkpoint[\"gen_optim\"])\n",
    "            self._dis_optim.load_state_dict(checkpoint[\"dis_optim\"])\n",
    "            self.epochs = checkpoint[\"epochs\"]\n",
    "        else:\n",
    "            self.epochs = 0\n",
    "\n",
    "        self._loss = nn.BCELoss()\n",
    "\n",
    "    def train(\n",
    "            self,\n",
    "            data: DataLoader,\n",
    "            epochs: int = 10,\n",
    "            print_losses: bool = True,\n",
    "    ):\n",
    "\n",
    "        for epoch in range(epochs):\n",
    "            D_losses = []\n",
    "            G_losses = []\n",
    "\n",
    "            for real_X in tqdm(data, f\"Epoch {self.epochs + 1}\"):\n",
    "\n",
    "                batch_size = real_X.shape\n",
    "\n",
    "                # Updating discriminator\n",
    "                Z = torch.normal(0, 1, size=(BATCH_SIZE, 100, 1, 1), device=device)\n",
    "\n",
    "                fake_X = self._gen(Z).detach()\n",
    "                fake_Y = self._dis(fake_X)\n",
    "\n",
    "                real_Y = self._dis(real_X)\n",
    "\n",
    "                ones = torch.ones_like(real_Y)\n",
    "                zeros = torch.zeros_like(fake_Y)\n",
    "\n",
    "                D_loss = (self._loss(real_Y, ones) + self._loss(fake_Y, zeros)) / 2\n",
    "                D_losses.append(D_loss)\n",
    "\n",
    "                self._dis_optim.zero_grad()\n",
    "                D_loss.backward()\n",
    "                self._dis_optim.step()\n",
    "\n",
    "                # Updating generator\n",
    "                Z = torch.normal(0, 1, size=(BATCH_SIZE, 100, 1, 1), device=device)\n",
    "\n",
    "                fake_X = self._gen(Z)\n",
    "                fake_Y = self._dis(fake_X)\n",
    "\n",
    "                ones = torch.ones_like(fake_Y)\n",
    "\n",
    "                G_loss = self._loss(fake_Y, ones)\n",
    "                G_losses.append(G_loss)\n",
    "\n",
    "                self._gen_optim.zero_grad()\n",
    "                G_loss.backward()\n",
    "                self._gen_optim.step()\n",
    "                \n",
    "            self.epochs += 1\n",
    "\n",
    "            if print_losses:\n",
    "                print(f\"Average discriminator loss: {sum(D_losses) / len(D_losses):5.2f}\")\n",
    "                print(f\"Average generator loss: {sum(G_losses) / len(G_losses):5.2f}\")\n",
    "\n",
    "    def generate_images(self, images: int) -> torch.Tensor:\n",
    "\n",
    "        Z = torch.normal(0, 1, size=(15, 100, 1, 1), device=device)\n",
    "\n",
    "        with torch.no_grad():\n",
    "            images = gan._gen(Z)\n",
    "        \n",
    "        return images.permute(0, 2, 3, 1)/2+0.5\n",
    "    \n",
    "    def save_checkpoint(self, path: str):\n",
    "        checkpoint = {}\n",
    "        checkpoint[\"gen\"] = self._gen.state_dict()\n",
    "        checkpoint[\"dis\"] = self._dis.state_dict()\n",
    "        checkpoint[\"gen_optim\"] = self._gen_optim.state_dict()\n",
    "        checkpoint[\"dis_optim\"] = self._dis_optim.state_dict()\n",
    "        checkpoint[\"epochs\"] = self.epochs\n",
    "        torch.save(checkpoint, path)"
   ],
   "id": "52de0b63a8797041",
   "outputs": [],
   "execution_count": 15
  },
  {
   "metadata": {
    "id": "b92ba8143ca742b8"
   },
   "cell_type": "markdown",
   "source": [
    "### Training the network"
   ],
   "id": "b92ba8143ca742b8"
  },
  {
   "metadata": {
    "ExecuteTime": {
     "end_time": "2025-05-26T21:39:10.537501Z",
     "start_time": "2025-05-26T21:39:10.533862Z"
    }
   },
   "cell_type": "code",
   "source": [
    "# Change from None to file path if want to load an existing checkpoint\n",
    "# checkpoint = os.path.join(\"checkpoints\", \"checkpoint_23052025_n_G_64_1000_e.pt\")\n",
    "checkpoint = None"
   ],
   "id": "61bf7ab4bfe163eb",
   "outputs": [],
   "execution_count": 16
  },
  {
   "metadata": {
    "id": "1c2c7be5e0019ce4",
    "ExecuteTime": {
     "end_time": "2025-05-26T21:39:10.583842Z",
     "start_time": "2025-05-26T21:39:10.564356Z"
    }
   },
   "cell_type": "code",
   "source": [
    "gan = GAN(\n",
    "    alpha=0.2,\n",
    "    lr=0.0002,\n",
    "    betas=(0.5, 0.999),\n",
    "    checkpoint=checkpoint\n",
    ")"
   ],
   "id": "1c2c7be5e0019ce4",
   "outputs": [],
   "execution_count": 17
  },
  {
   "metadata": {
    "id": "4c347020b44ba21b",
    "outputId": "225ab117-3d8d-4b52-ed71-692505fd480e",
    "colab": {
     "base_uri": "https://localhost:8080/"
    },
    "ExecuteTime": {
     "end_time": "2025-05-26T21:45:31.906179Z",
     "start_time": "2025-05-26T21:43:56.573285Z"
    }
   },
   "cell_type": "code",
   "source": [
    "gan.train(\n",
    "    data=dataloader,\n",
    "    epochs=100,\n",
    "    print_losses=False,\n",
    ")"
   ],
   "id": "4c347020b44ba21b",
   "outputs": [
    {
     "name": "stderr",
     "output_type": "stream",
     "text": [
      "Epoch 101: 100%|██████████| 125/125 [00:01<00:00, 91.55it/s] \n",
      "Epoch 102: 100%|██████████| 125/125 [00:01<00:00, 123.08it/s]\n",
      "Epoch 103: 100%|██████████| 125/125 [00:01<00:00, 120.43it/s]\n",
      "Epoch 104: 100%|██████████| 125/125 [00:01<00:00, 113.73it/s]\n",
      "Epoch 105: 100%|██████████| 125/125 [00:00<00:00, 131.37it/s]\n",
      "Epoch 106: 100%|██████████| 125/125 [00:01<00:00, 109.96it/s]\n",
      "Epoch 107: 100%|██████████| 125/125 [00:01<00:00, 114.61it/s]\n",
      "Epoch 108: 100%|██████████| 125/125 [00:00<00:00, 136.05it/s]\n",
      "Epoch 109: 100%|██████████| 125/125 [00:00<00:00, 143.74it/s]\n",
      "Epoch 110: 100%|██████████| 125/125 [00:00<00:00, 137.14it/s]\n",
      "Epoch 111: 100%|██████████| 125/125 [00:00<00:00, 139.42it/s]\n",
      "Epoch 112: 100%|██████████| 125/125 [00:00<00:00, 144.29it/s]\n",
      "Epoch 113: 100%|██████████| 125/125 [00:00<00:00, 141.12it/s]\n",
      "Epoch 114: 100%|██████████| 125/125 [00:00<00:00, 144.26it/s]\n",
      "Epoch 115: 100%|██████████| 125/125 [00:00<00:00, 145.15it/s]\n",
      "Epoch 116: 100%|██████████| 125/125 [00:00<00:00, 142.45it/s]\n",
      "Epoch 117: 100%|██████████| 125/125 [00:00<00:00, 142.06it/s]\n",
      "Epoch 118: 100%|██████████| 125/125 [00:00<00:00, 149.33it/s]\n",
      "Epoch 119: 100%|██████████| 125/125 [00:00<00:00, 154.59it/s]\n",
      "Epoch 120: 100%|██████████| 125/125 [00:00<00:00, 154.99it/s]\n",
      "Epoch 121: 100%|██████████| 125/125 [00:00<00:00, 149.95it/s]\n",
      "Epoch 122: 100%|██████████| 125/125 [00:00<00:00, 154.61it/s]\n",
      "Epoch 123: 100%|██████████| 125/125 [00:00<00:00, 149.99it/s]\n",
      "Epoch 124: 100%|██████████| 125/125 [00:00<00:00, 151.75it/s]\n",
      "Epoch 125: 100%|██████████| 125/125 [00:00<00:00, 153.89it/s]\n",
      "Epoch 126: 100%|██████████| 125/125 [00:00<00:00, 137.74it/s]\n",
      "Epoch 127: 100%|██████████| 125/125 [00:01<00:00, 118.52it/s]\n",
      "Epoch 128: 100%|██████████| 125/125 [00:00<00:00, 131.85it/s]\n",
      "Epoch 129: 100%|██████████| 125/125 [00:01<00:00, 123.61it/s]\n",
      "Epoch 130: 100%|██████████| 125/125 [00:00<00:00, 134.26it/s]\n",
      "Epoch 131: 100%|██████████| 125/125 [00:01<00:00, 124.82it/s]\n",
      "Epoch 132: 100%|██████████| 125/125 [00:00<00:00, 134.63it/s]\n",
      "Epoch 133: 100%|██████████| 125/125 [00:00<00:00, 135.21it/s]\n",
      "Epoch 134: 100%|██████████| 125/125 [00:00<00:00, 132.06it/s]\n",
      "Epoch 135: 100%|██████████| 125/125 [00:00<00:00, 137.30it/s]\n",
      "Epoch 136: 100%|██████████| 125/125 [00:00<00:00, 141.11it/s]\n",
      "Epoch 137: 100%|██████████| 125/125 [00:00<00:00, 141.02it/s]\n",
      "Epoch 138: 100%|██████████| 125/125 [00:00<00:00, 140.42it/s]\n",
      "Epoch 139: 100%|██████████| 125/125 [00:00<00:00, 143.57it/s]\n",
      "Epoch 140: 100%|██████████| 125/125 [00:00<00:00, 149.91it/s]\n",
      "Epoch 141: 100%|██████████| 125/125 [00:00<00:00, 133.80it/s]\n",
      "Epoch 142: 100%|██████████| 125/125 [00:00<00:00, 148.63it/s]\n",
      "Epoch 143: 100%|██████████| 125/125 [00:00<00:00, 148.03it/s]\n",
      "Epoch 144: 100%|██████████| 125/125 [00:00<00:00, 147.74it/s]\n",
      "Epoch 145: 100%|██████████| 125/125 [00:00<00:00, 145.25it/s]\n",
      "Epoch 146: 100%|██████████| 125/125 [00:00<00:00, 148.25it/s]\n",
      "Epoch 147: 100%|██████████| 125/125 [00:00<00:00, 147.95it/s]\n",
      "Epoch 148: 100%|██████████| 125/125 [00:00<00:00, 148.29it/s]\n",
      "Epoch 149: 100%|██████████| 125/125 [00:00<00:00, 147.24it/s]\n",
      "Epoch 150: 100%|██████████| 125/125 [00:00<00:00, 149.59it/s]\n",
      "Epoch 151: 100%|██████████| 125/125 [00:00<00:00, 146.84it/s]\n",
      "Epoch 152: 100%|██████████| 125/125 [00:00<00:00, 150.43it/s]\n",
      "Epoch 153: 100%|██████████| 125/125 [00:00<00:00, 149.44it/s]\n",
      "Epoch 154: 100%|██████████| 125/125 [00:00<00:00, 154.94it/s]\n",
      "Epoch 155: 100%|██████████| 125/125 [00:00<00:00, 152.71it/s]\n",
      "Epoch 156: 100%|██████████| 125/125 [00:00<00:00, 153.73it/s]\n",
      "Epoch 157: 100%|██████████| 125/125 [00:00<00:00, 153.41it/s]\n",
      "Epoch 158: 100%|██████████| 125/125 [00:00<00:00, 154.34it/s]\n",
      "Epoch 159: 100%|██████████| 125/125 [00:00<00:00, 155.38it/s]\n",
      "Epoch 160: 100%|██████████| 125/125 [00:00<00:00, 153.34it/s]\n",
      "Epoch 161: 100%|██████████| 125/125 [00:00<00:00, 146.75it/s]\n",
      "Epoch 162: 100%|██████████| 125/125 [00:00<00:00, 140.62it/s]\n",
      "Epoch 163: 100%|██████████| 125/125 [00:00<00:00, 135.32it/s]\n",
      "Epoch 164: 100%|██████████| 125/125 [00:00<00:00, 143.90it/s]\n",
      "Epoch 165: 100%|██████████| 125/125 [00:00<00:00, 143.78it/s]\n",
      "Epoch 166: 100%|██████████| 125/125 [00:00<00:00, 145.47it/s]\n",
      "Epoch 167: 100%|██████████| 125/125 [00:01<00:00, 123.78it/s]\n",
      "Epoch 168: 100%|██████████| 125/125 [00:01<00:00, 114.45it/s]\n",
      "Epoch 169: 100%|██████████| 125/125 [00:00<00:00, 129.35it/s]\n",
      "Epoch 170: 100%|██████████| 125/125 [00:01<00:00, 108.96it/s]\n",
      "Epoch 171: 100%|██████████| 125/125 [00:01<00:00, 120.97it/s]\n",
      "Epoch 172: 100%|██████████| 125/125 [00:00<00:00, 125.27it/s]\n",
      "Epoch 173: 100%|██████████| 125/125 [00:00<00:00, 135.75it/s]\n",
      "Epoch 174: 100%|██████████| 125/125 [00:00<00:00, 125.74it/s]\n",
      "Epoch 175: 100%|██████████| 125/125 [00:01<00:00, 116.96it/s]\n",
      "Epoch 176: 100%|██████████| 125/125 [00:01<00:00, 111.53it/s]\n",
      "Epoch 177: 100%|██████████| 125/125 [00:01<00:00, 105.27it/s]\n",
      "Epoch 178: 100%|██████████| 125/125 [00:00<00:00, 132.17it/s]\n",
      "Epoch 179: 100%|██████████| 125/125 [00:00<00:00, 130.64it/s]\n",
      "Epoch 180: 100%|██████████| 125/125 [00:00<00:00, 129.74it/s]\n",
      "Epoch 181: 100%|██████████| 125/125 [00:00<00:00, 132.70it/s]\n",
      "Epoch 182: 100%|██████████| 125/125 [00:00<00:00, 131.20it/s]\n",
      "Epoch 183: 100%|██████████| 125/125 [00:00<00:00, 143.38it/s]\n",
      "Epoch 184: 100%|██████████| 125/125 [00:00<00:00, 137.70it/s]\n",
      "Epoch 185: 100%|██████████| 125/125 [00:00<00:00, 132.45it/s]\n",
      "Epoch 186: 100%|██████████| 125/125 [00:01<00:00, 121.33it/s]\n",
      "Epoch 187: 100%|██████████| 125/125 [00:01<00:00, 102.25it/s]\n",
      "Epoch 188: 100%|██████████| 125/125 [00:01<00:00, 117.95it/s]\n",
      "Epoch 189: 100%|██████████| 125/125 [00:01<00:00, 115.15it/s]\n",
      "Epoch 190: 100%|██████████| 125/125 [00:01<00:00, 121.69it/s]\n",
      "Epoch 191: 100%|██████████| 125/125 [00:01<00:00, 110.82it/s]\n",
      "Epoch 192: 100%|██████████| 125/125 [00:00<00:00, 125.30it/s]\n",
      "Epoch 193: 100%|██████████| 125/125 [00:01<00:00, 110.55it/s]\n",
      "Epoch 194: 100%|██████████| 125/125 [00:01<00:00, 114.54it/s]\n",
      "Epoch 195: 100%|██████████| 125/125 [00:01<00:00, 110.68it/s]\n",
      "Epoch 196: 100%|██████████| 125/125 [00:01<00:00, 106.87it/s]\n",
      "Epoch 197: 100%|██████████| 125/125 [00:01<00:00, 109.70it/s]\n",
      "Epoch 198: 100%|██████████| 125/125 [00:01<00:00, 116.58it/s]\n",
      "Epoch 199: 100%|██████████| 125/125 [00:01<00:00, 109.73it/s]\n",
      "Epoch 200: 100%|██████████| 125/125 [00:01<00:00, 110.15it/s]\n"
     ]
    }
   ],
   "execution_count": 29
  },
  {
   "metadata": {
    "id": "5fc632b1aa8aa1e8"
   },
   "cell_type": "markdown",
   "source": [
    "### Inspecting results\n",
    "Checking if our model did pookie"
   ],
   "id": "5fc632b1aa8aa1e8"
  },
  {
   "metadata": {
    "id": "b4f0c418888a8ca5",
    "ExecuteTime": {
     "end_time": "2025-05-26T21:45:58.510014Z",
     "start_time": "2025-05-26T21:45:58.504552Z"
    }
   },
   "cell_type": "code",
   "source": "images = gan.generate_images(15)",
   "id": "b4f0c418888a8ca5",
   "outputs": [],
   "execution_count": 34
  },
  {
   "metadata": {
    "id": "6f7dda2ea321dc5a",
    "outputId": "75d922e9-32fd-417e-f3f1-b79280287291",
    "colab": {
     "base_uri": "https://localhost:8080/",
     "height": 1000
    },
    "ExecuteTime": {
     "end_time": "2025-05-26T21:45:59.311917Z",
     "start_time": "2025-05-26T21:45:58.767378Z"
    }
   },
   "cell_type": "code",
   "source": [
    "fig, axis = plt.subplots(3, 5)\n",
    "axis = axis.flatten()\n",
    "\n",
    "for i in range(15):\n",
    "    axis[i].imshow(images.cpu()[i])\n",
    "\n",
    "plt.show()"
   ],
   "id": "6f7dda2ea321dc5a",
   "outputs": [
    {
     "data": {
      "text/plain": [
       "<Figure size 640x480 with 15 Axes>"
      ],
      "image/png": "[encoded data removed]"
     },
     "metadata": {},
     "output_type": "display_data"
    }
   ],
   "execution_count": 35
  },
  {
   "metadata": {},
   "cell_type": "markdown",
   "source": [
    "### Saving the model as a checkpoint\n",
    "\n",
    "Saving the networks, and optimizers to continue training on another time point."
   ],
   "id": "72a61a66b77012d3"
  },
  {
   "metadata": {
    "ExecuteTime": {
     "end_time": "2025-05-26T21:39:55.116707Z",
     "start_time": "2025-05-26T21:39:55.113294Z"
    }
   },
   "cell_type": "code",
   "source": [
    "filename = \"checkpoint_23052025_people_n_G_16_1000_e.pt\"\n",
    "path = os.path.join(\"checkpoints\", filename)"
   ],
   "id": "1028797587cdfd79",
   "outputs": [],
   "execution_count": 21
  },
  {
   "metadata": {
    "ExecuteTime": {
     "end_time": "2025-05-26T21:39:55.249362Z",
     "start_time": "2025-05-26T21:39:55.199106Z"
    }
   },
   "cell_type": "code",
   "source": "gan.save_checkpoint(path)",
   "id": "6c27b495f050950",
   "outputs": [],
   "execution_count": 22
  },
  {
   "metadata": {
    "ExecuteTime": {
     "end_time": "2025-05-26T21:39:55.341236Z",
     "start_time": "2025-05-26T21:39:55.339383Z"
    }
   },
   "cell_type": "code",
   "source": "",
   "id": "ef5989dd5087e5be",
   "outputs": [],
   "execution_count": null
  }
 ],
 "metadata": {
  "kernelspec": {
   "display_name": "Python 3 (ipykernel)",
   "name": "python3",
   "language": "python"
  },
  "language_info": {
   "codemirror_mode": {
    "name": "ipython",
    "version": 2
   },
   "file_extension": ".py",
   "mimetype": "text/x-python",
   "name": "python",
   "nbconvert_exporter": "python",
   "pygments_lexer": "ipython2",
   "version": "2.7.6"
  },
  "colab": {
   "provenance": [],
   "gpuType": "T4"
  },
  "accelerator": "GPU"
 },
 "nbformat": 4,
 "nbformat_minor": 5
}
