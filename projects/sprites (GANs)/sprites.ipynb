{
 "cells": [
  {
   "metadata": {},
   "cell_type": "markdown",
   "source": [
    "### Imports\n",
    "\n",
    "The following cell imports all necessary libraries/modules"
   ],
   "id": "ae15ebfc126e17db"
  },
  {
   "cell_type": "code",
   "id": "initial_id",
   "metadata": {
    "collapsed": true,
    "ExecuteTime": {
     "end_time": "2025-05-21T18:40:27.284616Z",
     "start_time": "2025-05-21T18:40:16.299771Z"
    }
   },
   "source": [
    "import torch\n",
    "import torchvision\n",
    "import torch.nn as nn\n",
    "from torch.utils.data import DataLoader, Dataset\n",
    "import os\n",
    "import matplotlib.pyplot as plt\n",
    "from tqdm import tqdm\n",
    "import numpy as np"
   ],
   "outputs": [],
   "execution_count": 1
  },
  {
   "metadata": {},
   "cell_type": "markdown",
   "source": [
    "### Creating dataloader\n",
    "\n",
    "Transforming the data and creating an useful dataloader object to use for training."
   ],
   "id": "65e2ed1d1f70a02d"
  },
  {
   "metadata": {
    "ExecuteTime": {
     "end_time": "2025-05-21T18:41:08.683407Z",
     "start_time": "2025-05-21T18:41:08.665127Z"
    }
   },
   "cell_type": "code",
   "source": [
    "class Sprites(Dataset):\n",
    "    \n",
    "    def __init__(self, images: str, transform=None):\n",
    "        self.images = torch.from_numpy(np.load(images)) / 255\n",
    "        self.transform = transform\n",
    "        \n",
    "    def __len__(self):\n",
    "        return self.images.shape[0]\n",
    "    \n",
    "    def __getitem__(self, idx):\n",
    "        image = self.images[idx]\n",
    "        if self.transform:\n",
    "            image = self.transform(image)\n",
    "        return image"
   ],
   "id": "6abfbebde9d21ec1",
   "outputs": [],
   "execution_count": 2
  },
  {
   "metadata": {
    "ExecuteTime": {
     "end_time": "2025-05-21T17:48:06.349900Z",
     "start_time": "2025-05-21T17:48:06.347130Z"
    }
   },
   "cell_type": "code",
   "source": "BATCH_SIZE = 64",
   "id": "903767f66528d506",
   "outputs": [],
   "execution_count": 43
  },
  {
   "metadata": {
    "ExecuteTime": {
     "end_time": "2025-05-21T17:48:06.709994Z",
     "start_time": "2025-05-21T17:48:06.706869Z"
    }
   },
   "cell_type": "code",
   "source": "device = torch.device(\"cuda\" if torch.cuda.is_available() else \"cpu\")",
   "id": "902c70b93dba3cb",
   "outputs": [],
   "execution_count": 44
  },
  {
   "metadata": {
    "ExecuteTime": {
     "end_time": "2025-05-21T17:48:07.093476Z",
     "start_time": "2025-05-21T17:48:07.091339Z"
    }
   },
   "cell_type": "code",
   "source": [
    "transforms = torchvision.transforms.Compose([\n",
    "    \n",
    "])"
   ],
   "id": "4970ebaee6f37301",
   "outputs": [],
   "execution_count": 45
  },
  {
   "metadata": {
    "ExecuteTime": {
     "end_time": "2025-05-21T17:48:07.673316Z",
     "start_time": "2025-05-21T17:48:07.444647Z"
    }
   },
   "cell_type": "code",
   "source": [
    "images = os.path.join(\"data\", \"sprites.npy\")\n",
    "\n",
    "sprites = Sprites(images=images, transform=transforms)\n",
    "\n",
    "dataloader = DataLoader(\n",
    "    dataset=sprites,\n",
    "    shuffle=True,\n",
    "    batch_size=BATCH_SIZE,\n",
    ")"
   ],
   "id": "92561656a4beaff2",
   "outputs": [],
   "execution_count": 46
  },
  {
   "metadata": {},
   "cell_type": "markdown",
   "source": [
    "### Looking at the data\n",
    "\n",
    "In the following cells we take a look at the data"
   ],
   "id": "61658a8d496c036d"
  },
  {
   "metadata": {
    "ExecuteTime": {
     "end_time": "2025-05-21T17:48:09.713630Z",
     "start_time": "2025-05-21T17:48:09.702945Z"
    }
   },
   "cell_type": "code",
   "source": "samples =  next(iter(dataloader))",
   "id": "48a1a38688c31573",
   "outputs": [],
   "execution_count": 47
  },
  {
   "metadata": {
    "ExecuteTime": {
     "end_time": "2025-05-21T17:48:10.121972Z",
     "start_time": "2025-05-21T17:48:10.115011Z"
    }
   },
   "cell_type": "code",
   "source": "samples[0]",
   "id": "811c92979a88daf9",
   "outputs": [
    {
     "data": {
      "text/plain": [
       "tensor([[[0.9882, 0.9922, 0.9882],\n",
       "         [0.9882, 0.9922, 0.9882],\n",
       "         [0.9843, 0.9922, 0.9882],\n",
       "         [0.9412, 0.9490, 0.9843],\n",
       "         [0.2118, 0.3412, 0.9922],\n",
       "         [0.2745, 0.3647, 0.9804],\n",
       "         [0.1804, 0.3020, 0.9882],\n",
       "         [0.8510, 0.8745, 0.9882],\n",
       "         [0.9686, 0.9765, 0.9882],\n",
       "         [0.4549, 0.5412, 0.9922],\n",
       "         [0.2824, 0.3725, 0.9843],\n",
       "         [0.1216, 0.2627, 0.9922],\n",
       "         [0.8745, 0.8941, 0.9882],\n",
       "         [0.9922, 0.9922, 0.9882],\n",
       "         [0.9882, 0.9922, 0.9882],\n",
       "         [0.9882, 0.9922, 0.9882]],\n",
       "\n",
       "        [[0.9882, 0.9922, 0.9882],\n",
       "         [0.9882, 0.9922, 0.9882],\n",
       "         [0.9765, 0.9843, 0.9882],\n",
       "         [0.6510, 0.7059, 0.9882],\n",
       "         [0.1647, 0.3098, 0.9961],\n",
       "         [0.8314, 0.7020, 0.9373],\n",
       "         [0.4196, 0.4549, 0.9725],\n",
       "         [0.1569, 0.2902, 0.9922],\n",
       "         [0.9451, 0.9529, 0.9922],\n",
       "         [0.1686, 0.3059, 0.9922],\n",
       "         [0.8039, 0.6824, 0.9412],\n",
       "         [0.2745, 0.3725, 0.9843],\n",
       "         [0.2510, 0.3647, 0.9882],\n",
       "         [1.0000, 1.0000, 0.9882],\n",
       "         [0.9882, 0.9922, 0.9882],\n",
       "         [0.9882, 0.9922, 0.9882]],\n",
       "\n",
       "        [[0.9882, 0.9922, 0.9882],\n",
       "         [0.9882, 0.9922, 0.9882],\n",
       "         [0.9765, 0.9843, 0.9882],\n",
       "         [0.6588, 0.7137, 0.9882],\n",
       "         [0.1686, 0.3098, 0.9922],\n",
       "         [0.8275, 0.7020, 0.9333],\n",
       "         [0.4196, 0.4588, 0.9725],\n",
       "         [0.1608, 0.2902, 0.9882],\n",
       "         [0.9294, 0.9412, 0.9882],\n",
       "         [0.1686, 0.3137, 0.9922],\n",
       "         [0.8000, 0.6824, 0.9412],\n",
       "         [0.2745, 0.3725, 0.9843],\n",
       "         [0.2510, 0.3725, 0.9882],\n",
       "         [1.0000, 1.0000, 0.9882],\n",
       "         [0.9882, 0.9922, 0.9882],\n",
       "         [0.9882, 0.9922, 0.9882]],\n",
       "\n",
       "        [[0.9882, 0.9922, 0.9882],\n",
       "         [0.9922, 0.9922, 0.9882],\n",
       "         [0.9765, 0.9843, 0.9882],\n",
       "         [0.6902, 0.7412, 0.9882],\n",
       "         [0.1765, 0.3216, 0.9922],\n",
       "         [0.7569, 0.7059, 0.9373],\n",
       "         [0.3961, 0.4863, 0.9765],\n",
       "         [0.1647, 0.3373, 0.9922],\n",
       "         [0.8431, 0.9098, 0.9843],\n",
       "         [0.1765, 0.3569, 0.9922],\n",
       "         [0.7333, 0.6902, 0.9412],\n",
       "         [0.2588, 0.3725, 0.9843],\n",
       "         [0.3216, 0.4392, 0.9882],\n",
       "         [1.0000, 1.0000, 0.9882],\n",
       "         [0.9882, 0.9922, 0.9882],\n",
       "         [0.9882, 0.9922, 0.9882]],\n",
       "\n",
       "        [[0.9882, 0.9922, 0.9882],\n",
       "         [0.9922, 0.9922, 0.9882],\n",
       "         [0.9843, 0.9922, 0.9882],\n",
       "         [0.8431, 0.9412, 0.9843],\n",
       "         [0.2431, 0.5137, 0.9882],\n",
       "         [0.2039, 0.7176, 0.9765],\n",
       "         [0.2039, 0.7020, 0.9804],\n",
       "         [0.2078, 0.7059, 0.9804],\n",
       "         [0.2039, 0.7020, 0.9804],\n",
       "         [0.2078, 0.7059, 0.9765],\n",
       "         [0.2039, 0.7020, 0.9765],\n",
       "         [0.1725, 0.5020, 0.9843],\n",
       "         [0.6510, 0.8706, 0.9843],\n",
       "         [0.9922, 0.9961, 0.9882],\n",
       "         [0.9882, 0.9922, 0.9882],\n",
       "         [0.9882, 0.9922, 0.9882]],\n",
       "\n",
       "        [[0.9882, 0.9922, 0.9882],\n",
       "         [0.9882, 0.9922, 0.9882],\n",
       "         [0.9961, 1.0000, 0.9961],\n",
       "         [0.2431, 0.6157, 0.8471],\n",
       "         [0.2118, 0.6902, 0.9686],\n",
       "         [0.2314, 0.6627, 0.9020],\n",
       "         [0.2902, 0.5843, 0.7412],\n",
       "         [0.2078, 0.6980, 0.9686],\n",
       "         [0.2078, 0.6941, 0.9686],\n",
       "         [0.3412, 0.5216, 0.6118],\n",
       "         [0.2039, 0.7020, 0.9804],\n",
       "         [0.2078, 0.7059, 0.9882],\n",
       "         [0.2667, 0.5647, 0.7725],\n",
       "         [1.0000, 1.0000, 0.9922],\n",
       "         [0.9882, 0.9922, 0.9882],\n",
       "         [0.9882, 0.9922, 0.9882]],\n",
       "\n",
       "        [[0.9882, 0.9922, 0.9882],\n",
       "         [0.9882, 0.9922, 0.9882],\n",
       "         [1.0000, 1.0000, 1.0000],\n",
       "         [0.1725, 0.5725, 0.8275],\n",
       "         [0.2078, 0.6941, 0.9686],\n",
       "         [0.2353, 0.6549, 0.8863],\n",
       "         [0.3137, 0.5647, 0.6941],\n",
       "         [0.2039, 0.7020, 0.9843],\n",
       "         [0.2039, 0.7020, 0.9804],\n",
       "         [0.3686, 0.4824, 0.5333],\n",
       "         [0.2039, 0.7059, 0.9804],\n",
       "         [0.2078, 0.7137, 0.9922],\n",
       "         [0.2510, 0.5333, 0.7373],\n",
       "         [1.0000, 1.0000, 0.9922],\n",
       "         [0.9882, 0.9922, 0.9882],\n",
       "         [0.9882, 0.9922, 0.9882]],\n",
       "\n",
       "        [[0.9882, 0.9922, 0.9882],\n",
       "         [0.9882, 0.9922, 0.9882],\n",
       "         [0.9922, 0.9922, 0.9882],\n",
       "         [0.1686, 0.5686, 0.8235],\n",
       "         [0.2078, 0.6980, 0.9765],\n",
       "         [0.2078, 0.6980, 0.9725],\n",
       "         [0.2000, 0.7059, 0.9843],\n",
       "         [0.4784, 0.3490, 0.2588],\n",
       "         [0.4392, 0.3882, 0.3529],\n",
       "         [0.2118, 0.6902, 0.9569],\n",
       "         [0.2039, 0.7020, 0.9765],\n",
       "         [0.2039, 0.7098, 0.9922],\n",
       "         [0.2510, 0.5333, 0.7373],\n",
       "         [0.9961, 0.9961, 0.9843],\n",
       "         [0.9882, 0.9922, 0.9882],\n",
       "         [0.9882, 0.9922, 0.9882]],\n",
       "\n",
       "        [[0.9882, 0.9922, 0.9882],\n",
       "         [1.0000, 1.0000, 1.0000],\n",
       "         [0.6392, 0.5255, 0.4510],\n",
       "         [0.1843, 0.5373, 0.7804],\n",
       "         [0.2039, 0.6980, 0.9725],\n",
       "         [0.2078, 0.7059, 0.9882],\n",
       "         [0.2078, 0.7059, 0.9882],\n",
       "         [0.1882, 0.7333, 1.0000],\n",
       "         [0.1882, 0.7294, 1.0000],\n",
       "         [0.2039, 0.7059, 0.9843],\n",
       "         [0.2039, 0.7098, 0.9882],\n",
       "         [0.2078, 0.6039, 0.8510],\n",
       "         [0.2392, 0.5137, 0.7216],\n",
       "         [0.7686, 0.6980, 0.6471],\n",
       "         [0.9922, 0.9922, 0.9882],\n",
       "         [0.9882, 0.9922, 0.9882]],\n",
       "\n",
       "        [[0.9843, 0.9922, 0.9882],\n",
       "         [0.3608, 0.6000, 0.7765],\n",
       "         [0.2196, 0.7216, 1.0000],\n",
       "         [0.2078, 0.6235, 0.8784],\n",
       "         [0.2078, 0.5176, 0.7412],\n",
       "         [0.2078, 0.5176, 0.7412],\n",
       "         [0.2078, 0.5176, 0.7412],\n",
       "         [0.2078, 0.5176, 0.7451],\n",
       "         [0.2078, 0.5176, 0.7412],\n",
       "         [0.2078, 0.5176, 0.7412],\n",
       "         [0.2078, 0.5176, 0.7412],\n",
       "         [0.2078, 0.4902, 0.7098],\n",
       "         [0.2078, 0.7098, 0.9882],\n",
       "         [0.2941, 0.5922, 0.7529],\n",
       "         [0.8667, 0.8549, 0.8314],\n",
       "         [0.9843, 0.9882, 0.9804]],\n",
       "\n",
       "        [[0.9843, 0.9922, 0.9882],\n",
       "         [0.3686, 0.6039, 0.7765],\n",
       "         [0.2118, 0.7137, 0.9922],\n",
       "         [0.2039, 0.6980, 0.9765],\n",
       "         [0.2078, 0.5529, 0.7882],\n",
       "         [0.2039, 0.5412, 0.7725],\n",
       "         [0.2039, 0.5412, 0.7686],\n",
       "         [0.2078, 0.5412, 0.7686],\n",
       "         [0.2078, 0.5412, 0.7686],\n",
       "         [0.2039, 0.5412, 0.7686],\n",
       "         [0.2078, 0.5373, 0.7686],\n",
       "         [0.2000, 0.6706, 0.9373],\n",
       "         [0.2078, 0.6941, 0.9686],\n",
       "         [0.2941, 0.5882, 0.7490],\n",
       "         [0.8706, 0.8549, 0.8392],\n",
       "         [0.9843, 0.9882, 0.9804]],\n",
       "\n",
       "        [[0.9843, 0.9922, 0.9882],\n",
       "         [0.3608, 0.5961, 0.7765],\n",
       "         [0.2118, 0.7137, 0.9922],\n",
       "         [0.2078, 0.6196, 0.8784],\n",
       "         [0.2039, 0.6902, 0.9608],\n",
       "         [0.2039, 0.6980, 0.9765],\n",
       "         [0.2039, 0.7020, 0.9804],\n",
       "         [0.2039, 0.7020, 0.9804],\n",
       "         [0.2039, 0.7020, 0.9804],\n",
       "         [0.2078, 0.7020, 0.9765],\n",
       "         [0.2039, 0.7020, 0.9804],\n",
       "         [0.2118, 0.5294, 0.7529],\n",
       "         [0.2078, 0.7098, 0.9843],\n",
       "         [0.2902, 0.5882, 0.7490],\n",
       "         [0.8706, 0.8549, 0.8353],\n",
       "         [0.9843, 0.9882, 0.9804]],\n",
       "\n",
       "        [[0.9882, 0.9922, 0.9882],\n",
       "         [0.3216, 0.5804, 0.7686],\n",
       "         [0.2039, 0.7333, 1.0000],\n",
       "         [0.2118, 0.6235, 0.8784],\n",
       "         [0.2039, 0.6863, 0.9608],\n",
       "         [0.2039, 0.6980, 0.9765],\n",
       "         [0.2078, 0.7020, 0.9804],\n",
       "         [0.2078, 0.7020, 0.9765],\n",
       "         [0.2078, 0.7020, 0.9804],\n",
       "         [0.2039, 0.7020, 0.9765],\n",
       "         [0.2039, 0.7020, 0.9804],\n",
       "         [0.2157, 0.5176, 0.7412],\n",
       "         [0.2118, 0.7216, 1.0000],\n",
       "         [0.2784, 0.5922, 0.7608],\n",
       "         [0.8627, 0.8510, 0.8314],\n",
       "         [0.9843, 0.9882, 0.9804]],\n",
       "\n",
       "        [[0.9882, 0.9922, 0.9882],\n",
       "         [1.0000, 1.0000, 1.0000],\n",
       "         [0.5490, 0.4078, 0.3020],\n",
       "         [0.2706, 0.6353, 0.8745],\n",
       "         [0.2078, 0.6980, 0.9725],\n",
       "         [0.2039, 0.7020, 0.9804],\n",
       "         [0.2039, 0.7020, 0.9765],\n",
       "         [0.2039, 0.7059, 0.9882],\n",
       "         [0.2078, 0.7059, 0.9882],\n",
       "         [0.2078, 0.7020, 0.9804],\n",
       "         [0.2039, 0.7020, 0.9804],\n",
       "         [0.1922, 0.6863, 0.9647],\n",
       "         [0.3725, 0.5882, 0.7490],\n",
       "         [0.7294, 0.6431, 0.5804],\n",
       "         [0.9922, 0.9922, 0.9882],\n",
       "         [0.9882, 0.9922, 0.9882]],\n",
       "\n",
       "        [[0.9843, 0.9843, 0.9843],\n",
       "         [0.9882, 0.9922, 0.9843],\n",
       "         [0.9765, 0.9843, 0.9843],\n",
       "         [0.6588, 0.7882, 0.8824],\n",
       "         [0.2157, 0.7059, 0.9804],\n",
       "         [0.2078, 0.6980, 0.9725],\n",
       "         [0.2078, 0.7176, 0.9961],\n",
       "         [0.1608, 0.4902, 0.7294],\n",
       "         [0.1647, 0.5137, 0.7569],\n",
       "         [0.2039, 0.7059, 0.9882],\n",
       "         [0.2039, 0.7020, 0.9804],\n",
       "         [0.1529, 0.5059, 0.7529],\n",
       "         [1.0000, 1.0000, 1.0000],\n",
       "         [0.9882, 0.9922, 0.9882],\n",
       "         [0.9882, 0.9922, 0.9882],\n",
       "         [0.9882, 0.9922, 0.9882]],\n",
       "\n",
       "        [[0.8000, 0.7059, 0.7882],\n",
       "         [0.9569, 0.9961, 0.9020],\n",
       "         [0.9765, 0.9843, 0.9804],\n",
       "         [0.6549, 0.7922, 0.8863],\n",
       "         [0.2196, 0.5059, 0.7137],\n",
       "         [0.2118, 0.6706, 0.9412],\n",
       "         [0.1804, 0.5451, 0.7961],\n",
       "         [1.0000, 1.0000, 1.0000],\n",
       "         [0.9373, 0.9647, 0.9725],\n",
       "         [0.2039, 0.5961, 0.8471],\n",
       "         [0.2078, 0.6588, 0.9255],\n",
       "         [0.1529, 0.4980, 0.7490],\n",
       "         [1.0000, 1.0000, 1.0000],\n",
       "         [0.9882, 0.9922, 0.9882],\n",
       "         [0.9882, 0.9922, 0.9882],\n",
       "         [0.9882, 0.9922, 0.9882]]])"
      ]
     },
     "execution_count": 48,
     "metadata": {},
     "output_type": "execute_result"
    }
   ],
   "execution_count": 48
  },
  {
   "metadata": {
    "ExecuteTime": {
     "end_time": "2025-05-21T17:48:12.792014Z",
     "start_time": "2025-05-21T17:48:12.640271Z"
    }
   },
   "cell_type": "code",
   "source": [
    "samples = samples[:10,:,:,:]\n",
    "\n",
    "fig, axis = plt.subplots(2, 5)\n",
    "axis = axis.flatten()\n",
    "\n",
    "for i in range(10):\n",
    "    axis[i].imshow(samples[i])\n",
    "\n",
    "plt.show()"
   ],
   "id": "26ef1181e6588ccc",
   "outputs": [
    {
     "data": {
      "text/plain": [
       "<Figure size 640x480 with 10 Axes>"
      ],
      "image/png": "[encoded data removed]"
     },
     "metadata": {},
     "output_type": "display_data"
    }
   ],
   "execution_count": 49
  },
  {
   "metadata": {},
   "cell_type": "markdown",
   "source": [
    "### Creating our networks\n",
    "\n",
    "Creating the generator and discriminator network and it's necessary blocks and modules."
   ],
   "id": "ea6655bf4a1877bb"
  },
  {
   "metadata": {
    "ExecuteTime": {
     "end_time": "2025-05-21T17:16:27.465569Z",
     "start_time": "2025-05-21T17:16:27.460493Z"
    }
   },
   "cell_type": "code",
   "source": [
    "class PrintShape(nn.Module):\n",
    "    \"\"\"\n",
    "    Neural network model used for debugging the shape.\n",
    "    \"\"\"\n",
    "    \n",
    "    def forward(self, x):\n",
    "        print(x.shape)\n",
    "        return x"
   ],
   "id": "6543ed9232cc222b",
   "outputs": [],
   "execution_count": 280
  },
  {
   "metadata": {
    "ExecuteTime": {
     "end_time": "2025-05-21T17:16:27.490458Z",
     "start_time": "2025-05-21T17:16:27.487391Z"
    }
   },
   "cell_type": "code",
   "source": [
    "class GeneratorBlock(nn.Module):\n",
    "    \n",
    "    def __init__(\n",
    "            self,\n",
    "            in_channels,\n",
    "            out_channels,\n",
    "            kernel_size=4,\n",
    "            stride=2,\n",
    "            padding=1,\n",
    "            **kwargs\n",
    "    ):\n",
    "        super().__init__(**kwargs)\n",
    "        self.conv_trans2d = nn.ConvTranspose2d(\n",
    "            in_channels=in_channels,\n",
    "            out_channels=out_channels,\n",
    "            kernel_size=kernel_size,\n",
    "            stride=stride,\n",
    "            padding=padding,\n",
    "        )\n",
    "        self.batch_norm = nn.BatchNorm2d(out_channels)\n",
    "        self.activation = nn.ReLU()\n",
    "        \n",
    "    def forward(self, x):\n",
    "        return self.activation(self.batch_norm(self.conv_trans2d(x)))"
   ],
   "id": "9938a5537649349a",
   "outputs": [],
   "execution_count": 281
  },
  {
   "metadata": {
    "ExecuteTime": {
     "end_time": "2025-05-21T17:16:27.518348Z",
     "start_time": "2025-05-21T17:16:27.513644Z"
    }
   },
   "cell_type": "code",
   "source": [
    "class Generator(nn.Module):\n",
    "    \n",
    "    def __init__(self, **kwargs):\n",
    "        super().__init__(**kwargs)\n",
    "        \n",
    "        n_G = 16\n",
    "        self.net = nn.Sequential(\n",
    "            GeneratorBlock(\n",
    "                in_channels=100,\n",
    "                out_channels=n_G * 4,\n",
    "                kernel_size=4,\n",
    "                stride=1,\n",
    "                padding=0,\n",
    "            ), # Output: BATCH_SIZE x 64 x 4 x 4\n",
    "            GeneratorBlock(\n",
    "                in_channels=n_G * 4,\n",
    "                out_channels=n_G * 2,\n",
    "                kernel_size=4,\n",
    "                stride=2,\n",
    "                padding=1,\n",
    "            ), # Output: BATCH_SIZE x 32 x 8 x 8\n",
    "            nn.ConvTranspose2d(\n",
    "                in_channels=n_G * 2,\n",
    "                out_channels=3,\n",
    "                kernel_size=4,\n",
    "                stride=2,\n",
    "                padding=1\n",
    "            ), nn.Tanh()  # Output: BATCH_SIZE x 3 x 16 x 16\n",
    "        )\n",
    "        \n",
    "    def forward(self, x):\n",
    "        return self.net(x)"
   ],
   "id": "a5fb358e10815fd5",
   "outputs": [],
   "execution_count": 282
  },
  {
   "metadata": {
    "ExecuteTime": {
     "end_time": "2025-05-21T17:16:27.548976Z",
     "start_time": "2025-05-21T17:16:27.544847Z"
    }
   },
   "cell_type": "code",
   "source": [
    "class DiscriminatorBlock(nn.Module):\n",
    "    \n",
    "    def __init__(\n",
    "            self,\n",
    "            in_channels: int,\n",
    "            out_channels: int,\n",
    "            kernel_size: int,\n",
    "            stride: int,\n",
    "            padding: int,\n",
    "            alpha: float,\n",
    "            **kwargs\n",
    "    ):\n",
    "        \n",
    "        super().__init__(**kwargs)\n",
    "        \n",
    "        self.conv = nn.Conv2d(\n",
    "            in_channels=in_channels,\n",
    "            out_channels=out_channels,\n",
    "            kernel_size=kernel_size,\n",
    "            stride=stride,\n",
    "            padding=padding,\n",
    "        )\n",
    "        self.batch_norm = nn.BatchNorm2d(out_channels)\n",
    "        self.activation = nn.LeakyReLU(alpha)\n",
    "        \n",
    "    def forward(self, x):\n",
    "        return self.activation(self.batch_norm(self.conv(x)))"
   ],
   "id": "629808e96c530b41",
   "outputs": [],
   "execution_count": 283
  },
  {
   "metadata": {
    "ExecuteTime": {
     "end_time": "2025-05-21T17:16:27.579385Z",
     "start_time": "2025-05-21T17:16:27.574387Z"
    }
   },
   "cell_type": "code",
   "source": [
    "class Discriminator(nn.Module):\n",
    "    \n",
    "    def __init__(self, alpha: float, **kwargs):\n",
    "        super().__init__(**kwargs)\n",
    "        \n",
    "        self.net = nn.Sequential(\n",
    "            DiscriminatorBlock(\n",
    "                in_channels=3,\n",
    "                out_channels=16,\n",
    "                kernel_size=4,\n",
    "                stride=2,\n",
    "                padding=1,\n",
    "                alpha=alpha,\n",
    "            ),  # Output: BATCH_SIZE x 16 x 8 x 8\n",
    "            DiscriminatorBlock(\n",
    "                in_channels=16,\n",
    "                out_channels=32,\n",
    "                kernel_size=4,\n",
    "                stride=2,\n",
    "                padding=1,\n",
    "                alpha=alpha,\n",
    "            ),  # Output: BATCH_SIZE x 32 x 4 x 4\n",
    "            nn.Conv2d(in_channels=32, out_channels=1, kernel_size=4, stride=1, padding=0),\n",
    "            nn.Sigmoid()\n",
    "        )\n",
    "        \n",
    "    def forward(self, x):\n",
    "        return self.net(x)"
   ],
   "id": "d38e3d1112875063",
   "outputs": [],
   "execution_count": 284
  },
  {
   "metadata": {
    "ExecuteTime": {
     "end_time": "2025-05-21T17:16:27.608405Z",
     "start_time": "2025-05-21T17:16:27.602065Z"
    }
   },
   "cell_type": "code",
   "source": [
    "class GAN:\n",
    "    \n",
    "    def __init__(\n",
    "            self, \n",
    "            alpha: float = 0.2,\n",
    "            lr: float = 0.0002,\n",
    "            betas: tuple[float, float] = (0.5, 0.999)\n",
    "    ):\n",
    "        \n",
    "        self._gen = Generator().to(device)\n",
    "        self._dis = Discriminator(alpha).to(device)\n",
    "        \n",
    "        self._gen_optim = torch.optim.Adam(\n",
    "            params=self._gen.parameters(),\n",
    "            lr=lr,\n",
    "            betas=betas,\n",
    "        )\n",
    "        self._dis_optim = torch.optim.Adam(\n",
    "            params=self._dis.parameters(),\n",
    "            lr=lr,\n",
    "            betas=betas,\n",
    "        )\n",
    "        \n",
    "        self._loss = nn.BCELoss()\n",
    "        \n",
    "    def train(\n",
    "            self,\n",
    "            data: DataLoader,\n",
    "            epochs: int = 10,\n",
    "    ):\n",
    "        \n",
    "        for epoch in range(epochs):\n",
    "            D_losses = []\n",
    "            G_losses = []\n",
    "            \n",
    "            for real_X, _ in tqdm(data, f\"Epoch {epoch +1}\"):\n",
    "                \n",
    "                batch_size = real_X.shape\n",
    "                \n",
    "                # Updating discriminator\n",
    "                Z = torch.normal(0, 1, size=(BATCH_SIZE, 100, 1, 1), device=device)\n",
    "                \n",
    "                fake_X = self._gen(Z).detach()\n",
    "                fake_Y = self._dis(fake_X)\n",
    "                \n",
    "                real_Y = self._dis(real_X)\n",
    "                \n",
    "                ones = torch.ones_like(real_Y)\n",
    "                zeros = torch.zeros_like(fake_Y)\n",
    "                \n",
    "                D_loss = (self._loss(real_Y, ones) + self._loss(fake_Y, zeros)) / 2\n",
    "                D_losses.append(D_loss)\n",
    "                \n",
    "                self._dis_optim.zero_grad()\n",
    "                D_loss.backward()\n",
    "                self._dis_optim.step()\n",
    "                \n",
    "                # Updating generator\n",
    "                Z = torch.normal(0, 1, size=(BATCH_SIZE, 100, 1, 1), device=device)\n",
    "                \n",
    "                fake_X = self._gen(Z)\n",
    "                fake_Y = self._dis(fake_X)\n",
    "                \n",
    "                ones = torch.ones_like(fake_Y)\n",
    "                \n",
    "                G_loss = self._loss(fake_Y, ones)\n",
    "                G_losses.append(G_loss)\n",
    "                \n",
    "                self._gen_optim.zero_grad()\n",
    "                G_loss.backward()\n",
    "                self._gen_optim.step()\n",
    "            \n",
    "            print(f\"Average discriminator loss: {sum(D_losses) / len(D_losses):5.2f}\")\n",
    "            print(f\"Average generator loss: {sum(G_losses) / len(G_losses):5.2f}\")\n",
    "                \n",
    "    def generate_images(self, images: int) -> torch.Tensor:\n",
    "        \n",
    "        Z = torch.normal(0, 1, size=(images, 100, 1, 1), device=device)\n",
    "        with torch.no_grad():\n",
    "            images = self._gen(Z)\n",
    "        return images"
   ],
   "id": "52de0b63a8797041",
   "outputs": [],
   "execution_count": 285
  },
  {
   "metadata": {},
   "cell_type": "markdown",
   "source": "### Training the network",
   "id": "b92ba8143ca742b8"
  },
  {
   "metadata": {
    "ExecuteTime": {
     "end_time": "2025-05-21T17:16:27.691592Z",
     "start_time": "2025-05-21T17:16:27.669615Z"
    }
   },
   "cell_type": "code",
   "source": [
    "gan = GAN(\n",
    "    alpha=0.2,\n",
    "    lr=0.0002,\n",
    "    betas=(0.5, 0.999)\n",
    ")"
   ],
   "id": "1c2c7be5e0019ce4",
   "outputs": [],
   "execution_count": 286
  },
  {
   "metadata": {
    "ExecuteTime": {
     "end_time": "2025-05-21T17:30:42.681323Z",
     "start_time": "2025-05-21T17:16:27.771926Z"
    }
   },
   "cell_type": "code",
   "source": [
    "gan.train(\n",
    "    data=dataloader,\n",
    "    epochs=10\n",
    ")"
   ],
   "id": "4c347020b44ba21b",
   "outputs": [
    {
     "name": "stderr",
     "output_type": "stream",
     "text": [
      "Epoch 1: 100%|██████████| 1397/1397 [01:35<00:00, 14.59it/s]\n"
     ]
    },
    {
     "name": "stdout",
     "output_type": "stream",
     "text": [
      "Average discriminator loss:  0.64\n",
      "Average generator loss:  0.77\n"
     ]
    },
    {
     "name": "stderr",
     "output_type": "stream",
     "text": [
      "Epoch 2: 100%|██████████| 1397/1397 [01:21<00:00, 17.15it/s]\n"
     ]
    },
    {
     "name": "stdout",
     "output_type": "stream",
     "text": [
      "Average discriminator loss:  0.46\n",
      "Average generator loss:  1.09\n"
     ]
    },
    {
     "name": "stderr",
     "output_type": "stream",
     "text": [
      "Epoch 3: 100%|██████████| 1397/1397 [01:22<00:00, 16.89it/s]\n"
     ]
    },
    {
     "name": "stdout",
     "output_type": "stream",
     "text": [
      "Average discriminator loss:  0.35\n",
      "Average generator loss:  1.42\n"
     ]
    },
    {
     "name": "stderr",
     "output_type": "stream",
     "text": [
      "Epoch 4: 100%|██████████| 1397/1397 [01:23<00:00, 16.66it/s]\n"
     ]
    },
    {
     "name": "stdout",
     "output_type": "stream",
     "text": [
      "Average discriminator loss:  0.33\n",
      "Average generator loss:  1.54\n"
     ]
    },
    {
     "name": "stderr",
     "output_type": "stream",
     "text": [
      "Epoch 5: 100%|██████████| 1397/1397 [01:26<00:00, 16.18it/s]\n"
     ]
    },
    {
     "name": "stdout",
     "output_type": "stream",
     "text": [
      "Average discriminator loss:  0.33\n",
      "Average generator loss:  1.59\n"
     ]
    },
    {
     "name": "stderr",
     "output_type": "stream",
     "text": [
      "Epoch 6: 100%|██████████| 1397/1397 [01:21<00:00, 17.05it/s]\n"
     ]
    },
    {
     "name": "stdout",
     "output_type": "stream",
     "text": [
      "Average discriminator loss:  0.33\n",
      "Average generator loss:  1.63\n"
     ]
    },
    {
     "name": "stderr",
     "output_type": "stream",
     "text": [
      "Epoch 7: 100%|██████████| 1397/1397 [01:21<00:00, 17.10it/s]\n"
     ]
    },
    {
     "name": "stdout",
     "output_type": "stream",
     "text": [
      "Average discriminator loss:  0.32\n",
      "Average generator loss:  1.67\n"
     ]
    },
    {
     "name": "stderr",
     "output_type": "stream",
     "text": [
      "Epoch 8: 100%|██████████| 1397/1397 [01:22<00:00, 17.01it/s]\n"
     ]
    },
    {
     "name": "stdout",
     "output_type": "stream",
     "text": [
      "Average discriminator loss:  0.33\n",
      "Average generator loss:  1.70\n"
     ]
    },
    {
     "name": "stderr",
     "output_type": "stream",
     "text": [
      "Epoch 9: 100%|██████████| 1397/1397 [01:30<00:00, 15.37it/s]\n"
     ]
    },
    {
     "name": "stdout",
     "output_type": "stream",
     "text": [
      "Average discriminator loss:  0.33\n",
      "Average generator loss:  1.71\n"
     ]
    },
    {
     "name": "stderr",
     "output_type": "stream",
     "text": [
      "Epoch 10: 100%|██████████| 1397/1397 [01:27<00:00, 15.93it/s]\n"
     ]
    },
    {
     "name": "stdout",
     "output_type": "stream",
     "text": [
      "Average discriminator loss:  0.34\n",
      "Average generator loss:  1.71\n"
     ]
    }
   ],
   "execution_count": 287
  },
  {
   "metadata": {},
   "cell_type": "markdown",
   "source": [
    "### Inspecting results\n",
    "Checking if our model did pookie"
   ],
   "id": "5fc632b1aa8aa1e8"
  },
  {
   "metadata": {
    "ExecuteTime": {
     "end_time": "2025-05-21T17:31:20.114785Z",
     "start_time": "2025-05-21T17:31:20.047546Z"
    }
   },
   "cell_type": "code",
   "source": [
    "Z = torch.normal(0, 1, size=(10, 100, 1, 1), device=device)\n",
    "\n",
    "with torch.no_grad():\n",
    "    images = gan._gen(Z)\n",
    "    labels = gan._dis(images)\n",
    "    \n",
    "images = images.permute(0, 2, 3, 1)/2+0.5"
   ],
   "id": "b4f0c418888a8ca5",
   "outputs": [],
   "execution_count": 291
  },
  {
   "metadata": {
    "ExecuteTime": {
     "end_time": "2025-05-21T17:31:20.667461Z",
     "start_time": "2025-05-21T17:31:20.481415Z"
    }
   },
   "cell_type": "code",
   "source": [
    "fig, axis = plt.subplots(2, 5)\n",
    "axis = axis.flatten()\n",
    "\n",
    "for i in range(10):\n",
    "    axis[i].imshow(images[i], cmap='grey')\n",
    "\n",
    "plt.show()"
   ],
   "id": "6f7dda2ea321dc5a",
   "outputs": [
    {
     "data": {
      "text/plain": [
       "<Figure size 640x480 with 10 Axes>"
      ],
      "image/png": "[encoded data removed]"
     },
     "metadata": {},
     "output_type": "display_data"
    }
   ],
   "execution_count": 292
  },
  {
   "metadata": {
    "ExecuteTime": {
     "end_time": "2025-05-21T17:31:24.875647Z",
     "start_time": "2025-05-21T17:31:24.866934Z"
    }
   },
   "cell_type": "code",
   "source": "print(labels)",
   "id": "c59673681c7be255",
   "outputs": [
    {
     "name": "stdout",
     "output_type": "stream",
     "text": [
      "tensor([[[[0.3285]]],\n",
      "\n",
      "\n",
      "        [[[0.1559]]],\n",
      "\n",
      "\n",
      "        [[[0.2670]]],\n",
      "\n",
      "\n",
      "        [[[0.0995]]],\n",
      "\n",
      "\n",
      "        [[[0.6930]]],\n",
      "\n",
      "\n",
      "        [[[0.1690]]],\n",
      "\n",
      "\n",
      "        [[[0.3674]]],\n",
      "\n",
      "\n",
      "        [[[0.1836]]],\n",
      "\n",
      "\n",
      "        [[[0.1582]]],\n",
      "\n",
      "\n",
      "        [[[0.2125]]]])\n"
     ]
    }
   ],
   "execution_count": 293
  },
  {
   "metadata": {
    "ExecuteTime": {
     "end_time": "2025-05-21T17:30:43.902455Z",
     "start_time": "2025-05-21T17:30:43.899807Z"
    }
   },
   "cell_type": "code",
   "source": "",
   "id": "870017519ad2d2bc",
   "outputs": [],
   "execution_count": null
  }
 ],
 "metadata": {
  "kernelspec": {
   "display_name": "Python 3",
   "language": "python",
   "name": "python3"
  },
  "language_info": {
   "codemirror_mode": {
    "name": "ipython",
    "version": 2
   },
   "file_extension": ".py",
   "mimetype": "text/x-python",
   "name": "python",
   "nbconvert_exporter": "python",
   "pygments_lexer": "ipython2",
   "version": "2.7.6"
  }
 },
 "nbformat": 4,
 "nbformat_minor": 5
}
