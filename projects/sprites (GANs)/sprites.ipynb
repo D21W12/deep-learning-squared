{
 "cells": [
  {
   "metadata": {
    "id": "ae15ebfc126e17db"
   },
   "cell_type": "markdown",
   "source": [
    "### Imports\n",
    "\n",
    "The following cell imports all necessary libraries/modules"
   ],
   "id": "ae15ebfc126e17db"
  },
  {
   "cell_type": "code",
   "id": "initial_id",
   "metadata": {
    "collapsed": true,
    "id": "initial_id",
    "ExecuteTime": {
     "end_time": "2025-05-21T20:08:45.851662Z",
     "start_time": "2025-05-21T20:08:39.062743Z"
    }
   },
   "source": [
    "import torch\n",
    "import torchvision\n",
    "import torch.nn as nn\n",
    "from torch.utils.data import DataLoader, Dataset\n",
    "import os\n",
    "import matplotlib.pyplot as plt\n",
    "from tqdm import tqdm\n",
    "import numpy as np"
   ],
   "outputs": [],
   "execution_count": 1
  },
  {
   "metadata": {
    "id": "65e2ed1d1f70a02d"
   },
   "cell_type": "markdown",
   "source": [
    "### Creating dataloader\n",
    "\n",
    "Transforming the data and creating an useful dataloader object to use for training."
   ],
   "id": "65e2ed1d1f70a02d"
  },
  {
   "metadata": {
    "id": "6abfbebde9d21ec1",
    "ExecuteTime": {
     "end_time": "2025-05-21T20:09:47.919175Z",
     "start_time": "2025-05-21T20:09:47.910885Z"
    }
   },
   "cell_type": "code",
   "source": [
    "class Sprites(Dataset):\n",
    "\n",
    "    def __init__(self, images: str, transform=None):\n",
    "        self.images = torch.from_numpy(np.load(images)) / 255\n",
    "        self.transform = transform\n",
    "\n",
    "    def __len__(self):\n",
    "        return self.images.shape[0]\n",
    "\n",
    "    def __getitem__(self, idx):\n",
    "        image = self.images[idx]\n",
    "        if self.transform:\n",
    "            image = self.transform(image)\n",
    "        return image"
   ],
   "id": "6abfbebde9d21ec1",
   "outputs": [],
   "execution_count": 2
  },
  {
   "metadata": {
    "id": "903767f66528d506",
    "ExecuteTime": {
     "end_time": "2025-05-21T20:09:48.319234Z",
     "start_time": "2025-05-21T20:09:48.315222Z"
    }
   },
   "cell_type": "code",
   "source": [
    "BATCH_SIZE = 64"
   ],
   "id": "903767f66528d506",
   "outputs": [],
   "execution_count": 3
  },
  {
   "metadata": {
    "id": "902c70b93dba3cb",
    "ExecuteTime": {
     "end_time": "2025-05-21T20:09:48.760727Z",
     "start_time": "2025-05-21T20:09:48.666683Z"
    }
   },
   "cell_type": "code",
   "source": [
    "device = torch.device(\"cuda\" if torch.cuda.is_available() else \"cpu\")"
   ],
   "id": "902c70b93dba3cb",
   "outputs": [],
   "execution_count": 4
  },
  {
   "metadata": {
    "id": "4970ebaee6f37301",
    "ExecuteTime": {
     "end_time": "2025-05-21T20:09:49.001881Z",
     "start_time": "2025-05-21T20:09:48.997465Z"
    }
   },
   "cell_type": "code",
   "source": [
    "transforms = torchvision.transforms.Compose([\n",
    "    torchvision.transforms.Normalize(0.5, 0.5)\n",
    "])"
   ],
   "id": "4970ebaee6f37301",
   "outputs": [],
   "execution_count": 5
  },
  {
   "metadata": {
    "id": "92561656a4beaff2",
    "ExecuteTime": {
     "end_time": "2025-05-21T20:10:10.936596Z",
     "start_time": "2025-05-21T20:10:10.716148Z"
    }
   },
   "cell_type": "code",
   "source": [
    "images = os.path.join(\"data/sprites.npy\")\n",
    "\n",
    "sprites = Sprites(images=images, transform=transforms)\n",
    "\n",
    "dataloader = DataLoader(\n",
    "    dataset=sprites,\n",
    "    shuffle=True,\n",
    "    batch_size=BATCH_SIZE,\n",
    ")"
   ],
   "id": "92561656a4beaff2",
   "outputs": [],
   "execution_count": 7
  },
  {
   "metadata": {
    "id": "61658a8d496c036d"
   },
   "cell_type": "markdown",
   "source": [
    "### Looking at the data\n",
    "\n",
    "In the following cells we take a look at the data"
   ],
   "id": "61658a8d496c036d"
  },
  {
   "metadata": {
    "id": "48a1a38688c31573",
    "ExecuteTime": {
     "end_time": "2025-05-21T20:10:12.864642Z",
     "start_time": "2025-05-21T20:10:12.815111Z"
    }
   },
   "cell_type": "code",
   "source": [
    "samples = next(iter(dataloader))"
   ],
   "id": "48a1a38688c31573",
   "outputs": [],
   "execution_count": 8
  },
  {
   "metadata": {
    "id": "26ef1181e6588ccc",
    "outputId": "0ba851c8-5181-4623-9208-0ab66f880d19",
    "colab": {
     "base_uri": "https://localhost:8080/",
     "height": 350
    },
    "ExecuteTime": {
     "end_time": "2025-05-21T20:10:13.768247Z",
     "start_time": "2025-05-21T20:10:13.267757Z"
    }
   },
   "cell_type": "code",
   "source": [
    "samples = samples[:10,:,:,:] / 2 + 0.5 # Undo the normalization when showing the images\n",
    "\n",
    "fig, axis = plt.subplots(2, 5)\n",
    "axis = axis.flatten()\n",
    "\n",
    "for i in range(10):\n",
    "    axis[i].imshow(samples[i])\n",
    "\n",
    "plt.show()"
   ],
   "id": "26ef1181e6588ccc",
   "outputs": [
    {
     "data": {
      "text/plain": [
       "<Figure size 640x480 with 10 Axes>"
      ],
      "image/png": "[encoded data removed]"
     },
     "metadata": {},
     "output_type": "display_data"
    }
   ],
   "execution_count": 9
  },
  {
   "metadata": {
    "id": "ea6655bf4a1877bb"
   },
   "cell_type": "markdown",
   "source": [
    "### Creating our networks\n",
    "\n",
    "Creating the generator and discriminator network and it's necessary blocks and modules."
   ],
   "id": "ea6655bf4a1877bb"
  },
  {
   "metadata": {
    "id": "6543ed9232cc222b",
    "ExecuteTime": {
     "end_time": "2025-05-21T20:10:19.153783Z",
     "start_time": "2025-05-21T20:10:19.148819Z"
    }
   },
   "cell_type": "code",
   "source": [
    "class PrintShape(nn.Module):\n",
    "    \"\"\"\n",
    "    Neural network model used for debugging the shape.\n",
    "    \"\"\"\n",
    "\n",
    "    def forward(self, x):\n",
    "        print(x.shape)\n",
    "        return x"
   ],
   "id": "6543ed9232cc222b",
   "outputs": [],
   "execution_count": 10
  },
  {
   "metadata": {
    "id": "9938a5537649349a",
    "ExecuteTime": {
     "end_time": "2025-05-21T20:10:19.464360Z",
     "start_time": "2025-05-21T20:10:19.458838Z"
    }
   },
   "cell_type": "code",
   "source": [
    "class GeneratorBlock(nn.Module):\n",
    "\n",
    "    def __init__(\n",
    "            self,\n",
    "            in_channels,\n",
    "            out_channels,\n",
    "            kernel_size=4,\n",
    "            stride=2,\n",
    "            padding=1,\n",
    "            **kwargs\n",
    "    ):\n",
    "        super().__init__(**kwargs)\n",
    "        self.conv_trans2d = nn.ConvTranspose2d(\n",
    "            in_channels=in_channels,\n",
    "            out_channels=out_channels,\n",
    "            kernel_size=kernel_size,\n",
    "            stride=stride,\n",
    "            padding=padding,\n",
    "        )\n",
    "        self.batch_norm = nn.BatchNorm2d(out_channels)\n",
    "        self.activation = nn.ReLU()\n",
    "\n",
    "    def forward(self, x):\n",
    "        return self.activation(self.batch_norm(self.conv_trans2d(x)))"
   ],
   "id": "9938a5537649349a",
   "outputs": [],
   "execution_count": 11
  },
  {
   "metadata": {
    "id": "a5fb358e10815fd5",
    "ExecuteTime": {
     "end_time": "2025-05-21T20:10:21.914501Z",
     "start_time": "2025-05-21T20:10:21.908474Z"
    }
   },
   "cell_type": "code",
   "source": [
    "class Generator(nn.Module):\n",
    "\n",
    "    def __init__(self, **kwargs):\n",
    "        super().__init__(**kwargs)\n",
    "\n",
    "        n_G = 16\n",
    "        self.net = nn.Sequential(\n",
    "            GeneratorBlock(\n",
    "                in_channels=100,\n",
    "                out_channels=n_G * 4,\n",
    "                kernel_size=4,\n",
    "                stride=1,\n",
    "                padding=0,\n",
    "            ), # Output: BATCH_SIZE x 64 x 4 x 4\n",
    "            GeneratorBlock(\n",
    "                in_channels=n_G * 4,\n",
    "                out_channels=n_G * 2,\n",
    "                kernel_size=4,\n",
    "                stride=2,\n",
    "                padding=1,\n",
    "            ), # Output: BATCH_SIZE x 32 x 8 x 8\n",
    "            nn.ConvTranspose2d(\n",
    "                in_channels=n_G * 2,\n",
    "                out_channels=3,\n",
    "                kernel_size=4,\n",
    "                stride=2,\n",
    "                padding=1\n",
    "            ), nn.Tanh()  # Output: BATCH_SIZE x 3 x 16 x 16\n",
    "        )\n",
    "\n",
    "    def forward(self, x):\n",
    "        return self.net(x)"
   ],
   "id": "a5fb358e10815fd5",
   "outputs": [],
   "execution_count": 12
  },
  {
   "metadata": {
    "id": "629808e96c530b41",
    "ExecuteTime": {
     "end_time": "2025-05-21T20:10:23.997456Z",
     "start_time": "2025-05-21T20:10:23.992145Z"
    }
   },
   "cell_type": "code",
   "source": [
    "class DiscriminatorBlock(nn.Module):\n",
    "\n",
    "    def __init__(\n",
    "            self,\n",
    "            in_channels: int,\n",
    "            out_channels: int,\n",
    "            kernel_size: int,\n",
    "            stride: int,\n",
    "            padding: int,\n",
    "            alpha: float,\n",
    "            **kwargs\n",
    "    ):\n",
    "\n",
    "        super().__init__(**kwargs)\n",
    "\n",
    "        self.conv = nn.Conv2d(\n",
    "            in_channels=in_channels,\n",
    "            out_channels=out_channels,\n",
    "            kernel_size=kernel_size,\n",
    "            stride=stride,\n",
    "            padding=padding,\n",
    "        )\n",
    "        self.batch_norm = nn.BatchNorm2d(out_channels)\n",
    "        self.activation = nn.LeakyReLU(alpha)\n",
    "\n",
    "    def forward(self, x):\n",
    "        return self.activation(self.batch_norm(self.conv(x)))"
   ],
   "id": "629808e96c530b41",
   "outputs": [],
   "execution_count": 13
  },
  {
   "metadata": {
    "id": "d38e3d1112875063",
    "ExecuteTime": {
     "end_time": "2025-05-21T20:10:25.838586Z",
     "start_time": "2025-05-21T20:10:25.832286Z"
    }
   },
   "cell_type": "code",
   "source": [
    "class Discriminator(nn.Module):\n",
    "\n",
    "    def __init__(self, alpha: float, **kwargs):\n",
    "        super().__init__(**kwargs)\n",
    "\n",
    "        self.net = nn.Sequential(\n",
    "            DiscriminatorBlock(\n",
    "                in_channels=3,\n",
    "                out_channels=16,\n",
    "                kernel_size=4,\n",
    "                stride=2,\n",
    "                padding=1,\n",
    "                alpha=alpha,\n",
    "            ),  # Output: BATCH_SIZE x 16 x 8 x 8\n",
    "            DiscriminatorBlock(\n",
    "                in_channels=16,\n",
    "                out_channels=32,\n",
    "                kernel_size=4,\n",
    "                stride=2,\n",
    "                padding=1,\n",
    "                alpha=alpha,\n",
    "            ),  # Output: BATCH_SIZE x 32 x 4 x 4\n",
    "            nn.Conv2d(in_channels=32, out_channels=1, kernel_size=4, stride=1, padding=0),\n",
    "            nn.Sigmoid()\n",
    "        )\n",
    "\n",
    "    def forward(self, x):\n",
    "        return self.net(x)"
   ],
   "id": "d38e3d1112875063",
   "outputs": [],
   "execution_count": 14
  },
  {
   "metadata": {
    "id": "52de0b63a8797041",
    "ExecuteTime": {
     "end_time": "2025-05-21T20:10:27.430650Z",
     "start_time": "2025-05-21T20:10:27.420787Z"
    }
   },
   "cell_type": "code",
   "source": [
    "class GAN:\n",
    "\n",
    "    def __init__(\n",
    "            self,\n",
    "            alpha: float = 0.2,\n",
    "            lr: float = 0.0002,\n",
    "            betas: tuple[float, float] = (0.5, 0.999)\n",
    "    ):\n",
    "\n",
    "        self._gen = Generator().to(device)\n",
    "        self._dis = Discriminator(alpha).to(device)\n",
    "\n",
    "        self._gen_optim = torch.optim.Adam(\n",
    "            params=self._gen.parameters(),\n",
    "            lr=lr,\n",
    "            betas=betas,\n",
    "        )\n",
    "        self._dis_optim = torch.optim.Adam(\n",
    "            params=self._dis.parameters(),\n",
    "            lr=lr,\n",
    "            betas=betas,\n",
    "        )\n",
    "\n",
    "        self._loss = nn.BCELoss()\n",
    "\n",
    "    def train(\n",
    "            self,\n",
    "            data: DataLoader,\n",
    "            epochs: int = 10,\n",
    "    ):\n",
    "\n",
    "        for epoch in range(epochs):\n",
    "            D_losses = []\n",
    "            G_losses = []\n",
    "\n",
    "            for real_X in tqdm(data, f\"Epoch {epoch +1}\"):\n",
    "\n",
    "                batch_size = real_X.shape\n",
    "\n",
    "                # Updating discriminator\n",
    "                Z = torch.normal(0, 1, size=(BATCH_SIZE, 100, 1, 1), device=device)\n",
    "\n",
    "                fake_X = self._gen(Z).detach()\n",
    "                fake_Y = self._dis(fake_X)\n",
    "\n",
    "                real_Y = self._dis(real_X.permute(0, 3, 1, 2).to(device))\n",
    "\n",
    "                ones = torch.ones_like(real_Y)\n",
    "                zeros = torch.zeros_like(fake_Y)\n",
    "\n",
    "                D_loss = (self._loss(real_Y, ones) + self._loss(fake_Y, zeros)) / 2\n",
    "                D_losses.append(D_loss)\n",
    "\n",
    "                self._dis_optim.zero_grad()\n",
    "                D_loss.backward()\n",
    "                self._dis_optim.step()\n",
    "\n",
    "                # Updating generator\n",
    "                Z = torch.normal(0, 1, size=(BATCH_SIZE, 100, 1, 1), device=device)\n",
    "\n",
    "                fake_X = self._gen(Z)\n",
    "                fake_Y = self._dis(fake_X)\n",
    "\n",
    "                ones = torch.ones_like(fake_Y)\n",
    "\n",
    "                G_loss = self._loss(fake_Y, ones)\n",
    "                G_losses.append(G_loss)\n",
    "\n",
    "                self._gen_optim.zero_grad()\n",
    "                G_loss.backward()\n",
    "                self._gen_optim.step()\n",
    "\n",
    "            print(f\"Average discriminator loss: {sum(D_losses) / len(D_losses):5.2f}\")\n",
    "            print(f\"Average generator loss: {sum(G_losses) / len(G_losses):5.2f}\")\n",
    "\n",
    "    def generate_images(self, images: int) -> torch.Tensor:\n",
    "\n",
    "        Z = torch.normal(0, 1, size=(images, 100, 1, 1), device=device)\n",
    "        with torch.no_grad():\n",
    "            images = self._gen(Z)\n",
    "        return images"
   ],
   "id": "52de0b63a8797041",
   "outputs": [],
   "execution_count": 15
  },
  {
   "metadata": {
    "id": "b92ba8143ca742b8"
   },
   "cell_type": "markdown",
   "source": [
    "### Training the network"
   ],
   "id": "b92ba8143ca742b8"
  },
  {
   "metadata": {
    "id": "1c2c7be5e0019ce4",
    "ExecuteTime": {
     "end_time": "2025-05-21T20:10:31.070611Z",
     "start_time": "2025-05-21T20:10:30.862115Z"
    }
   },
   "cell_type": "code",
   "source": [
    "gan = GAN(\n",
    "    alpha=0.2,\n",
    "    lr=0.0002,\n",
    "    betas=(0.5, 0.999)\n",
    ")"
   ],
   "id": "1c2c7be5e0019ce4",
   "outputs": [],
   "execution_count": 16
  },
  {
   "metadata": {
    "id": "4c347020b44ba21b",
    "outputId": "225ab117-3d8d-4b52-ed71-692505fd480e",
    "colab": {
     "base_uri": "https://localhost:8080/"
    },
    "ExecuteTime": {
     "end_time": "2025-05-21T21:26:58.859941Z",
     "start_time": "2025-05-21T20:54:47.944217Z"
    }
   },
   "cell_type": "code",
   "source": [
    "gan.train(\n",
    "    data=dataloader,\n",
    "    epochs=99\n",
    ")"
   ],
   "id": "4c347020b44ba21b",
   "outputs": [
    {
     "name": "stderr",
     "output_type": "stream",
     "text": [
      "Epoch 1: 100%|██████████| 1397/1397 [00:20<00:00, 67.04it/s]\n"
     ]
    },
    {
     "name": "stdout",
     "output_type": "stream",
     "text": [
      "Average discriminator loss:  0.19\n",
      "Average generator loss:  3.63\n"
     ]
    },
    {
     "name": "stderr",
     "output_type": "stream",
     "text": [
      "Epoch 2: 100%|██████████| 1397/1397 [00:20<00:00, 68.70it/s]\n"
     ]
    },
    {
     "name": "stdout",
     "output_type": "stream",
     "text": [
      "Average discriminator loss:  0.19\n",
      "Average generator loss:  3.63\n"
     ]
    },
    {
     "name": "stderr",
     "output_type": "stream",
     "text": [
      "Epoch 3: 100%|██████████| 1397/1397 [00:18<00:00, 73.90it/s]\n"
     ]
    },
    {
     "name": "stdout",
     "output_type": "stream",
     "text": [
      "Average discriminator loss:  0.19\n",
      "Average generator loss:  3.63\n"
     ]
    },
    {
     "name": "stderr",
     "output_type": "stream",
     "text": [
      "Epoch 4: 100%|██████████| 1397/1397 [00:18<00:00, 75.12it/s]\n"
     ]
    },
    {
     "name": "stdout",
     "output_type": "stream",
     "text": [
      "Average discriminator loss:  0.19\n",
      "Average generator loss:  3.66\n"
     ]
    },
    {
     "name": "stderr",
     "output_type": "stream",
     "text": [
      "Epoch 5: 100%|██████████| 1397/1397 [00:20<00:00, 69.49it/s]\n"
     ]
    },
    {
     "name": "stdout",
     "output_type": "stream",
     "text": [
      "Average discriminator loss:  0.19\n",
      "Average generator loss:  3.65\n"
     ]
    },
    {
     "name": "stderr",
     "output_type": "stream",
     "text": [
      "Epoch 6: 100%|██████████| 1397/1397 [00:18<00:00, 73.79it/s]\n"
     ]
    },
    {
     "name": "stdout",
     "output_type": "stream",
     "text": [
      "Average discriminator loss:  0.19\n",
      "Average generator loss:  3.68\n"
     ]
    },
    {
     "name": "stderr",
     "output_type": "stream",
     "text": [
      "Epoch 7: 100%|██████████| 1397/1397 [00:18<00:00, 74.27it/s]\n"
     ]
    },
    {
     "name": "stdout",
     "output_type": "stream",
     "text": [
      "Average discriminator loss:  0.19\n",
      "Average generator loss:  3.67\n"
     ]
    },
    {
     "name": "stderr",
     "output_type": "stream",
     "text": [
      "Epoch 8: 100%|██████████| 1397/1397 [00:19<00:00, 71.90it/s]\n"
     ]
    },
    {
     "name": "stdout",
     "output_type": "stream",
     "text": [
      "Average discriminator loss:  0.19\n",
      "Average generator loss:  3.69\n"
     ]
    },
    {
     "name": "stderr",
     "output_type": "stream",
     "text": [
      "Epoch 9: 100%|██████████| 1397/1397 [00:20<00:00, 69.07it/s]\n"
     ]
    },
    {
     "name": "stdout",
     "output_type": "stream",
     "text": [
      "Average discriminator loss:  0.19\n",
      "Average generator loss:  3.70\n"
     ]
    },
    {
     "name": "stderr",
     "output_type": "stream",
     "text": [
      "Epoch 10: 100%|██████████| 1397/1397 [00:18<00:00, 75.66it/s]\n"
     ]
    },
    {
     "name": "stdout",
     "output_type": "stream",
     "text": [
      "Average discriminator loss:  0.19\n",
      "Average generator loss:  3.72\n"
     ]
    },
    {
     "name": "stderr",
     "output_type": "stream",
     "text": [
      "Epoch 11: 100%|██████████| 1397/1397 [00:17<00:00, 77.74it/s]\n"
     ]
    },
    {
     "name": "stdout",
     "output_type": "stream",
     "text": [
      "Average discriminator loss:  0.20\n",
      "Average generator loss:  3.69\n"
     ]
    },
    {
     "name": "stderr",
     "output_type": "stream",
     "text": [
      "Epoch 12: 100%|██████████| 1397/1397 [00:18<00:00, 76.08it/s]\n"
     ]
    },
    {
     "name": "stdout",
     "output_type": "stream",
     "text": [
      "Average discriminator loss:  0.19\n",
      "Average generator loss:  3.67\n"
     ]
    },
    {
     "name": "stderr",
     "output_type": "stream",
     "text": [
      "Epoch 13: 100%|██████████| 1397/1397 [00:20<00:00, 67.40it/s]\n"
     ]
    },
    {
     "name": "stdout",
     "output_type": "stream",
     "text": [
      "Average discriminator loss:  0.19\n",
      "Average generator loss:  3.68\n"
     ]
    },
    {
     "name": "stderr",
     "output_type": "stream",
     "text": [
      "Epoch 14: 100%|██████████| 1397/1397 [00:21<00:00, 65.64it/s]\n"
     ]
    },
    {
     "name": "stdout",
     "output_type": "stream",
     "text": [
      "Average discriminator loss:  0.19\n",
      "Average generator loss:  3.70\n"
     ]
    },
    {
     "name": "stderr",
     "output_type": "stream",
     "text": [
      "Epoch 15: 100%|██████████| 1397/1397 [00:19<00:00, 71.59it/s]\n"
     ]
    },
    {
     "name": "stdout",
     "output_type": "stream",
     "text": [
      "Average discriminator loss:  0.20\n",
      "Average generator loss:  3.71\n"
     ]
    },
    {
     "name": "stderr",
     "output_type": "stream",
     "text": [
      "Epoch 16: 100%|██████████| 1397/1397 [00:18<00:00, 74.16it/s]\n"
     ]
    },
    {
     "name": "stdout",
     "output_type": "stream",
     "text": [
      "Average discriminator loss:  0.19\n",
      "Average generator loss:  3.72\n"
     ]
    },
    {
     "name": "stderr",
     "output_type": "stream",
     "text": [
      "Epoch 17: 100%|██████████| 1397/1397 [00:18<00:00, 77.23it/s]\n"
     ]
    },
    {
     "name": "stdout",
     "output_type": "stream",
     "text": [
      "Average discriminator loss:  0.20\n",
      "Average generator loss:  3.67\n"
     ]
    },
    {
     "name": "stderr",
     "output_type": "stream",
     "text": [
      "Epoch 18: 100%|██████████| 1397/1397 [00:18<00:00, 75.26it/s]\n"
     ]
    },
    {
     "name": "stdout",
     "output_type": "stream",
     "text": [
      "Average discriminator loss:  0.19\n",
      "Average generator loss:  3.68\n"
     ]
    },
    {
     "name": "stderr",
     "output_type": "stream",
     "text": [
      "Epoch 19: 100%|██████████| 1397/1397 [00:18<00:00, 75.77it/s]\n"
     ]
    },
    {
     "name": "stdout",
     "output_type": "stream",
     "text": [
      "Average discriminator loss:  0.19\n",
      "Average generator loss:  3.70\n"
     ]
    },
    {
     "name": "stderr",
     "output_type": "stream",
     "text": [
      "Epoch 20: 100%|██████████| 1397/1397 [00:18<00:00, 76.07it/s]\n"
     ]
    },
    {
     "name": "stdout",
     "output_type": "stream",
     "text": [
      "Average discriminator loss:  0.19\n",
      "Average generator loss:  3.74\n"
     ]
    },
    {
     "name": "stderr",
     "output_type": "stream",
     "text": [
      "Epoch 21: 100%|██████████| 1397/1397 [00:18<00:00, 75.20it/s]\n"
     ]
    },
    {
     "name": "stdout",
     "output_type": "stream",
     "text": [
      "Average discriminator loss:  0.19\n",
      "Average generator loss:  3.76\n"
     ]
    },
    {
     "name": "stderr",
     "output_type": "stream",
     "text": [
      "Epoch 22: 100%|██████████| 1397/1397 [00:18<00:00, 75.17it/s]\n"
     ]
    },
    {
     "name": "stdout",
     "output_type": "stream",
     "text": [
      "Average discriminator loss:  0.18\n",
      "Average generator loss:  3.80\n"
     ]
    },
    {
     "name": "stderr",
     "output_type": "stream",
     "text": [
      "Epoch 23: 100%|██████████| 1397/1397 [00:18<00:00, 74.38it/s]\n"
     ]
    },
    {
     "name": "stdout",
     "output_type": "stream",
     "text": [
      "Average discriminator loss:  0.18\n",
      "Average generator loss:  3.73\n"
     ]
    },
    {
     "name": "stderr",
     "output_type": "stream",
     "text": [
      "Epoch 24: 100%|██████████| 1397/1397 [00:18<00:00, 76.58it/s]\n"
     ]
    },
    {
     "name": "stdout",
     "output_type": "stream",
     "text": [
      "Average discriminator loss:  0.19\n",
      "Average generator loss:  3.73\n"
     ]
    },
    {
     "name": "stderr",
     "output_type": "stream",
     "text": [
      "Epoch 25: 100%|██████████| 1397/1397 [00:18<00:00, 74.71it/s]\n"
     ]
    },
    {
     "name": "stdout",
     "output_type": "stream",
     "text": [
      "Average discriminator loss:  0.19\n",
      "Average generator loss:  3.74\n"
     ]
    },
    {
     "name": "stderr",
     "output_type": "stream",
     "text": [
      "Epoch 26: 100%|██████████| 1397/1397 [00:18<00:00, 76.59it/s]\n"
     ]
    },
    {
     "name": "stdout",
     "output_type": "stream",
     "text": [
      "Average discriminator loss:  0.19\n",
      "Average generator loss:  3.77\n"
     ]
    },
    {
     "name": "stderr",
     "output_type": "stream",
     "text": [
      "Epoch 27: 100%|██████████| 1397/1397 [00:18<00:00, 77.40it/s]\n"
     ]
    },
    {
     "name": "stdout",
     "output_type": "stream",
     "text": [
      "Average discriminator loss:  0.19\n",
      "Average generator loss:  3.73\n"
     ]
    },
    {
     "name": "stderr",
     "output_type": "stream",
     "text": [
      "Epoch 28: 100%|██████████| 1397/1397 [00:18<00:00, 75.35it/s]\n"
     ]
    },
    {
     "name": "stdout",
     "output_type": "stream",
     "text": [
      "Average discriminator loss:  0.19\n",
      "Average generator loss:  3.79\n"
     ]
    },
    {
     "name": "stderr",
     "output_type": "stream",
     "text": [
      "Epoch 29: 100%|██████████| 1397/1397 [00:18<00:00, 76.97it/s]\n"
     ]
    },
    {
     "name": "stdout",
     "output_type": "stream",
     "text": [
      "Average discriminator loss:  0.18\n",
      "Average generator loss:  3.84\n"
     ]
    },
    {
     "name": "stderr",
     "output_type": "stream",
     "text": [
      "Epoch 30: 100%|██████████| 1397/1397 [00:18<00:00, 75.65it/s]\n"
     ]
    },
    {
     "name": "stdout",
     "output_type": "stream",
     "text": [
      "Average discriminator loss:  0.18\n",
      "Average generator loss:  3.82\n"
     ]
    },
    {
     "name": "stderr",
     "output_type": "stream",
     "text": [
      "Epoch 31: 100%|██████████| 1397/1397 [00:19<00:00, 71.99it/s]\n"
     ]
    },
    {
     "name": "stdout",
     "output_type": "stream",
     "text": [
      "Average discriminator loss:  0.18\n",
      "Average generator loss:  3.81\n"
     ]
    },
    {
     "name": "stderr",
     "output_type": "stream",
     "text": [
      "Epoch 32: 100%|██████████| 1397/1397 [00:18<00:00, 75.54it/s]\n"
     ]
    },
    {
     "name": "stdout",
     "output_type": "stream",
     "text": [
      "Average discriminator loss:  0.18\n",
      "Average generator loss:  3.82\n"
     ]
    },
    {
     "name": "stderr",
     "output_type": "stream",
     "text": [
      "Epoch 33: 100%|██████████| 1397/1397 [00:19<00:00, 72.36it/s]\n"
     ]
    },
    {
     "name": "stdout",
     "output_type": "stream",
     "text": [
      "Average discriminator loss:  0.18\n",
      "Average generator loss:  3.82\n"
     ]
    },
    {
     "name": "stderr",
     "output_type": "stream",
     "text": [
      "Epoch 34: 100%|██████████| 1397/1397 [00:18<00:00, 76.62it/s]\n"
     ]
    },
    {
     "name": "stdout",
     "output_type": "stream",
     "text": [
      "Average discriminator loss:  0.18\n",
      "Average generator loss:  3.84\n"
     ]
    },
    {
     "name": "stderr",
     "output_type": "stream",
     "text": [
      "Epoch 35: 100%|██████████| 1397/1397 [00:20<00:00, 69.43it/s]\n"
     ]
    },
    {
     "name": "stdout",
     "output_type": "stream",
     "text": [
      "Average discriminator loss:  0.18\n",
      "Average generator loss:  3.84\n"
     ]
    },
    {
     "name": "stderr",
     "output_type": "stream",
     "text": [
      "Epoch 36: 100%|██████████| 1397/1397 [00:18<00:00, 75.04it/s]\n"
     ]
    },
    {
     "name": "stdout",
     "output_type": "stream",
     "text": [
      "Average discriminator loss:  0.18\n",
      "Average generator loss:  3.81\n"
     ]
    },
    {
     "name": "stderr",
     "output_type": "stream",
     "text": [
      "Epoch 37: 100%|██████████| 1397/1397 [00:18<00:00, 75.69it/s]\n"
     ]
    },
    {
     "name": "stdout",
     "output_type": "stream",
     "text": [
      "Average discriminator loss:  0.19\n",
      "Average generator loss:  3.80\n"
     ]
    },
    {
     "name": "stderr",
     "output_type": "stream",
     "text": [
      "Epoch 38: 100%|██████████| 1397/1397 [00:19<00:00, 70.23it/s]\n"
     ]
    },
    {
     "name": "stdout",
     "output_type": "stream",
     "text": [
      "Average discriminator loss:  0.18\n",
      "Average generator loss:  3.83\n"
     ]
    },
    {
     "name": "stderr",
     "output_type": "stream",
     "text": [
      "Epoch 39: 100%|██████████| 1397/1397 [00:19<00:00, 71.47it/s]\n"
     ]
    },
    {
     "name": "stdout",
     "output_type": "stream",
     "text": [
      "Average discriminator loss:  0.18\n",
      "Average generator loss:  3.85\n"
     ]
    },
    {
     "name": "stderr",
     "output_type": "stream",
     "text": [
      "Epoch 40: 100%|██████████| 1397/1397 [00:18<00:00, 73.90it/s]\n"
     ]
    },
    {
     "name": "stdout",
     "output_type": "stream",
     "text": [
      "Average discriminator loss:  0.17\n",
      "Average generator loss:  3.86\n"
     ]
    },
    {
     "name": "stderr",
     "output_type": "stream",
     "text": [
      "Epoch 41: 100%|██████████| 1397/1397 [00:19<00:00, 69.91it/s]\n"
     ]
    },
    {
     "name": "stdout",
     "output_type": "stream",
     "text": [
      "Average discriminator loss:  0.18\n",
      "Average generator loss:  3.85\n"
     ]
    },
    {
     "name": "stderr",
     "output_type": "stream",
     "text": [
      "Epoch 42: 100%|██████████| 1397/1397 [00:20<00:00, 69.59it/s]\n"
     ]
    },
    {
     "name": "stdout",
     "output_type": "stream",
     "text": [
      "Average discriminator loss:  0.18\n",
      "Average generator loss:  3.90\n"
     ]
    },
    {
     "name": "stderr",
     "output_type": "stream",
     "text": [
      "Epoch 43: 100%|██████████| 1397/1397 [00:19<00:00, 71.89it/s]\n"
     ]
    },
    {
     "name": "stdout",
     "output_type": "stream",
     "text": [
      "Average discriminator loss:  0.18\n",
      "Average generator loss:  3.89\n"
     ]
    },
    {
     "name": "stderr",
     "output_type": "stream",
     "text": [
      "Epoch 44: 100%|██████████| 1397/1397 [00:19<00:00, 72.18it/s]\n"
     ]
    },
    {
     "name": "stdout",
     "output_type": "stream",
     "text": [
      "Average discriminator loss:  0.17\n",
      "Average generator loss:  3.92\n"
     ]
    },
    {
     "name": "stderr",
     "output_type": "stream",
     "text": [
      "Epoch 45: 100%|██████████| 1397/1397 [00:19<00:00, 73.45it/s]\n"
     ]
    },
    {
     "name": "stdout",
     "output_type": "stream",
     "text": [
      "Average discriminator loss:  0.18\n",
      "Average generator loss:  3.89\n"
     ]
    },
    {
     "name": "stderr",
     "output_type": "stream",
     "text": [
      "Epoch 46: 100%|██████████| 1397/1397 [00:20<00:00, 69.76it/s]\n"
     ]
    },
    {
     "name": "stdout",
     "output_type": "stream",
     "text": [
      "Average discriminator loss:  0.17\n",
      "Average generator loss:  3.94\n"
     ]
    },
    {
     "name": "stderr",
     "output_type": "stream",
     "text": [
      "Epoch 47: 100%|██████████| 1397/1397 [00:21<00:00, 66.32it/s]\n"
     ]
    },
    {
     "name": "stdout",
     "output_type": "stream",
     "text": [
      "Average discriminator loss:  0.18\n",
      "Average generator loss:  3.90\n"
     ]
    },
    {
     "name": "stderr",
     "output_type": "stream",
     "text": [
      "Epoch 48: 100%|██████████| 1397/1397 [00:19<00:00, 69.92it/s]\n"
     ]
    },
    {
     "name": "stdout",
     "output_type": "stream",
     "text": [
      "Average discriminator loss:  0.17\n",
      "Average generator loss:  3.87\n"
     ]
    },
    {
     "name": "stderr",
     "output_type": "stream",
     "text": [
      "Epoch 49: 100%|██████████| 1397/1397 [00:18<00:00, 74.53it/s]\n"
     ]
    },
    {
     "name": "stdout",
     "output_type": "stream",
     "text": [
      "Average discriminator loss:  0.18\n",
      "Average generator loss:  3.88\n"
     ]
    },
    {
     "name": "stderr",
     "output_type": "stream",
     "text": [
      "Epoch 50: 100%|██████████| 1397/1397 [00:18<00:00, 74.76it/s]\n"
     ]
    },
    {
     "name": "stdout",
     "output_type": "stream",
     "text": [
      "Average discriminator loss:  0.18\n",
      "Average generator loss:  3.83\n"
     ]
    },
    {
     "name": "stderr",
     "output_type": "stream",
     "text": [
      "Epoch 51: 100%|██████████| 1397/1397 [00:19<00:00, 73.34it/s]\n"
     ]
    },
    {
     "name": "stdout",
     "output_type": "stream",
     "text": [
      "Average discriminator loss:  0.19\n",
      "Average generator loss:  3.87\n"
     ]
    },
    {
     "name": "stderr",
     "output_type": "stream",
     "text": [
      "Epoch 52: 100%|██████████| 1397/1397 [00:18<00:00, 76.06it/s]\n"
     ]
    },
    {
     "name": "stdout",
     "output_type": "stream",
     "text": [
      "Average discriminator loss:  0.18\n",
      "Average generator loss:  3.98\n"
     ]
    },
    {
     "name": "stderr",
     "output_type": "stream",
     "text": [
      "Epoch 53: 100%|██████████| 1397/1397 [00:18<00:00, 75.20it/s]\n"
     ]
    },
    {
     "name": "stdout",
     "output_type": "stream",
     "text": [
      "Average discriminator loss:  0.19\n",
      "Average generator loss:  3.96\n"
     ]
    },
    {
     "name": "stderr",
     "output_type": "stream",
     "text": [
      "Epoch 54: 100%|██████████| 1397/1397 [00:18<00:00, 73.62it/s]\n"
     ]
    },
    {
     "name": "stdout",
     "output_type": "stream",
     "text": [
      "Average discriminator loss:  0.18\n",
      "Average generator loss:  3.91\n"
     ]
    },
    {
     "name": "stderr",
     "output_type": "stream",
     "text": [
      "Epoch 55: 100%|██████████| 1397/1397 [00:18<00:00, 73.71it/s]\n"
     ]
    },
    {
     "name": "stdout",
     "output_type": "stream",
     "text": [
      "Average discriminator loss:  0.18\n",
      "Average generator loss:  3.92\n"
     ]
    },
    {
     "name": "stderr",
     "output_type": "stream",
     "text": [
      "Epoch 56: 100%|██████████| 1397/1397 [00:20<00:00, 68.46it/s]\n"
     ]
    },
    {
     "name": "stdout",
     "output_type": "stream",
     "text": [
      "Average discriminator loss:  0.18\n",
      "Average generator loss:  3.90\n"
     ]
    },
    {
     "name": "stderr",
     "output_type": "stream",
     "text": [
      "Epoch 57: 100%|██████████| 1397/1397 [00:18<00:00, 75.41it/s]\n"
     ]
    },
    {
     "name": "stdout",
     "output_type": "stream",
     "text": [
      "Average discriminator loss:  0.19\n",
      "Average generator loss:  3.88\n"
     ]
    },
    {
     "name": "stderr",
     "output_type": "stream",
     "text": [
      "Epoch 58: 100%|██████████| 1397/1397 [00:18<00:00, 75.42it/s]\n"
     ]
    },
    {
     "name": "stdout",
     "output_type": "stream",
     "text": [
      "Average discriminator loss:  0.19\n",
      "Average generator loss:  3.89\n"
     ]
    },
    {
     "name": "stderr",
     "output_type": "stream",
     "text": [
      "Epoch 59: 100%|██████████| 1397/1397 [00:19<00:00, 70.63it/s]\n"
     ]
    },
    {
     "name": "stdout",
     "output_type": "stream",
     "text": [
      "Average discriminator loss:  0.18\n",
      "Average generator loss:  3.91\n"
     ]
    },
    {
     "name": "stderr",
     "output_type": "stream",
     "text": [
      "Epoch 60: 100%|██████████| 1397/1397 [00:19<00:00, 73.03it/s]\n"
     ]
    },
    {
     "name": "stdout",
     "output_type": "stream",
     "text": [
      "Average discriminator loss:  0.19\n",
      "Average generator loss:  3.90\n"
     ]
    },
    {
     "name": "stderr",
     "output_type": "stream",
     "text": [
      "Epoch 61: 100%|██████████| 1397/1397 [00:19<00:00, 73.09it/s]\n"
     ]
    },
    {
     "name": "stdout",
     "output_type": "stream",
     "text": [
      "Average discriminator loss:  0.19\n",
      "Average generator loss:  3.91\n"
     ]
    },
    {
     "name": "stderr",
     "output_type": "stream",
     "text": [
      "Epoch 62: 100%|██████████| 1397/1397 [00:20<00:00, 69.77it/s]\n"
     ]
    },
    {
     "name": "stdout",
     "output_type": "stream",
     "text": [
      "Average discriminator loss:  0.18\n",
      "Average generator loss:  3.92\n"
     ]
    },
    {
     "name": "stderr",
     "output_type": "stream",
     "text": [
      "Epoch 63: 100%|██████████| 1397/1397 [00:19<00:00, 71.01it/s]\n"
     ]
    },
    {
     "name": "stdout",
     "output_type": "stream",
     "text": [
      "Average discriminator loss:  0.18\n",
      "Average generator loss:  3.97\n"
     ]
    },
    {
     "name": "stderr",
     "output_type": "stream",
     "text": [
      "Epoch 64: 100%|██████████| 1397/1397 [00:19<00:00, 71.45it/s]\n"
     ]
    },
    {
     "name": "stdout",
     "output_type": "stream",
     "text": [
      "Average discriminator loss:  0.18\n",
      "Average generator loss:  3.93\n"
     ]
    },
    {
     "name": "stderr",
     "output_type": "stream",
     "text": [
      "Epoch 65: 100%|██████████| 1397/1397 [00:18<00:00, 73.58it/s]\n"
     ]
    },
    {
     "name": "stdout",
     "output_type": "stream",
     "text": [
      "Average discriminator loss:  0.18\n",
      "Average generator loss:  3.97\n"
     ]
    },
    {
     "name": "stderr",
     "output_type": "stream",
     "text": [
      "Epoch 66: 100%|██████████| 1397/1397 [00:18<00:00, 74.41it/s]\n"
     ]
    },
    {
     "name": "stdout",
     "output_type": "stream",
     "text": [
      "Average discriminator loss:  0.18\n",
      "Average generator loss:  3.99\n"
     ]
    },
    {
     "name": "stderr",
     "output_type": "stream",
     "text": [
      "Epoch 67: 100%|██████████| 1397/1397 [00:18<00:00, 73.73it/s]\n"
     ]
    },
    {
     "name": "stdout",
     "output_type": "stream",
     "text": [
      "Average discriminator loss:  0.18\n",
      "Average generator loss:  3.95\n"
     ]
    },
    {
     "name": "stderr",
     "output_type": "stream",
     "text": [
      "Epoch 68: 100%|██████████| 1397/1397 [00:19<00:00, 70.76it/s]\n"
     ]
    },
    {
     "name": "stdout",
     "output_type": "stream",
     "text": [
      "Average discriminator loss:  0.18\n",
      "Average generator loss:  3.96\n"
     ]
    },
    {
     "name": "stderr",
     "output_type": "stream",
     "text": [
      "Epoch 69: 100%|██████████| 1397/1397 [00:18<00:00, 74.28it/s]\n"
     ]
    },
    {
     "name": "stdout",
     "output_type": "stream",
     "text": [
      "Average discriminator loss:  0.18\n",
      "Average generator loss:  3.92\n"
     ]
    },
    {
     "name": "stderr",
     "output_type": "stream",
     "text": [
      "Epoch 70: 100%|██████████| 1397/1397 [00:18<00:00, 74.60it/s]\n"
     ]
    },
    {
     "name": "stdout",
     "output_type": "stream",
     "text": [
      "Average discriminator loss:  0.18\n",
      "Average generator loss:  3.87\n"
     ]
    },
    {
     "name": "stderr",
     "output_type": "stream",
     "text": [
      "Epoch 71: 100%|██████████| 1397/1397 [00:19<00:00, 71.04it/s]\n"
     ]
    },
    {
     "name": "stdout",
     "output_type": "stream",
     "text": [
      "Average discriminator loss:  0.18\n",
      "Average generator loss:  3.92\n"
     ]
    },
    {
     "name": "stderr",
     "output_type": "stream",
     "text": [
      "Epoch 72: 100%|██████████| 1397/1397 [00:19<00:00, 73.42it/s]\n"
     ]
    },
    {
     "name": "stdout",
     "output_type": "stream",
     "text": [
      "Average discriminator loss:  0.18\n",
      "Average generator loss:  3.92\n"
     ]
    },
    {
     "name": "stderr",
     "output_type": "stream",
     "text": [
      "Epoch 73: 100%|██████████| 1397/1397 [00:19<00:00, 72.53it/s]\n"
     ]
    },
    {
     "name": "stdout",
     "output_type": "stream",
     "text": [
      "Average discriminator loss:  0.19\n",
      "Average generator loss:  3.90\n"
     ]
    },
    {
     "name": "stderr",
     "output_type": "stream",
     "text": [
      "Epoch 74: 100%|██████████| 1397/1397 [00:20<00:00, 69.54it/s]\n"
     ]
    },
    {
     "name": "stdout",
     "output_type": "stream",
     "text": [
      "Average discriminator loss:  0.19\n",
      "Average generator loss:  3.90\n"
     ]
    },
    {
     "name": "stderr",
     "output_type": "stream",
     "text": [
      "Epoch 75: 100%|██████████| 1397/1397 [00:19<00:00, 70.51it/s]\n"
     ]
    },
    {
     "name": "stdout",
     "output_type": "stream",
     "text": [
      "Average discriminator loss:  0.19\n",
      "Average generator loss:  3.87\n"
     ]
    },
    {
     "name": "stderr",
     "output_type": "stream",
     "text": [
      "Epoch 76: 100%|██████████| 1397/1397 [00:19<00:00, 69.98it/s]\n"
     ]
    },
    {
     "name": "stdout",
     "output_type": "stream",
     "text": [
      "Average discriminator loss:  0.19\n",
      "Average generator loss:  3.91\n"
     ]
    },
    {
     "name": "stderr",
     "output_type": "stream",
     "text": [
      "Epoch 77: 100%|██████████| 1397/1397 [00:20<00:00, 68.99it/s]\n"
     ]
    },
    {
     "name": "stdout",
     "output_type": "stream",
     "text": [
      "Average discriminator loss:  0.19\n",
      "Average generator loss:  3.94\n"
     ]
    },
    {
     "name": "stderr",
     "output_type": "stream",
     "text": [
      "Epoch 78: 100%|██████████| 1397/1397 [00:19<00:00, 69.89it/s]\n"
     ]
    },
    {
     "name": "stdout",
     "output_type": "stream",
     "text": [
      "Average discriminator loss:  0.19\n",
      "Average generator loss:  3.94\n"
     ]
    },
    {
     "name": "stderr",
     "output_type": "stream",
     "text": [
      "Epoch 79: 100%|██████████| 1397/1397 [00:19<00:00, 71.48it/s]\n"
     ]
    },
    {
     "name": "stdout",
     "output_type": "stream",
     "text": [
      "Average discriminator loss:  0.19\n",
      "Average generator loss:  3.92\n"
     ]
    },
    {
     "name": "stderr",
     "output_type": "stream",
     "text": [
      "Epoch 80: 100%|██████████| 1397/1397 [00:20<00:00, 69.03it/s]\n"
     ]
    },
    {
     "name": "stdout",
     "output_type": "stream",
     "text": [
      "Average discriminator loss:  0.19\n",
      "Average generator loss:  3.92\n"
     ]
    },
    {
     "name": "stderr",
     "output_type": "stream",
     "text": [
      "Epoch 81: 100%|██████████| 1397/1397 [00:21<00:00, 65.96it/s]\n"
     ]
    },
    {
     "name": "stdout",
     "output_type": "stream",
     "text": [
      "Average discriminator loss:  0.19\n",
      "Average generator loss:  3.89\n"
     ]
    },
    {
     "name": "stderr",
     "output_type": "stream",
     "text": [
      "Epoch 82: 100%|██████████| 1397/1397 [00:20<00:00, 67.70it/s]\n"
     ]
    },
    {
     "name": "stdout",
     "output_type": "stream",
     "text": [
      "Average discriminator loss:  0.20\n",
      "Average generator loss:  3.85\n"
     ]
    },
    {
     "name": "stderr",
     "output_type": "stream",
     "text": [
      "Epoch 83: 100%|██████████| 1397/1397 [00:20<00:00, 69.79it/s]\n"
     ]
    },
    {
     "name": "stdout",
     "output_type": "stream",
     "text": [
      "Average discriminator loss:  0.19\n",
      "Average generator loss:  3.93\n"
     ]
    },
    {
     "name": "stderr",
     "output_type": "stream",
     "text": [
      "Epoch 84: 100%|██████████| 1397/1397 [00:21<00:00, 65.54it/s]\n"
     ]
    },
    {
     "name": "stdout",
     "output_type": "stream",
     "text": [
      "Average discriminator loss:  0.19\n",
      "Average generator loss:  3.91\n"
     ]
    },
    {
     "name": "stderr",
     "output_type": "stream",
     "text": [
      "Epoch 85: 100%|██████████| 1397/1397 [00:19<00:00, 72.10it/s]\n"
     ]
    },
    {
     "name": "stdout",
     "output_type": "stream",
     "text": [
      "Average discriminator loss:  0.20\n",
      "Average generator loss:  3.94\n"
     ]
    },
    {
     "name": "stderr",
     "output_type": "stream",
     "text": [
      "Epoch 86: 100%|██████████| 1397/1397 [00:19<00:00, 72.19it/s]\n"
     ]
    },
    {
     "name": "stdout",
     "output_type": "stream",
     "text": [
      "Average discriminator loss:  0.20\n",
      "Average generator loss:  3.91\n"
     ]
    },
    {
     "name": "stderr",
     "output_type": "stream",
     "text": [
      "Epoch 87: 100%|██████████| 1397/1397 [00:19<00:00, 70.83it/s]\n"
     ]
    },
    {
     "name": "stdout",
     "output_type": "stream",
     "text": [
      "Average discriminator loss:  0.20\n",
      "Average generator loss:  3.88\n"
     ]
    },
    {
     "name": "stderr",
     "output_type": "stream",
     "text": [
      "Epoch 88: 100%|██████████| 1397/1397 [00:20<00:00, 69.85it/s]\n"
     ]
    },
    {
     "name": "stdout",
     "output_type": "stream",
     "text": [
      "Average discriminator loss:  0.20\n",
      "Average generator loss:  3.87\n"
     ]
    },
    {
     "name": "stderr",
     "output_type": "stream",
     "text": [
      "Epoch 89: 100%|██████████| 1397/1397 [00:20<00:00, 69.65it/s]\n"
     ]
    },
    {
     "name": "stdout",
     "output_type": "stream",
     "text": [
      "Average discriminator loss:  0.19\n",
      "Average generator loss:  3.87\n"
     ]
    },
    {
     "name": "stderr",
     "output_type": "stream",
     "text": [
      "Epoch 90: 100%|██████████| 1397/1397 [00:19<00:00, 71.71it/s]\n"
     ]
    },
    {
     "name": "stdout",
     "output_type": "stream",
     "text": [
      "Average discriminator loss:  0.19\n",
      "Average generator loss:  3.88\n"
     ]
    },
    {
     "name": "stderr",
     "output_type": "stream",
     "text": [
      "Epoch 91: 100%|██████████| 1397/1397 [00:20<00:00, 69.64it/s]\n"
     ]
    },
    {
     "name": "stdout",
     "output_type": "stream",
     "text": [
      "Average discriminator loss:  0.19\n",
      "Average generator loss:  3.90\n"
     ]
    },
    {
     "name": "stderr",
     "output_type": "stream",
     "text": [
      "Epoch 92: 100%|██████████| 1397/1397 [00:19<00:00, 70.57it/s]\n"
     ]
    },
    {
     "name": "stdout",
     "output_type": "stream",
     "text": [
      "Average discriminator loss:  0.19\n",
      "Average generator loss:  3.86\n"
     ]
    },
    {
     "name": "stderr",
     "output_type": "stream",
     "text": [
      "Epoch 93: 100%|██████████| 1397/1397 [00:19<00:00, 70.52it/s]\n"
     ]
    },
    {
     "name": "stdout",
     "output_type": "stream",
     "text": [
      "Average discriminator loss:  0.20\n",
      "Average generator loss:  3.88\n"
     ]
    },
    {
     "name": "stderr",
     "output_type": "stream",
     "text": [
      "Epoch 94: 100%|██████████| 1397/1397 [00:19<00:00, 70.43it/s]\n"
     ]
    },
    {
     "name": "stdout",
     "output_type": "stream",
     "text": [
      "Average discriminator loss:  0.20\n",
      "Average generator loss:  3.88\n"
     ]
    },
    {
     "name": "stderr",
     "output_type": "stream",
     "text": [
      "Epoch 95: 100%|██████████| 1397/1397 [00:19<00:00, 71.50it/s]\n"
     ]
    },
    {
     "name": "stdout",
     "output_type": "stream",
     "text": [
      "Average discriminator loss:  0.20\n",
      "Average generator loss:  3.84\n"
     ]
    },
    {
     "name": "stderr",
     "output_type": "stream",
     "text": [
      "Epoch 96: 100%|██████████| 1397/1397 [00:20<00:00, 67.78it/s]\n"
     ]
    },
    {
     "name": "stdout",
     "output_type": "stream",
     "text": [
      "Average discriminator loss:  0.20\n",
      "Average generator loss:  3.84\n"
     ]
    },
    {
     "name": "stderr",
     "output_type": "stream",
     "text": [
      "Epoch 97: 100%|██████████| 1397/1397 [00:20<00:00, 68.49it/s]\n"
     ]
    },
    {
     "name": "stdout",
     "output_type": "stream",
     "text": [
      "Average discriminator loss:  0.20\n",
      "Average generator loss:  3.86\n"
     ]
    },
    {
     "name": "stderr",
     "output_type": "stream",
     "text": [
      "Epoch 98: 100%|██████████| 1397/1397 [00:19<00:00, 70.28it/s]\n"
     ]
    },
    {
     "name": "stdout",
     "output_type": "stream",
     "text": [
      "Average discriminator loss:  0.20\n",
      "Average generator loss:  3.86\n"
     ]
    },
    {
     "name": "stderr",
     "output_type": "stream",
     "text": [
      "Epoch 99: 100%|██████████| 1397/1397 [00:20<00:00, 69.42it/s]\n"
     ]
    },
    {
     "name": "stdout",
     "output_type": "stream",
     "text": [
      "Average discriminator loss:  0.20\n",
      "Average generator loss:  3.83\n"
     ]
    }
   ],
   "execution_count": 54
  },
  {
   "metadata": {
    "id": "5fc632b1aa8aa1e8"
   },
   "cell_type": "markdown",
   "source": [
    "### Inspecting results\n",
    "Checking if our model did pookie"
   ],
   "id": "5fc632b1aa8aa1e8"
  },
  {
   "metadata": {
    "id": "b4f0c418888a8ca5",
    "ExecuteTime": {
     "end_time": "2025-05-21T23:15:12.463316Z",
     "start_time": "2025-05-21T23:15:12.455824Z"
    }
   },
   "cell_type": "code",
   "source": [
    "Z = torch.normal(0, 1, size=(15, 100, 1, 1), device=device)\n",
    "\n",
    "with torch.no_grad():\n",
    "    images = gan._gen(Z)\n",
    "    labels = gan._dis(images)\n",
    "\n",
    "images = images.permute(0, 2, 3, 1)/2+0.5"
   ],
   "id": "b4f0c418888a8ca5",
   "outputs": [],
   "execution_count": 92
  },
  {
   "metadata": {
    "id": "6f7dda2ea321dc5a",
    "outputId": "75d922e9-32fd-417e-f3f1-b79280287291",
    "colab": {
     "base_uri": "https://localhost:8080/",
     "height": 1000
    },
    "ExecuteTime": {
     "end_time": "2025-05-21T23:15:14.254459Z",
     "start_time": "2025-05-21T23:15:13.645408Z"
    }
   },
   "cell_type": "code",
   "source": [
    "fig, axis = plt.subplots(3, 5)\n",
    "axis = axis.flatten()\n",
    "\n",
    "for i in range(15):\n",
    "    axis[i].imshow(images.cpu()[i])\n",
    "\n",
    "plt.show()"
   ],
   "id": "6f7dda2ea321dc5a",
   "outputs": [
    {
     "data": {
      "text/plain": [
       "<Figure size 640x480 with 15 Axes>"
      ],
      "image/png": "[encoded data removed]"
     },
     "metadata": {},
     "output_type": "display_data"
    }
   ],
   "execution_count": 93
  },
  {
   "metadata": {},
   "cell_type": "markdown",
   "source": [
    "### Saving the model\n",
    "\n",
    "Saving these pookie weights"
   ],
   "id": "def4257f68283c91"
  },
  {
   "metadata": {
    "id": "870017519ad2d2bc",
    "ExecuteTime": {
     "end_time": "2025-05-21T23:20:19.989677Z",
     "start_time": "2025-05-21T23:20:19.961069Z"
    }
   },
   "cell_type": "code",
   "source": [
    "gen_path = os.path.join(\"models\", \"v1_200epoch_gen.pt\")\n",
    "dis_path = os.path.join(\"models\", \"v1_200epoch_dis.pt\")\n",
    "\n",
    "torch.save(gan._gen.state_dict(), gen_path)\n",
    "torch.save(gan._dis.state_dict(), dis_path)"
   ],
   "id": "870017519ad2d2bc",
   "outputs": [],
   "execution_count": 95
  },
  {
   "metadata": {},
   "cell_type": "code",
   "outputs": [],
   "execution_count": null,
   "source": "",
   "id": "4cfbb6448bb5f616"
  }
 ],
 "metadata": {
  "kernelspec": {
   "display_name": "Python 3",
   "name": "python3"
  },
  "language_info": {
   "codemirror_mode": {
    "name": "ipython",
    "version": 2
   },
   "file_extension": ".py",
   "mimetype": "text/x-python",
   "name": "python",
   "nbconvert_exporter": "python",
   "pygments_lexer": "ipython2",
   "version": "2.7.6"
  },
  "colab": {
   "provenance": [],
   "gpuType": "T4"
  },
  "accelerator": "GPU"
 },
 "nbformat": 4,
 "nbformat_minor": 5
}
