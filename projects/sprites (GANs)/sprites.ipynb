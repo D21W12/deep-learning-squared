{
  "cells": [
    {
      "metadata": {
        "id": "ae15ebfc126e17db"
      },
      "cell_type": "markdown",
      "source": [
        "### Imports\n",
        "\n",
        "The following cell imports all necessary libraries/modules"
      ],
      "id": "ae15ebfc126e17db"
    },
    {
      "cell_type": "code",
      "id": "initial_id",
      "metadata": {
        "collapsed": true,
        "ExecuteTime": {
          "end_time": "2025-05-21T17:45:49.028378Z",
          "start_time": "2025-05-21T17:45:49.021534Z"
        },
        "id": "initial_id"
      },
      "source": [
        "import torch\n",
        "import torchvision\n",
        "import torch.nn as nn\n",
        "from torch.utils.data import DataLoader, Dataset\n",
        "import os\n",
        "import matplotlib.pyplot as plt\n",
        "from tqdm import tqdm\n",
        "import numpy as np"
      ],
      "outputs": [],
      "execution_count": 121
    },
    {
      "metadata": {
        "id": "65e2ed1d1f70a02d"
      },
      "cell_type": "markdown",
      "source": [
        "### Creating dataloader\n",
        "\n",
        "Transforming the data and creating an useful dataloader object to use for training."
      ],
      "id": "65e2ed1d1f70a02d"
    },
    {
      "metadata": {
        "ExecuteTime": {
          "end_time": "2025-05-21T17:48:06.017257Z",
          "start_time": "2025-05-21T17:48:06.011344Z"
        },
        "id": "6abfbebde9d21ec1"
      },
      "cell_type": "code",
      "source": [
        "class Sprites(Dataset):\n",
        "\n",
        "    def __init__(self, images: str, transform=None):\n",
        "        self.images = torch.from_numpy(np.load(images)) / 255\n",
        "        self.transform = transform\n",
        "\n",
        "    def __len__(self):\n",
        "        return self.images.shape[0]\n",
        "\n",
        "    def __getitem__(self, idx):\n",
        "        image = self.images[idx]\n",
        "        if self.transform:\n",
        "            image = self.transform(image)\n",
        "        return image"
      ],
      "id": "6abfbebde9d21ec1",
      "outputs": [],
      "execution_count": 122
    },
    {
      "metadata": {
        "ExecuteTime": {
          "end_time": "2025-05-21T17:48:06.349900Z",
          "start_time": "2025-05-21T17:48:06.347130Z"
        },
        "id": "903767f66528d506"
      },
      "cell_type": "code",
      "source": [
        "BATCH_SIZE = 64"
      ],
      "id": "903767f66528d506",
      "outputs": [],
      "execution_count": 123
    },
    {
      "metadata": {
        "ExecuteTime": {
          "end_time": "2025-05-21T17:48:06.709994Z",
          "start_time": "2025-05-21T17:48:06.706869Z"
        },
        "id": "902c70b93dba3cb"
      },
      "cell_type": "code",
      "source": [
        "device = torch.device(\"cuda\" if torch.cuda.is_available() else \"cpu\")"
      ],
      "id": "902c70b93dba3cb",
      "outputs": [],
      "execution_count": 124
    },
    {
      "metadata": {
        "ExecuteTime": {
          "end_time": "2025-05-21T17:48:07.093476Z",
          "start_time": "2025-05-21T17:48:07.091339Z"
        },
        "id": "4970ebaee6f37301"
      },
      "cell_type": "code",
      "source": [
        "transforms = torchvision.transforms.Compose([\n",
        "    torchvision.transforms.Normalize(0.5, 0.5)\n",
        "])"
      ],
      "id": "4970ebaee6f37301",
      "outputs": [],
      "execution_count": 125
    },
    {
      "metadata": {
        "ExecuteTime": {
          "end_time": "2025-05-21T17:48:07.673316Z",
          "start_time": "2025-05-21T17:48:07.444647Z"
        },
        "id": "92561656a4beaff2"
      },
      "cell_type": "code",
      "source": [
        "images = os.path.join(\"sprites.npy\")\n",
        "\n",
        "sprites = Sprites(images=images, transform=transforms)\n",
        "\n",
        "dataloader = DataLoader(\n",
        "    dataset=sprites,\n",
        "    shuffle=True,\n",
        "    batch_size=BATCH_SIZE,\n",
        ")"
      ],
      "id": "92561656a4beaff2",
      "outputs": [],
      "execution_count": 126
    },
    {
      "metadata": {
        "id": "61658a8d496c036d"
      },
      "cell_type": "markdown",
      "source": [
        "### Looking at the data\n",
        "\n",
        "In the following cells we take a look at the data"
      ],
      "id": "61658a8d496c036d"
    },
    {
      "metadata": {
        "ExecuteTime": {
          "end_time": "2025-05-21T17:48:09.713630Z",
          "start_time": "2025-05-21T17:48:09.702945Z"
        },
        "id": "48a1a38688c31573"
      },
      "cell_type": "code",
      "source": [
        "samples = next(iter(dataloader))"
      ],
      "id": "48a1a38688c31573",
      "outputs": [],
      "execution_count": 127
    },
    {
      "metadata": {
        "ExecuteTime": {
          "end_time": "2025-05-21T17:48:12.792014Z",
          "start_time": "2025-05-21T17:48:12.640271Z"
        },
        "id": "26ef1181e6588ccc",
        "outputId": "0ba851c8-5181-4623-9208-0ab66f880d19",
        "colab": {
          "base_uri": "https://localhost:8080/",
          "height": 350
        }
      },
      "cell_type": "code",
      "source": [
        "samples = samples[:10,:,:,:] / 2 + 0.5 # Undo the normalization when showing the images\n",
        "\n",
        "fig, axis = plt.subplots(2, 5)\n",
        "axis = axis.flatten()\n",
        "\n",
        "for i in range(10):\n",
        "    axis[i].imshow(samples[i])\n",
        "\n",
        "plt.show()"
      ],
      "id": "26ef1181e6588ccc",
      "outputs": [
        {
          "output_type": "display_data",
          "data": {
            "text/plain": [
              "<Figure size 640x480 with 10 Axes>"
            ],
            "image/png": "[encoded data removed]"
          },
          "metadata": {}
        }
      ],
      "execution_count": 128
    },
    {
      "metadata": {
        "id": "ea6655bf4a1877bb"
      },
      "cell_type": "markdown",
      "source": [
        "### Creating our networks\n",
        "\n",
        "Creating the generator and discriminator network and it's necessary blocks and modules."
      ],
      "id": "ea6655bf4a1877bb"
    },
    {
      "metadata": {
        "ExecuteTime": {
          "end_time": "2025-05-21T17:16:27.465569Z",
          "start_time": "2025-05-21T17:16:27.460493Z"
        },
        "id": "6543ed9232cc222b"
      },
      "cell_type": "code",
      "source": [
        "class PrintShape(nn.Module):\n",
        "    \"\"\"\n",
        "    Neural network model used for debugging the shape.\n",
        "    \"\"\"\n",
        "\n",
        "    def forward(self, x):\n",
        "        print(x.shape)\n",
        "        return x"
      ],
      "id": "6543ed9232cc222b",
      "outputs": [],
      "execution_count": 129
    },
    {
      "metadata": {
        "ExecuteTime": {
          "end_time": "2025-05-21T17:16:27.490458Z",
          "start_time": "2025-05-21T17:16:27.487391Z"
        },
        "id": "9938a5537649349a"
      },
      "cell_type": "code",
      "source": [
        "class GeneratorBlock(nn.Module):\n",
        "\n",
        "    def __init__(\n",
        "            self,\n",
        "            in_channels,\n",
        "            out_channels,\n",
        "            kernel_size=4,\n",
        "            stride=2,\n",
        "            padding=1,\n",
        "            **kwargs\n",
        "    ):\n",
        "        super().__init__(**kwargs)\n",
        "        self.conv_trans2d = nn.ConvTranspose2d(\n",
        "            in_channels=in_channels,\n",
        "            out_channels=out_channels,\n",
        "            kernel_size=kernel_size,\n",
        "            stride=stride,\n",
        "            padding=padding,\n",
        "        )\n",
        "        self.batch_norm = nn.BatchNorm2d(out_channels)\n",
        "        self.activation = nn.ReLU()\n",
        "\n",
        "    def forward(self, x):\n",
        "        return self.activation(self.batch_norm(self.conv_trans2d(x)))"
      ],
      "id": "9938a5537649349a",
      "outputs": [],
      "execution_count": 130
    },
    {
      "metadata": {
        "ExecuteTime": {
          "end_time": "2025-05-21T17:16:27.518348Z",
          "start_time": "2025-05-21T17:16:27.513644Z"
        },
        "id": "a5fb358e10815fd5"
      },
      "cell_type": "code",
      "source": [
        "class Generator(nn.Module):\n",
        "\n",
        "    def __init__(self, **kwargs):\n",
        "        super().__init__(**kwargs)\n",
        "\n",
        "        n_G = 16\n",
        "        self.net = nn.Sequential(\n",
        "            GeneratorBlock(\n",
        "                in_channels=100,\n",
        "                out_channels=n_G * 4,\n",
        "                kernel_size=4,\n",
        "                stride=1,\n",
        "                padding=0,\n",
        "            ), # Output: BATCH_SIZE x 64 x 4 x 4\n",
        "            GeneratorBlock(\n",
        "                in_channels=n_G * 4,\n",
        "                out_channels=n_G * 2,\n",
        "                kernel_size=4,\n",
        "                stride=2,\n",
        "                padding=1,\n",
        "            ), # Output: BATCH_SIZE x 32 x 8 x 8\n",
        "            nn.ConvTranspose2d(\n",
        "                in_channels=n_G * 2,\n",
        "                out_channels=3,\n",
        "                kernel_size=4,\n",
        "                stride=2,\n",
        "                padding=1\n",
        "            ), nn.Tanh()  # Output: BATCH_SIZE x 3 x 16 x 16\n",
        "        )\n",
        "\n",
        "    def forward(self, x):\n",
        "        return self.net(x)"
      ],
      "id": "a5fb358e10815fd5",
      "outputs": [],
      "execution_count": 131
    },
    {
      "metadata": {
        "ExecuteTime": {
          "end_time": "2025-05-21T17:16:27.548976Z",
          "start_time": "2025-05-21T17:16:27.544847Z"
        },
        "id": "629808e96c530b41"
      },
      "cell_type": "code",
      "source": [
        "class DiscriminatorBlock(nn.Module):\n",
        "\n",
        "    def __init__(\n",
        "            self,\n",
        "            in_channels: int,\n",
        "            out_channels: int,\n",
        "            kernel_size: int,\n",
        "            stride: int,\n",
        "            padding: int,\n",
        "            alpha: float,\n",
        "            **kwargs\n",
        "    ):\n",
        "\n",
        "        super().__init__(**kwargs)\n",
        "\n",
        "        self.conv = nn.Conv2d(\n",
        "            in_channels=in_channels,\n",
        "            out_channels=out_channels,\n",
        "            kernel_size=kernel_size,\n",
        "            stride=stride,\n",
        "            padding=padding,\n",
        "        )\n",
        "        self.batch_norm = nn.BatchNorm2d(out_channels)\n",
        "        self.activation = nn.LeakyReLU(alpha)\n",
        "\n",
        "    def forward(self, x):\n",
        "        return self.activation(self.batch_norm(self.conv(x)))"
      ],
      "id": "629808e96c530b41",
      "outputs": [],
      "execution_count": 132
    },
    {
      "metadata": {
        "ExecuteTime": {
          "end_time": "2025-05-21T17:16:27.579385Z",
          "start_time": "2025-05-21T17:16:27.574387Z"
        },
        "id": "d38e3d1112875063"
      },
      "cell_type": "code",
      "source": [
        "class Discriminator(nn.Module):\n",
        "\n",
        "    def __init__(self, alpha: float, **kwargs):\n",
        "        super().__init__(**kwargs)\n",
        "\n",
        "        self.net = nn.Sequential(\n",
        "            DiscriminatorBlock(\n",
        "                in_channels=3,\n",
        "                out_channels=16,\n",
        "                kernel_size=4,\n",
        "                stride=2,\n",
        "                padding=1,\n",
        "                alpha=alpha,\n",
        "            ),  # Output: BATCH_SIZE x 16 x 8 x 8\n",
        "            DiscriminatorBlock(\n",
        "                in_channels=16,\n",
        "                out_channels=32,\n",
        "                kernel_size=4,\n",
        "                stride=2,\n",
        "                padding=1,\n",
        "                alpha=alpha,\n",
        "            ),  # Output: BATCH_SIZE x 32 x 4 x 4\n",
        "            nn.Conv2d(in_channels=32, out_channels=1, kernel_size=4, stride=1, padding=0),\n",
        "            nn.Sigmoid()\n",
        "        )\n",
        "\n",
        "    def forward(self, x):\n",
        "        return self.net(x)"
      ],
      "id": "d38e3d1112875063",
      "outputs": [],
      "execution_count": 133
    },
    {
      "metadata": {
        "ExecuteTime": {
          "end_time": "2025-05-21T17:16:27.608405Z",
          "start_time": "2025-05-21T17:16:27.602065Z"
        },
        "id": "52de0b63a8797041"
      },
      "cell_type": "code",
      "source": [
        "class GAN:\n",
        "\n",
        "    def __init__(\n",
        "            self,\n",
        "            alpha: float = 0.2,\n",
        "            lr: float = 0.0002,\n",
        "            betas: tuple[float, float] = (0.5, 0.999)\n",
        "    ):\n",
        "\n",
        "        self._gen = Generator().to(device)\n",
        "        self._dis = Discriminator(alpha).to(device)\n",
        "\n",
        "        self._gen_optim = torch.optim.Adam(\n",
        "            params=self._gen.parameters(),\n",
        "            lr=lr,\n",
        "            betas=betas,\n",
        "        )\n",
        "        self._dis_optim = torch.optim.Adam(\n",
        "            params=self._dis.parameters(),\n",
        "            lr=lr,\n",
        "            betas=betas,\n",
        "        )\n",
        "\n",
        "        self._loss = nn.BCELoss()\n",
        "\n",
        "    def train(\n",
        "            self,\n",
        "            data: DataLoader,\n",
        "            epochs: int = 10,\n",
        "    ):\n",
        "\n",
        "        for epoch in range(epochs):\n",
        "            D_losses = []\n",
        "            G_losses = []\n",
        "\n",
        "            for real_X in tqdm(data, f\"Epoch {epoch +1}\"):\n",
        "\n",
        "                batch_size = real_X.shape\n",
        "\n",
        "                # Updating discriminator\n",
        "                Z = torch.normal(0, 1, size=(BATCH_SIZE, 100, 1, 1), device=device)\n",
        "\n",
        "                fake_X = self._gen(Z).detach()\n",
        "                fake_Y = self._dis(fake_X)\n",
        "\n",
        "                real_Y = self._dis(real_X.permute(0, 3, 1, 2).to(device))\n",
        "\n",
        "                ones = torch.ones_like(real_Y)\n",
        "                zeros = torch.zeros_like(fake_Y)\n",
        "\n",
        "                D_loss = (self._loss(real_Y, ones) + self._loss(fake_Y, zeros)) / 2\n",
        "                D_losses.append(D_loss)\n",
        "\n",
        "                self._dis_optim.zero_grad()\n",
        "                D_loss.backward()\n",
        "                self._dis_optim.step()\n",
        "\n",
        "                # Updating generator\n",
        "                Z = torch.normal(0, 1, size=(BATCH_SIZE, 100, 1, 1), device=device)\n",
        "\n",
        "                fake_X = self._gen(Z)\n",
        "                fake_Y = self._dis(fake_X)\n",
        "\n",
        "                ones = torch.ones_like(fake_Y)\n",
        "\n",
        "                G_loss = self._loss(fake_Y, ones)\n",
        "                G_losses.append(G_loss)\n",
        "\n",
        "                self._gen_optim.zero_grad()\n",
        "                G_loss.backward()\n",
        "                self._gen_optim.step()\n",
        "\n",
        "            print(f\"Average discriminator loss: {sum(D_losses) / len(D_losses):5.2f}\")\n",
        "            print(f\"Average generator loss: {sum(G_losses) / len(G_losses):5.2f}\")\n",
        "\n",
        "    def generate_images(self, images: int) -> torch.Tensor:\n",
        "\n",
        "        Z = torch.normal(0, 1, size=(images, 100, 1, 1), device=device)\n",
        "        with torch.no_grad():\n",
        "            images = self._gen(Z)\n",
        "        return images"
      ],
      "id": "52de0b63a8797041",
      "outputs": [],
      "execution_count": 134
    },
    {
      "metadata": {
        "id": "b92ba8143ca742b8"
      },
      "cell_type": "markdown",
      "source": [
        "### Training the network"
      ],
      "id": "b92ba8143ca742b8"
    },
    {
      "metadata": {
        "ExecuteTime": {
          "end_time": "2025-05-21T17:16:27.691592Z",
          "start_time": "2025-05-21T17:16:27.669615Z"
        },
        "id": "1c2c7be5e0019ce4"
      },
      "cell_type": "code",
      "source": [
        "gan = GAN(\n",
        "    alpha=0.2,\n",
        "    lr=0.0002,\n",
        "    betas=(0.5, 0.999)\n",
        ")"
      ],
      "id": "1c2c7be5e0019ce4",
      "outputs": [],
      "execution_count": 135
    },
    {
      "metadata": {
        "ExecuteTime": {
          "end_time": "2025-05-21T17:30:42.681323Z",
          "start_time": "2025-05-21T17:16:27.771926Z"
        },
        "id": "4c347020b44ba21b",
        "outputId": "225ab117-3d8d-4b52-ed71-692505fd480e",
        "colab": {
          "base_uri": "https://localhost:8080/"
        }
      },
      "cell_type": "code",
      "source": [
        "gan.train(\n",
        "    data=dataloader,\n",
        "    epochs=50\n",
        ")"
      ],
      "id": "4c347020b44ba21b",
      "outputs": [
        {
          "output_type": "stream",
          "name": "stderr",
          "text": [
            "Epoch 1: 100%|██████████| 1397/1397 [00:17<00:00, 78.35it/s]\n"
          ]
        },
        {
          "output_type": "stream",
          "name": "stdout",
          "text": [
            "Average discriminator loss:  0.26\n",
            "Average generator loss:  2.10\n"
          ]
        },
        {
          "output_type": "stream",
          "name": "stderr",
          "text": [
            "Epoch 2: 100%|██████████| 1397/1397 [00:17<00:00, 78.43it/s]\n"
          ]
        },
        {
          "output_type": "stream",
          "name": "stdout",
          "text": [
            "Average discriminator loss:  0.25\n",
            "Average generator loss:  2.18\n"
          ]
        },
        {
          "output_type": "stream",
          "name": "stderr",
          "text": [
            "Epoch 3: 100%|██████████| 1397/1397 [00:18<00:00, 75.85it/s]\n"
          ]
        },
        {
          "output_type": "stream",
          "name": "stdout",
          "text": [
            "Average discriminator loss:  0.24\n",
            "Average generator loss:  2.24\n"
          ]
        },
        {
          "output_type": "stream",
          "name": "stderr",
          "text": [
            "Epoch 4: 100%|██████████| 1397/1397 [00:17<00:00, 77.78it/s]\n"
          ]
        },
        {
          "output_type": "stream",
          "name": "stdout",
          "text": [
            "Average discriminator loss:  0.23\n",
            "Average generator loss:  2.30\n"
          ]
        },
        {
          "output_type": "stream",
          "name": "stderr",
          "text": [
            "Epoch 5: 100%|██████████| 1397/1397 [00:18<00:00, 75.26it/s]\n"
          ]
        },
        {
          "output_type": "stream",
          "name": "stdout",
          "text": [
            "Average discriminator loss:  0.23\n",
            "Average generator loss:  2.35\n"
          ]
        },
        {
          "output_type": "stream",
          "name": "stderr",
          "text": [
            "Epoch 6: 100%|██████████| 1397/1397 [00:18<00:00, 75.65it/s]\n"
          ]
        },
        {
          "output_type": "stream",
          "name": "stdout",
          "text": [
            "Average discriminator loss:  0.23\n",
            "Average generator loss:  2.42\n"
          ]
        },
        {
          "output_type": "stream",
          "name": "stderr",
          "text": [
            "Epoch 7: 100%|██████████| 1397/1397 [00:18<00:00, 76.27it/s]\n"
          ]
        },
        {
          "output_type": "stream",
          "name": "stdout",
          "text": [
            "Average discriminator loss:  0.22\n",
            "Average generator loss:  2.47\n"
          ]
        },
        {
          "output_type": "stream",
          "name": "stderr",
          "text": [
            "Epoch 8: 100%|██████████| 1397/1397 [00:17<00:00, 78.56it/s]\n"
          ]
        },
        {
          "output_type": "stream",
          "name": "stdout",
          "text": [
            "Average discriminator loss:  0.21\n",
            "Average generator loss:  2.54\n"
          ]
        },
        {
          "output_type": "stream",
          "name": "stderr",
          "text": [
            "Epoch 9: 100%|██████████| 1397/1397 [00:18<00:00, 76.30it/s]\n"
          ]
        },
        {
          "output_type": "stream",
          "name": "stdout",
          "text": [
            "Average discriminator loss:  0.21\n",
            "Average generator loss:  2.59\n"
          ]
        },
        {
          "output_type": "stream",
          "name": "stderr",
          "text": [
            "Epoch 10: 100%|██████████| 1397/1397 [00:17<00:00, 79.47it/s]\n"
          ]
        },
        {
          "output_type": "stream",
          "name": "stdout",
          "text": [
            "Average discriminator loss:  0.21\n",
            "Average generator loss:  2.63\n"
          ]
        },
        {
          "output_type": "stream",
          "name": "stderr",
          "text": [
            "Epoch 11: 100%|██████████| 1397/1397 [00:18<00:00, 77.27it/s]\n"
          ]
        },
        {
          "output_type": "stream",
          "name": "stdout",
          "text": [
            "Average discriminator loss:  0.21\n",
            "Average generator loss:  2.65\n"
          ]
        },
        {
          "output_type": "stream",
          "name": "stderr",
          "text": [
            "Epoch 12: 100%|██████████| 1397/1397 [00:17<00:00, 78.69it/s]\n"
          ]
        },
        {
          "output_type": "stream",
          "name": "stdout",
          "text": [
            "Average discriminator loss:  0.21\n",
            "Average generator loss:  2.69\n"
          ]
        },
        {
          "output_type": "stream",
          "name": "stderr",
          "text": [
            "Epoch 13: 100%|██████████| 1397/1397 [00:17<00:00, 79.08it/s]\n"
          ]
        },
        {
          "output_type": "stream",
          "name": "stdout",
          "text": [
            "Average discriminator loss:  0.20\n",
            "Average generator loss:  2.74\n"
          ]
        },
        {
          "output_type": "stream",
          "name": "stderr",
          "text": [
            "Epoch 14: 100%|██████████| 1397/1397 [00:18<00:00, 77.36it/s]\n"
          ]
        },
        {
          "output_type": "stream",
          "name": "stdout",
          "text": [
            "Average discriminator loss:  0.20\n",
            "Average generator loss:  2.78\n"
          ]
        },
        {
          "output_type": "stream",
          "name": "stderr",
          "text": [
            "Epoch 15: 100%|██████████| 1397/1397 [00:17<00:00, 79.31it/s]\n"
          ]
        },
        {
          "output_type": "stream",
          "name": "stdout",
          "text": [
            "Average discriminator loss:  0.20\n",
            "Average generator loss:  2.80\n"
          ]
        },
        {
          "output_type": "stream",
          "name": "stderr",
          "text": [
            "Epoch 16: 100%|██████████| 1397/1397 [00:18<00:00, 76.46it/s]\n"
          ]
        },
        {
          "output_type": "stream",
          "name": "stdout",
          "text": [
            "Average discriminator loss:  0.20\n",
            "Average generator loss:  2.82\n"
          ]
        },
        {
          "output_type": "stream",
          "name": "stderr",
          "text": [
            "Epoch 17: 100%|██████████| 1397/1397 [00:17<00:00, 79.04it/s]\n"
          ]
        },
        {
          "output_type": "stream",
          "name": "stdout",
          "text": [
            "Average discriminator loss:  0.20\n",
            "Average generator loss:  2.84\n"
          ]
        },
        {
          "output_type": "stream",
          "name": "stderr",
          "text": [
            "Epoch 18: 100%|██████████| 1397/1397 [00:18<00:00, 77.12it/s]\n"
          ]
        },
        {
          "output_type": "stream",
          "name": "stdout",
          "text": [
            "Average discriminator loss:  0.20\n",
            "Average generator loss:  2.89\n"
          ]
        },
        {
          "output_type": "stream",
          "name": "stderr",
          "text": [
            "Epoch 19: 100%|██████████| 1397/1397 [00:17<00:00, 79.40it/s]\n"
          ]
        },
        {
          "output_type": "stream",
          "name": "stdout",
          "text": [
            "Average discriminator loss:  0.20\n",
            "Average generator loss:  2.90\n"
          ]
        },
        {
          "output_type": "stream",
          "name": "stderr",
          "text": [
            "Epoch 20: 100%|██████████| 1397/1397 [00:18<00:00, 76.20it/s]\n"
          ]
        },
        {
          "output_type": "stream",
          "name": "stdout",
          "text": [
            "Average discriminator loss:  0.20\n",
            "Average generator loss:  2.90\n"
          ]
        },
        {
          "output_type": "stream",
          "name": "stderr",
          "text": [
            "Epoch 21: 100%|██████████| 1397/1397 [00:17<00:00, 79.00it/s]\n"
          ]
        },
        {
          "output_type": "stream",
          "name": "stdout",
          "text": [
            "Average discriminator loss:  0.20\n",
            "Average generator loss:  2.91\n"
          ]
        },
        {
          "output_type": "stream",
          "name": "stderr",
          "text": [
            "Epoch 22: 100%|██████████| 1397/1397 [00:17<00:00, 78.26it/s]\n"
          ]
        },
        {
          "output_type": "stream",
          "name": "stdout",
          "text": [
            "Average discriminator loss:  0.20\n",
            "Average generator loss:  2.94\n"
          ]
        },
        {
          "output_type": "stream",
          "name": "stderr",
          "text": [
            "Epoch 23: 100%|██████████| 1397/1397 [00:18<00:00, 77.12it/s]\n"
          ]
        },
        {
          "output_type": "stream",
          "name": "stdout",
          "text": [
            "Average discriminator loss:  0.20\n",
            "Average generator loss:  3.01\n"
          ]
        },
        {
          "output_type": "stream",
          "name": "stderr",
          "text": [
            "Epoch 24: 100%|██████████| 1397/1397 [00:17<00:00, 79.60it/s]\n"
          ]
        },
        {
          "output_type": "stream",
          "name": "stdout",
          "text": [
            "Average discriminator loss:  0.20\n",
            "Average generator loss:  2.99\n"
          ]
        },
        {
          "output_type": "stream",
          "name": "stderr",
          "text": [
            "Epoch 25: 100%|██████████| 1397/1397 [00:18<00:00, 76.95it/s]\n"
          ]
        },
        {
          "output_type": "stream",
          "name": "stdout",
          "text": [
            "Average discriminator loss:  0.20\n",
            "Average generator loss:  2.98\n"
          ]
        },
        {
          "output_type": "stream",
          "name": "stderr",
          "text": [
            "Epoch 26: 100%|██████████| 1397/1397 [00:17<00:00, 79.07it/s]\n"
          ]
        },
        {
          "output_type": "stream",
          "name": "stdout",
          "text": [
            "Average discriminator loss:  0.20\n",
            "Average generator loss:  3.00\n"
          ]
        },
        {
          "output_type": "stream",
          "name": "stderr",
          "text": [
            "Epoch 27: 100%|██████████| 1397/1397 [00:18<00:00, 76.72it/s]\n"
          ]
        },
        {
          "output_type": "stream",
          "name": "stdout",
          "text": [
            "Average discriminator loss:  0.20\n",
            "Average generator loss:  3.00\n"
          ]
        },
        {
          "output_type": "stream",
          "name": "stderr",
          "text": [
            "Epoch 28: 100%|██████████| 1397/1397 [00:17<00:00, 80.48it/s]\n"
          ]
        },
        {
          "output_type": "stream",
          "name": "stdout",
          "text": [
            "Average discriminator loss:  0.20\n",
            "Average generator loss:  3.05\n"
          ]
        },
        {
          "output_type": "stream",
          "name": "stderr",
          "text": [
            "Epoch 29: 100%|██████████| 1397/1397 [00:17<00:00, 79.05it/s]\n"
          ]
        },
        {
          "output_type": "stream",
          "name": "stdout",
          "text": [
            "Average discriminator loss:  0.20\n",
            "Average generator loss:  3.03\n"
          ]
        },
        {
          "output_type": "stream",
          "name": "stderr",
          "text": [
            "Epoch 30: 100%|██████████| 1397/1397 [00:17<00:00, 77.62it/s]\n"
          ]
        },
        {
          "output_type": "stream",
          "name": "stdout",
          "text": [
            "Average discriminator loss:  0.21\n",
            "Average generator loss:  3.03\n"
          ]
        },
        {
          "output_type": "stream",
          "name": "stderr",
          "text": [
            "Epoch 31: 100%|██████████| 1397/1397 [00:17<00:00, 79.62it/s]\n"
          ]
        },
        {
          "output_type": "stream",
          "name": "stdout",
          "text": [
            "Average discriminator loss:  0.20\n",
            "Average generator loss:  3.06\n"
          ]
        },
        {
          "output_type": "stream",
          "name": "stderr",
          "text": [
            "Epoch 32: 100%|██████████| 1397/1397 [00:18<00:00, 76.24it/s]\n"
          ]
        },
        {
          "output_type": "stream",
          "name": "stdout",
          "text": [
            "Average discriminator loss:  0.21\n",
            "Average generator loss:  3.07\n"
          ]
        },
        {
          "output_type": "stream",
          "name": "stderr",
          "text": [
            "Epoch 33: 100%|██████████| 1397/1397 [00:17<00:00, 79.39it/s]\n"
          ]
        },
        {
          "output_type": "stream",
          "name": "stdout",
          "text": [
            "Average discriminator loss:  0.20\n",
            "Average generator loss:  3.09\n"
          ]
        },
        {
          "output_type": "stream",
          "name": "stderr",
          "text": [
            "Epoch 34: 100%|██████████| 1397/1397 [00:18<00:00, 76.19it/s]\n"
          ]
        },
        {
          "output_type": "stream",
          "name": "stdout",
          "text": [
            "Average discriminator loss:  0.21\n",
            "Average generator loss:  3.09\n"
          ]
        },
        {
          "output_type": "stream",
          "name": "stderr",
          "text": [
            "Epoch 35: 100%|██████████| 1397/1397 [00:17<00:00, 78.35it/s]\n"
          ]
        },
        {
          "output_type": "stream",
          "name": "stdout",
          "text": [
            "Average discriminator loss:  0.21\n",
            "Average generator loss:  3.10\n"
          ]
        },
        {
          "output_type": "stream",
          "name": "stderr",
          "text": [
            "Epoch 36: 100%|██████████| 1397/1397 [00:18<00:00, 76.37it/s]\n"
          ]
        },
        {
          "output_type": "stream",
          "name": "stdout",
          "text": [
            "Average discriminator loss:  0.21\n",
            "Average generator loss:  3.11\n"
          ]
        },
        {
          "output_type": "stream",
          "name": "stderr",
          "text": [
            "Epoch 37: 100%|██████████| 1397/1397 [00:17<00:00, 79.38it/s]\n"
          ]
        },
        {
          "output_type": "stream",
          "name": "stdout",
          "text": [
            "Average discriminator loss:  0.20\n",
            "Average generator loss:  3.14\n"
          ]
        },
        {
          "output_type": "stream",
          "name": "stderr",
          "text": [
            "Epoch 38: 100%|██████████| 1397/1397 [00:17<00:00, 79.58it/s]\n"
          ]
        },
        {
          "output_type": "stream",
          "name": "stdout",
          "text": [
            "Average discriminator loss:  0.20\n",
            "Average generator loss:  3.15\n"
          ]
        },
        {
          "output_type": "stream",
          "name": "stderr",
          "text": [
            "Epoch 39: 100%|██████████| 1397/1397 [00:18<00:00, 75.88it/s]\n"
          ]
        },
        {
          "output_type": "stream",
          "name": "stdout",
          "text": [
            "Average discriminator loss:  0.20\n",
            "Average generator loss:  3.15\n"
          ]
        },
        {
          "output_type": "stream",
          "name": "stderr",
          "text": [
            "Epoch 40: 100%|██████████| 1397/1397 [00:18<00:00, 76.61it/s]\n"
          ]
        },
        {
          "output_type": "stream",
          "name": "stdout",
          "text": [
            "Average discriminator loss:  0.20\n",
            "Average generator loss:  3.18\n"
          ]
        },
        {
          "output_type": "stream",
          "name": "stderr",
          "text": [
            "Epoch 41:  58%|█████▊    | 808/1397 [00:10<00:07, 83.54it/s]"
          ]
        }
      ],
      "execution_count": null
    },
    {
      "metadata": {
        "id": "5fc632b1aa8aa1e8"
      },
      "cell_type": "markdown",
      "source": [
        "### Inspecting results\n",
        "Checking if our model did pookie"
      ],
      "id": "5fc632b1aa8aa1e8"
    },
    {
      "metadata": {
        "ExecuteTime": {
          "end_time": "2025-05-21T17:31:20.114785Z",
          "start_time": "2025-05-21T17:31:20.047546Z"
        },
        "id": "b4f0c418888a8ca5"
      },
      "cell_type": "code",
      "source": [
        "Z = torch.normal(0, 1, size=(15, 100, 1, 1), device=device)\n",
        "\n",
        "with torch.no_grad():\n",
        "    images = gan._gen(Z)\n",
        "    labels = gan._dis(images)\n",
        "\n",
        "images = images.permute(0, 2, 3, 1)/2+0.5"
      ],
      "id": "b4f0c418888a8ca5",
      "outputs": [],
      "execution_count": 139
    },
    {
      "metadata": {
        "ExecuteTime": {
          "end_time": "2025-05-21T17:31:20.667461Z",
          "start_time": "2025-05-21T17:31:20.481415Z"
        },
        "id": "6f7dda2ea321dc5a",
        "outputId": "75d922e9-32fd-417e-f3f1-b79280287291",
        "colab": {
          "base_uri": "https://localhost:8080/",
          "height": 1000
        }
      },
      "cell_type": "code",
      "source": [
        "fig, axis = plt.subplots(3, 5)\n",
        "axis = axis.flatten()\n",
        "\n",
        "for i in range(15):\n",
        "    axis[i].imshow(images.cpu()[i])\n",
        "\n",
        "plt.show()"
      ],
      "id": "6f7dda2ea321dc5a",
      "outputs": [
        {
          "output_type": "stream",
          "name": "stdout",
          "text": [
            "tensor([[[[1.0000e+00, 1.0000e+00, 1.0000e+00],\n",
            "          [9.9947e-01, 9.9978e-01, 9.9900e-01],\n",
            "          [1.0000e+00, 1.0000e+00, 1.0000e+00],\n",
            "          ...,\n",
            "          [1.0000e+00, 1.0000e+00, 1.0000e+00],\n",
            "          [1.0000e+00, 1.0000e+00, 1.0000e+00],\n",
            "          [1.0000e+00, 1.0000e+00, 1.0000e+00]],\n",
            "\n",
            "         [[1.0000e+00, 1.0000e+00, 1.0000e+00],\n",
            "          [1.0000e+00, 1.0000e+00, 1.0000e+00],\n",
            "          [1.0000e+00, 1.0000e+00, 9.9999e-01],\n",
            "          ...,\n",
            "          [1.0000e+00, 1.0000e+00, 1.0000e+00],\n",
            "          [1.0000e+00, 1.0000e+00, 1.0000e+00],\n",
            "          [1.0000e+00, 1.0000e+00, 1.0000e+00]],\n",
            "\n",
            "         [[1.0000e+00, 1.0000e+00, 1.0000e+00],\n",
            "          [1.0000e+00, 1.0000e+00, 1.0000e+00],\n",
            "          [1.0000e+00, 1.0000e+00, 1.0000e+00],\n",
            "          ...,\n",
            "          [1.0000e+00, 1.0000e+00, 1.0000e+00],\n",
            "          [1.0000e+00, 1.0000e+00, 1.0000e+00],\n",
            "          [1.0000e+00, 1.0000e+00, 1.0000e+00]],\n",
            "\n",
            "         ...,\n",
            "\n",
            "         [[1.0000e+00, 1.0000e+00, 1.0000e+00],\n",
            "          [1.0000e+00, 1.0000e+00, 1.0000e+00],\n",
            "          [1.0000e+00, 1.0000e+00, 1.0000e+00],\n",
            "          ...,\n",
            "          [1.0000e+00, 1.0000e+00, 1.0000e+00],\n",
            "          [1.0000e+00, 1.0000e+00, 1.0000e+00],\n",
            "          [1.0000e+00, 1.0000e+00, 1.0000e+00]],\n",
            "\n",
            "         [[1.0000e+00, 1.0000e+00, 1.0000e+00],\n",
            "          [1.0000e+00, 9.9999e-01, 1.0000e+00],\n",
            "          [1.0000e+00, 1.0000e+00, 1.0000e+00],\n",
            "          ...,\n",
            "          [1.0000e+00, 1.0000e+00, 1.0000e+00],\n",
            "          [9.9988e-01, 9.9982e-01, 9.9995e-01],\n",
            "          [9.9993e-01, 9.9999e-01, 9.9997e-01]],\n",
            "\n",
            "         [[9.9998e-01, 9.9995e-01, 9.9992e-01],\n",
            "          [1.0000e+00, 1.0000e+00, 1.0000e+00],\n",
            "          [1.0000e+00, 1.0000e+00, 1.0000e+00],\n",
            "          ...,\n",
            "          [9.9998e-01, 9.9998e-01, 9.9988e-01],\n",
            "          [9.9941e-01, 9.9938e-01, 9.9970e-01],\n",
            "          [9.7318e-01, 9.8657e-01, 9.8523e-01]]],\n",
            "\n",
            "\n",
            "        [[[9.9999e-01, 9.9999e-01, 9.9999e-01],\n",
            "          [5.3923e-01, 3.9563e-01, 5.8123e-01],\n",
            "          [9.9888e-01, 9.9982e-01, 9.9580e-01],\n",
            "          ...,\n",
            "          [2.4800e-01, 2.4299e-01, 7.8416e-02],\n",
            "          [1.0000e+00, 1.0000e+00, 1.0000e+00],\n",
            "          [9.9968e-01, 9.9982e-01, 9.9545e-01]],\n",
            "\n",
            "         [[9.3595e-01, 7.1965e-01, 7.7875e-01],\n",
            "          [9.6053e-01, 9.8617e-01, 6.7163e-01],\n",
            "          [2.3503e-02, 8.6875e-03, 5.4445e-03],\n",
            "          ...,\n",
            "          [2.5473e-02, 6.8355e-02, 2.2135e-02],\n",
            "          [9.9983e-01, 9.9993e-01, 9.9973e-01],\n",
            "          [9.9995e-01, 9.9997e-01, 9.9998e-01]],\n",
            "\n",
            "         [[1.1420e-03, 1.1303e-03, 3.1859e-05],\n",
            "          [9.7760e-01, 9.4636e-01, 4.0066e-01],\n",
            "          [5.2881e-01, 8.2340e-02, 3.1560e-02],\n",
            "          ...,\n",
            "          [2.5341e-02, 9.2163e-02, 9.7865e-03],\n",
            "          [9.5404e-01, 9.5946e-01, 9.6187e-01],\n",
            "          [8.6601e-01, 9.4921e-01, 9.5948e-01]],\n",
            "\n",
            "         ...,\n",
            "\n",
            "         [[9.8529e-01, 9.7675e-01, 9.6483e-01],\n",
            "          [1.0720e-04, 1.5900e-04, 3.0804e-04],\n",
            "          [1.1864e-02, 9.8329e-03, 1.3002e-02],\n",
            "          ...,\n",
            "          [9.9999e-01, 9.9994e-01, 9.9999e-01],\n",
            "          [9.9998e-01, 9.9999e-01, 9.9984e-01],\n",
            "          [9.9994e-01, 9.9998e-01, 9.9979e-01]],\n",
            "\n",
            "         [[9.9923e-01, 9.9876e-01, 9.9976e-01],\n",
            "          [1.3543e-03, 2.2492e-04, 1.3351e-04],\n",
            "          [7.1674e-02, 3.3464e-02, 6.2595e-02],\n",
            "          ...,\n",
            "          [8.9852e-01, 7.8977e-01, 9.1082e-01],\n",
            "          [9.9991e-01, 9.9973e-01, 9.9976e-01],\n",
            "          [9.9907e-01, 9.9978e-01, 9.9854e-01]],\n",
            "\n",
            "         [[9.2429e-01, 8.5857e-01, 5.8181e-01],\n",
            "          [5.4246e-04, 1.0770e-03, 1.4614e-03],\n",
            "          [2.1487e-03, 7.0028e-03, 9.0494e-03],\n",
            "          ...,\n",
            "          [1.0000e+00, 1.0000e+00, 1.0000e+00],\n",
            "          [9.9913e-01, 9.9931e-01, 9.9420e-01],\n",
            "          [9.5538e-01, 9.4932e-01, 8.8473e-01]]],\n",
            "\n",
            "\n",
            "        [[[9.9999e-01, 9.9999e-01, 1.0000e+00],\n",
            "          [7.7771e-01, 8.6031e-01, 8.7834e-01],\n",
            "          [7.9975e-01, 6.1856e-01, 9.1353e-01],\n",
            "          ...,\n",
            "          [1.0000e+00, 1.0000e+00, 1.0000e+00],\n",
            "          [1.0000e+00, 1.0000e+00, 1.0000e+00],\n",
            "          [1.0000e+00, 1.0000e+00, 9.9999e-01]],\n",
            "\n",
            "         [[1.0000e+00, 1.0000e+00, 1.0000e+00],\n",
            "          [9.9998e-01, 9.9998e-01, 9.9999e-01],\n",
            "          [9.9974e-01, 9.9981e-01, 9.9976e-01],\n",
            "          ...,\n",
            "          [1.0000e+00, 1.0000e+00, 1.0000e+00],\n",
            "          [1.0000e+00, 1.0000e+00, 1.0000e+00],\n",
            "          [1.0000e+00, 1.0000e+00, 1.0000e+00]],\n",
            "\n",
            "         [[1.0000e+00, 1.0000e+00, 1.0000e+00],\n",
            "          [1.0000e+00, 1.0000e+00, 1.0000e+00],\n",
            "          [9.9990e-01, 9.9977e-01, 9.9998e-01],\n",
            "          ...,\n",
            "          [1.0000e+00, 1.0000e+00, 1.0000e+00],\n",
            "          [1.0000e+00, 1.0000e+00, 1.0000e+00],\n",
            "          [1.0000e+00, 1.0000e+00, 1.0000e+00]],\n",
            "\n",
            "         ...,\n",
            "\n",
            "         [[1.0000e+00, 1.0000e+00, 1.0000e+00],\n",
            "          [1.0000e+00, 1.0000e+00, 1.0000e+00],\n",
            "          [1.0000e+00, 1.0000e+00, 1.0000e+00],\n",
            "          ...,\n",
            "          [1.0000e+00, 1.0000e+00, 1.0000e+00],\n",
            "          [1.0000e+00, 1.0000e+00, 1.0000e+00],\n",
            "          [1.0000e+00, 1.0000e+00, 1.0000e+00]],\n",
            "\n",
            "         [[9.9956e-01, 9.9960e-01, 9.9907e-01],\n",
            "          [9.9998e-01, 1.0000e+00, 9.9999e-01],\n",
            "          [1.0000e+00, 1.0000e+00, 1.0000e+00],\n",
            "          ...,\n",
            "          [1.0000e+00, 1.0000e+00, 1.0000e+00],\n",
            "          [9.9999e-01, 9.9999e-01, 1.0000e+00],\n",
            "          [1.0000e+00, 1.0000e+00, 9.9999e-01]],\n",
            "\n",
            "         [[9.9681e-01, 9.9729e-01, 9.9615e-01],\n",
            "          [9.9978e-01, 9.9985e-01, 9.9994e-01],\n",
            "          [1.0000e+00, 1.0000e+00, 1.0000e+00],\n",
            "          ...,\n",
            "          [1.0000e+00, 1.0000e+00, 1.0000e+00],\n",
            "          [9.9997e-01, 9.9996e-01, 9.9989e-01],\n",
            "          [9.5004e-01, 9.7709e-01, 9.5258e-01]]],\n",
            "\n",
            "\n",
            "        ...,\n",
            "\n",
            "\n",
            "        [[[9.9995e-01, 9.9997e-01, 9.9998e-01],\n",
            "          [2.7480e-02, 2.9404e-02, 6.4367e-02],\n",
            "          [1.7047e-01, 3.7851e-01, 1.4134e-01],\n",
            "          ...,\n",
            "          [9.9996e-01, 9.9999e-01, 9.9996e-01],\n",
            "          [1.0000e+00, 1.0000e+00, 1.0000e+00],\n",
            "          [1.0000e+00, 1.0000e+00, 9.9999e-01]],\n",
            "\n",
            "         [[9.8924e-01, 9.8490e-01, 9.9201e-01],\n",
            "          [1.1053e-01, 3.9740e-01, 2.2988e-01],\n",
            "          [1.5022e-01, 2.4978e-01, 2.4408e-01],\n",
            "          ...,\n",
            "          [1.0000e+00, 1.0000e+00, 9.9999e-01],\n",
            "          [1.0000e+00, 1.0000e+00, 1.0000e+00],\n",
            "          [1.0000e+00, 1.0000e+00, 1.0000e+00]],\n",
            "\n",
            "         [[2.1382e-01, 3.8325e-01, 1.1671e-01],\n",
            "          [7.8470e-03, 5.3394e-02, 1.3092e-02],\n",
            "          [3.8668e-01, 2.2190e-01, 5.0329e-01],\n",
            "          ...,\n",
            "          [3.8572e-01, 7.5500e-01, 6.4716e-01],\n",
            "          [1.0000e+00, 1.0000e+00, 1.0000e+00],\n",
            "          [1.0000e+00, 1.0000e+00, 1.0000e+00]],\n",
            "\n",
            "         ...,\n",
            "\n",
            "         [[9.9951e-01, 9.9968e-01, 9.9950e-01],\n",
            "          [9.9980e-01, 9.9995e-01, 9.9972e-01],\n",
            "          [5.2432e-01, 7.6275e-01, 8.6616e-01],\n",
            "          ...,\n",
            "          [4.2888e-02, 1.2077e-02, 8.1125e-02],\n",
            "          [1.0000e+00, 1.0000e+00, 1.0000e+00],\n",
            "          [1.0000e+00, 1.0000e+00, 1.0000e+00]],\n",
            "\n",
            "         [[9.6373e-01, 9.7143e-01, 9.5711e-01],\n",
            "          [5.5517e-01, 8.7293e-01, 8.8621e-01],\n",
            "          [5.4141e-01, 7.4306e-01, 8.8217e-01],\n",
            "          ...,\n",
            "          [8.0796e-02, 3.4320e-02, 1.7788e-01],\n",
            "          [1.0000e+00, 1.0000e+00, 1.0000e+00],\n",
            "          [1.0000e+00, 1.0000e+00, 1.0000e+00]],\n",
            "\n",
            "         [[9.3453e-01, 9.5091e-01, 9.0737e-01],\n",
            "          [7.4381e-01, 9.0181e-01, 9.2642e-01],\n",
            "          [7.1113e-01, 9.2720e-01, 9.0453e-01],\n",
            "          ...,\n",
            "          [1.0000e+00, 1.0000e+00, 1.0000e+00],\n",
            "          [1.0000e+00, 1.0000e+00, 1.0000e+00],\n",
            "          [1.0000e+00, 1.0000e+00, 1.0000e+00]]],\n",
            "\n",
            "\n",
            "        [[[1.0000e+00, 1.0000e+00, 1.0000e+00],\n",
            "          [1.0000e+00, 1.0000e+00, 1.0000e+00],\n",
            "          [1.0000e+00, 1.0000e+00, 1.0000e+00],\n",
            "          ...,\n",
            "          [1.0350e-01, 5.3638e-01, 3.6403e-01],\n",
            "          [6.9370e-01, 5.8621e-01, 6.6206e-01],\n",
            "          [5.4297e-01, 6.6174e-01, 5.4138e-01]],\n",
            "\n",
            "         [[1.0000e+00, 1.0000e+00, 1.0000e+00],\n",
            "          [1.0000e+00, 1.0000e+00, 1.0000e+00],\n",
            "          [1.0000e+00, 1.0000e+00, 1.0000e+00],\n",
            "          ...,\n",
            "          [4.8373e-01, 7.8485e-01, 7.3492e-01],\n",
            "          [2.1499e-01, 6.2438e-01, 4.3432e-01],\n",
            "          [6.7732e-01, 8.3563e-01, 7.5400e-01]],\n",
            "\n",
            "         [[1.0000e+00, 1.0000e+00, 1.0000e+00],\n",
            "          [1.0000e+00, 1.0000e+00, 1.0000e+00],\n",
            "          [1.0000e+00, 1.0000e+00, 1.0000e+00],\n",
            "          ...,\n",
            "          [1.5110e-01, 7.3655e-01, 6.3430e-01],\n",
            "          [6.3867e-01, 8.9808e-01, 8.7212e-01],\n",
            "          [4.7012e-01, 8.1949e-01, 5.5104e-01]],\n",
            "\n",
            "         ...,\n",
            "\n",
            "         [[1.0000e+00, 1.0000e+00, 1.0000e+00],\n",
            "          [1.0000e+00, 1.0000e+00, 1.0000e+00],\n",
            "          [8.0299e-04, 8.7260e-03, 3.9423e-02],\n",
            "          ...,\n",
            "          [1.0000e+00, 1.0000e+00, 1.0000e+00],\n",
            "          [1.0000e+00, 1.0000e+00, 1.0000e+00],\n",
            "          [9.9999e-01, 1.0000e+00, 9.9995e-01]],\n",
            "\n",
            "         [[1.0000e+00, 1.0000e+00, 1.0000e+00],\n",
            "          [1.0000e+00, 1.0000e+00, 1.0000e+00],\n",
            "          [9.9968e-01, 9.9993e-01, 1.0000e+00],\n",
            "          ...,\n",
            "          [9.9846e-01, 9.9658e-01, 9.9942e-01],\n",
            "          [9.9659e-01, 9.9660e-01, 9.9838e-01],\n",
            "          [9.9995e-01, 9.9996e-01, 9.9984e-01]],\n",
            "\n",
            "         [[1.0000e+00, 1.0000e+00, 1.0000e+00],\n",
            "          [1.0000e+00, 1.0000e+00, 1.0000e+00],\n",
            "          [1.0000e+00, 1.0000e+00, 1.0000e+00],\n",
            "          ...,\n",
            "          [9.9996e-01, 9.9996e-01, 9.9975e-01],\n",
            "          [9.9938e-01, 9.9859e-01, 9.9936e-01],\n",
            "          [8.7596e-01, 8.6223e-01, 7.3832e-01]]],\n",
            "\n",
            "\n",
            "        [[[1.0000e+00, 1.0000e+00, 1.0000e+00],\n",
            "          [9.9999e-01, 1.0000e+00, 9.9999e-01],\n",
            "          [1.0000e+00, 1.0000e+00, 1.0000e+00],\n",
            "          ...,\n",
            "          [1.0000e+00, 1.0000e+00, 1.0000e+00],\n",
            "          [1.0000e+00, 1.0000e+00, 1.0000e+00],\n",
            "          [9.9997e-01, 9.9997e-01, 9.9997e-01]],\n",
            "\n",
            "         [[1.0000e+00, 1.0000e+00, 1.0000e+00],\n",
            "          [1.0000e+00, 1.0000e+00, 1.0000e+00],\n",
            "          [1.0000e+00, 1.0000e+00, 1.0000e+00],\n",
            "          ...,\n",
            "          [1.0000e+00, 1.0000e+00, 1.0000e+00],\n",
            "          [1.0000e+00, 1.0000e+00, 1.0000e+00],\n",
            "          [1.0000e+00, 1.0000e+00, 1.0000e+00]],\n",
            "\n",
            "         [[1.0000e+00, 1.0000e+00, 1.0000e+00],\n",
            "          [1.0000e+00, 1.0000e+00, 1.0000e+00],\n",
            "          [1.0000e+00, 1.0000e+00, 1.0000e+00],\n",
            "          ...,\n",
            "          [1.0000e+00, 1.0000e+00, 1.0000e+00],\n",
            "          [1.0000e+00, 1.0000e+00, 1.0000e+00],\n",
            "          [9.9997e-01, 1.0000e+00, 9.9999e-01]],\n",
            "\n",
            "         ...,\n",
            "\n",
            "         [[9.9995e-01, 9.9998e-01, 9.9996e-01],\n",
            "          [9.9999e-01, 1.0000e+00, 9.9999e-01],\n",
            "          [9.9987e-01, 9.9989e-01, 9.9990e-01],\n",
            "          ...,\n",
            "          [1.0000e+00, 1.0000e+00, 1.0000e+00],\n",
            "          [1.0000e+00, 1.0000e+00, 1.0000e+00],\n",
            "          [1.0000e+00, 1.0000e+00, 1.0000e+00]],\n",
            "\n",
            "         [[1.0000e+00, 1.0000e+00, 1.0000e+00],\n",
            "          [1.0000e+00, 1.0000e+00, 1.0000e+00],\n",
            "          [1.0000e+00, 1.0000e+00, 9.9999e-01],\n",
            "          ...,\n",
            "          [1.0000e+00, 1.0000e+00, 1.0000e+00],\n",
            "          [1.0000e+00, 1.0000e+00, 1.0000e+00],\n",
            "          [1.0000e+00, 1.0000e+00, 1.0000e+00]],\n",
            "\n",
            "         [[1.0000e+00, 1.0000e+00, 9.9995e-01],\n",
            "          [1.0000e+00, 1.0000e+00, 1.0000e+00],\n",
            "          [1.0000e+00, 1.0000e+00, 9.9999e-01],\n",
            "          ...,\n",
            "          [1.0000e+00, 1.0000e+00, 1.0000e+00],\n",
            "          [9.9999e-01, 9.9999e-01, 9.9999e-01],\n",
            "          [9.9935e-01, 9.9976e-01, 9.9968e-01]]]], device='cuda:0')\n"
          ]
        },
        {
          "output_type": "display_data",
          "data": {
            "text/plain": [
              "<Figure size 640x480 with 15 Axes>"
            ],
            "image/png": "[encoded data removed]"
          },
          "metadata": {}
        }
      ],
      "execution_count": 140
    },
    {
      "metadata": {
        "ExecuteTime": {
          "end_time": "2025-05-21T17:30:43.902455Z",
          "start_time": "2025-05-21T17:30:43.899807Z"
        },
        "id": "870017519ad2d2bc"
      },
      "cell_type": "code",
      "source": [],
      "id": "870017519ad2d2bc",
      "outputs": [],
      "execution_count": null
    }
  ],
  "metadata": {
    "kernelspec": {
      "display_name": "Python 3",
      "name": "python3"
    },
    "language_info": {
      "codemirror_mode": {
        "name": "ipython",
        "version": 2
      },
      "file_extension": ".py",
      "mimetype": "text/x-python",
      "name": "python",
      "nbconvert_exporter": "python",
      "pygments_lexer": "ipython2",
      "version": "2.7.6"
    },
    "colab": {
      "provenance": [],
      "gpuType": "T4"
    },
    "accelerator": "GPU"
  },
  "nbformat": 4,
  "nbformat_minor": 5
}