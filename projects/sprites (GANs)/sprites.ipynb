{
 "cells": [
  {
   "metadata": {
    "id": "ae15ebfc126e17db"
   },
   "cell_type": "markdown",
   "source": [
    "### Imports\n",
    "\n",
    "The following cell imports all necessary libraries/modules"
   ],
   "id": "ae15ebfc126e17db"
  },
  {
   "cell_type": "code",
   "id": "initial_id",
   "metadata": {
    "collapsed": true,
    "id": "initial_id",
    "ExecuteTime": {
     "end_time": "2025-05-22T14:30:13.438219Z",
     "start_time": "2025-05-22T14:30:13.423773Z"
    }
   },
   "source": [
    "import torch\n",
    "import torchvision\n",
    "import torch.nn as nn\n",
    "from torch.utils.data import DataLoader, Dataset\n",
    "import os\n",
    "import matplotlib.pyplot as plt\n",
    "from tqdm import tqdm\n",
    "import numpy as np"
   ],
   "outputs": [],
   "execution_count": 48
  },
  {
   "metadata": {
    "id": "65e2ed1d1f70a02d"
   },
   "cell_type": "markdown",
   "source": [
    "### Creating dataloader\n",
    "\n",
    "Transforming the data and creating an useful dataloader object to use for training."
   ],
   "id": "65e2ed1d1f70a02d"
  },
  {
   "metadata": {
    "id": "6abfbebde9d21ec1",
    "ExecuteTime": {
     "end_time": "2025-05-22T14:30:45.733728Z",
     "start_time": "2025-05-22T14:30:45.725753Z"
    }
   },
   "cell_type": "code",
   "source": [
    "class Sprites(Dataset):\n",
    "\n",
    "    def __init__(self, images: str, transform=None):\n",
    "        images = torch.from_numpy(np.load(images)) / 255\n",
    "        if transform:\n",
    "            images = torch.stack([transform(image) for image in images])\n",
    "        self.images = images.to(device)\n",
    "\n",
    "    def __len__(self):\n",
    "        return self.images.shape[0]\n",
    "\n",
    "    def __getitem__(self, idx):\n",
    "        return self.images[idx]"
   ],
   "id": "6abfbebde9d21ec1",
   "outputs": [],
   "execution_count": 56
  },
  {
   "metadata": {
    "id": "903767f66528d506",
    "ExecuteTime": {
     "end_time": "2025-05-22T14:30:46.158871Z",
     "start_time": "2025-05-22T14:30:46.156900Z"
    }
   },
   "cell_type": "code",
   "source": [
    "BATCH_SIZE = 64"
   ],
   "id": "903767f66528d506",
   "outputs": [],
   "execution_count": 57
  },
  {
   "metadata": {
    "id": "902c70b93dba3cb",
    "ExecuteTime": {
     "end_time": "2025-05-22T14:30:46.586765Z",
     "start_time": "2025-05-22T14:30:46.579607Z"
    }
   },
   "cell_type": "code",
   "source": [
    "device = torch.device(\"cuda\" if torch.cuda.is_available() else \"cpu\")\n",
    "device"
   ],
   "id": "902c70b93dba3cb",
   "outputs": [
    {
     "data": {
      "text/plain": [
       "device(type='cpu')"
      ]
     },
     "execution_count": 58,
     "metadata": {},
     "output_type": "execute_result"
    }
   ],
   "execution_count": 58
  },
  {
   "metadata": {
    "ExecuteTime": {
     "end_time": "2025-05-22T14:30:47.079916Z",
     "start_time": "2025-05-22T14:30:47.077694Z"
    }
   },
   "cell_type": "code",
   "source": [
    "class PermuteChannelsAxis:\n",
    "    \n",
    "    def __call__(self, x):\n",
    "        return x.permute(2, 0, 1)"
   ],
   "id": "f69a989c213f9eb3",
   "outputs": [],
   "execution_count": 59
  },
  {
   "metadata": {
    "id": "4970ebaee6f37301",
    "ExecuteTime": {
     "end_time": "2025-05-22T14:30:47.579481Z",
     "start_time": "2025-05-22T14:30:47.577067Z"
    }
   },
   "cell_type": "code",
   "source": [
    "transforms = torchvision.transforms.Compose([\n",
    "    PermuteChannelsAxis(),\n",
    "    torchvision.transforms.Normalize(0.5, 0.5)\n",
    "])"
   ],
   "id": "4970ebaee6f37301",
   "outputs": [],
   "execution_count": 60
  },
  {
   "metadata": {
    "id": "92561656a4beaff2",
    "ExecuteTime": {
     "end_time": "2025-05-22T14:30:50.461179Z",
     "start_time": "2025-05-22T14:30:48.524978Z"
    }
   },
   "cell_type": "code",
   "source": [
    "images = os.path.join(\"data/sprites.npy\")\n",
    "\n",
    "sprites = Sprites(images=images, transform=transforms)\n",
    "\n",
    "dataloader = DataLoader(\n",
    "    dataset=sprites,\n",
    "    shuffle=True,\n",
    "    batch_size=BATCH_SIZE,\n",
    ")"
   ],
   "id": "92561656a4beaff2",
   "outputs": [],
   "execution_count": 61
  },
  {
   "metadata": {
    "id": "61658a8d496c036d"
   },
   "cell_type": "markdown",
   "source": [
    "### Looking at the data\n",
    "\n",
    "In the following cells we take a look at the data"
   ],
   "id": "61658a8d496c036d"
  },
  {
   "metadata": {
    "id": "48a1a38688c31573",
    "ExecuteTime": {
     "end_time": "2025-05-22T14:31:06.769806Z",
     "start_time": "2025-05-22T14:31:06.761495Z"
    }
   },
   "cell_type": "code",
   "source": [
    "samples = next(iter(dataloader))"
   ],
   "id": "48a1a38688c31573",
   "outputs": [],
   "execution_count": 65
  },
  {
   "metadata": {
    "id": "26ef1181e6588ccc",
    "outputId": "0ba851c8-5181-4623-9208-0ab66f880d19",
    "colab": {
     "base_uri": "https://localhost:8080/",
     "height": 350
    },
    "ExecuteTime": {
     "end_time": "2025-05-22T14:31:07.207541Z",
     "start_time": "2025-05-22T14:31:07.066329Z"
    }
   },
   "cell_type": "code",
   "source": [
    "samples = samples[:10,:,:,:] / 2 + 0.5 # Undo the normalization when showing the images\n",
    "\n",
    "fig, axis = plt.subplots(2, 5)\n",
    "axis = axis.flatten()\n",
    "\n",
    "for i in range(10):\n",
    "    axis[i].imshow(samples[i].permute(1, 2, 0))\n",
    "\n",
    "plt.show()"
   ],
   "id": "26ef1181e6588ccc",
   "outputs": [
    {
     "data": {
      "text/plain": [
       "<Figure size 640x480 with 10 Axes>"
      ],
      "image/png": "[encoded data removed]"
     },
     "metadata": {},
     "output_type": "display_data"
    }
   ],
   "execution_count": 66
  },
  {
   "metadata": {
    "id": "ea6655bf4a1877bb"
   },
   "cell_type": "markdown",
   "source": [
    "### Creating our networks\n",
    "\n",
    "Creating the generator and discriminator network and it's necessary blocks and modules."
   ],
   "id": "ea6655bf4a1877bb"
  },
  {
   "metadata": {
    "id": "6543ed9232cc222b",
    "ExecuteTime": {
     "end_time": "2025-05-22T14:31:10.296235Z",
     "start_time": "2025-05-22T14:31:10.288048Z"
    }
   },
   "cell_type": "code",
   "source": [
    "class PrintShape(nn.Module):\n",
    "    \"\"\"\n",
    "    Neural network model used for debugging the shape.\n",
    "    \"\"\"\n",
    "\n",
    "    def forward(self, x):\n",
    "        print(x.shape)\n",
    "        return x"
   ],
   "id": "6543ed9232cc222b",
   "outputs": [],
   "execution_count": 67
  },
  {
   "metadata": {
    "id": "9938a5537649349a",
    "ExecuteTime": {
     "end_time": "2025-05-22T14:31:10.608126Z",
     "start_time": "2025-05-22T14:31:10.603288Z"
    }
   },
   "cell_type": "code",
   "source": [
    "class GeneratorBlock(nn.Module):\n",
    "\n",
    "    def __init__(\n",
    "            self,\n",
    "            in_channels,\n",
    "            out_channels,\n",
    "            kernel_size=4,\n",
    "            stride=2,\n",
    "            padding=1,\n",
    "            **kwargs\n",
    "    ):\n",
    "        super().__init__(**kwargs)\n",
    "        self.conv_trans2d = nn.ConvTranspose2d(\n",
    "            in_channels=in_channels,\n",
    "            out_channels=out_channels,\n",
    "            kernel_size=kernel_size,\n",
    "            stride=stride,\n",
    "            padding=padding,\n",
    "        )\n",
    "        self.batch_norm = nn.BatchNorm2d(out_channels)\n",
    "        self.activation = nn.ReLU()\n",
    "\n",
    "    def forward(self, x):\n",
    "        return self.activation(self.batch_norm(self.conv_trans2d(x)))"
   ],
   "id": "9938a5537649349a",
   "outputs": [],
   "execution_count": 68
  },
  {
   "metadata": {
    "id": "a5fb358e10815fd5",
    "ExecuteTime": {
     "end_time": "2025-05-22T14:31:11.051131Z",
     "start_time": "2025-05-22T14:31:11.048231Z"
    }
   },
   "cell_type": "code",
   "source": [
    "class Generator(nn.Module):\n",
    "\n",
    "    def __init__(self, **kwargs):\n",
    "        super().__init__(**kwargs)\n",
    "\n",
    "        n_G = 64\n",
    "        self.net = nn.Sequential(\n",
    "            GeneratorBlock(\n",
    "                in_channels=100,\n",
    "                out_channels=n_G * 4,\n",
    "                kernel_size=4,\n",
    "                stride=1,\n",
    "                padding=0,\n",
    "            ), # Output: BATCH_SIZE x 64 x 4 x 4\n",
    "            GeneratorBlock(\n",
    "                in_channels=n_G * 4,\n",
    "                out_channels=n_G * 2,\n",
    "                kernel_size=4,\n",
    "                stride=2,\n",
    "                padding=1,\n",
    "            ), # Output: BATCH_SIZE x 32 x 8 x 8\n",
    "            nn.ConvTranspose2d(\n",
    "                in_channels=n_G * 2,\n",
    "                out_channels=3,\n",
    "                kernel_size=4,\n",
    "                stride=2,\n",
    "                padding=1\n",
    "            ), nn.Tanh()  # Output: BATCH_SIZE x 3 x 16 x 16\n",
    "        )\n",
    "\n",
    "    def forward(self, x):\n",
    "        return self.net(x)"
   ],
   "id": "a5fb358e10815fd5",
   "outputs": [],
   "execution_count": 69
  },
  {
   "metadata": {
    "id": "629808e96c530b41",
    "ExecuteTime": {
     "end_time": "2025-05-22T14:31:11.484019Z",
     "start_time": "2025-05-22T14:31:11.481537Z"
    }
   },
   "cell_type": "code",
   "source": [
    "class DiscriminatorBlock(nn.Module):\n",
    "\n",
    "    def __init__(\n",
    "            self,\n",
    "            in_channels: int,\n",
    "            out_channels: int,\n",
    "            kernel_size: int,\n",
    "            stride: int,\n",
    "            padding: int,\n",
    "            alpha: float,\n",
    "            **kwargs\n",
    "    ):\n",
    "\n",
    "        super().__init__(**kwargs)\n",
    "\n",
    "        self.conv = nn.Conv2d(\n",
    "            in_channels=in_channels,\n",
    "            out_channels=out_channels,\n",
    "            kernel_size=kernel_size,\n",
    "            stride=stride,\n",
    "            padding=padding,\n",
    "        )\n",
    "        self.batch_norm = nn.BatchNorm2d(out_channels)\n",
    "        self.activation = nn.LeakyReLU(alpha)\n",
    "\n",
    "    def forward(self, x):\n",
    "        return self.activation(self.batch_norm(self.conv(x)))"
   ],
   "id": "629808e96c530b41",
   "outputs": [],
   "execution_count": 70
  },
  {
   "metadata": {
    "id": "d38e3d1112875063",
    "ExecuteTime": {
     "end_time": "2025-05-22T14:31:11.942535Z",
     "start_time": "2025-05-22T14:31:11.939912Z"
    }
   },
   "cell_type": "code",
   "source": [
    "class Discriminator(nn.Module):\n",
    "\n",
    "    def __init__(self, alpha: float, **kwargs):\n",
    "        super().__init__(**kwargs)\n",
    "\n",
    "        self.net = nn.Sequential(\n",
    "            DiscriminatorBlock(\n",
    "                in_channels=3,\n",
    "                out_channels=16,\n",
    "                kernel_size=4,\n",
    "                stride=2,\n",
    "                padding=1,\n",
    "                alpha=alpha,\n",
    "            ),  # Output: BATCH_SIZE x 16 x 8 x 8\n",
    "            DiscriminatorBlock(\n",
    "                in_channels=16,\n",
    "                out_channels=32,\n",
    "                kernel_size=4,\n",
    "                stride=2,\n",
    "                padding=1,\n",
    "                alpha=alpha,\n",
    "            ),  # Output: BATCH_SIZE x 32 x 4 x 4\n",
    "            nn.Conv2d(in_channels=32, out_channels=1, kernel_size=4, stride=1, padding=0),\n",
    "            nn.Sigmoid()\n",
    "        )\n",
    "\n",
    "    def forward(self, x):\n",
    "        return self.net(x)"
   ],
   "id": "d38e3d1112875063",
   "outputs": [],
   "execution_count": 71
  },
  {
   "metadata": {
    "id": "52de0b63a8797041",
    "ExecuteTime": {
     "end_time": "2025-05-22T14:31:12.475302Z",
     "start_time": "2025-05-22T14:31:12.463752Z"
    }
   },
   "cell_type": "code",
   "source": [
    "class GAN:\n",
    "\n",
    "    def __init__(\n",
    "            self,\n",
    "            alpha: float = 0.2,\n",
    "            lr: float = 0.0002,\n",
    "            betas: tuple[float, float] = (0.5, 0.999),\n",
    "            checkpoint: dict = None\n",
    "    ):\n",
    "        \n",
    "        self._gen = Generator().to(device)\n",
    "        self._dis = Discriminator(alpha).to(device)\n",
    "        \n",
    "        self._gen_optim = torch.optim.Adam(\n",
    "            params=self._gen.parameters(),\n",
    "            lr=lr,\n",
    "            betas=betas,\n",
    "        )\n",
    "        self._dis_optim = torch.optim.Adam(\n",
    "            params=self._dis.parameters(),\n",
    "            lr=lr,\n",
    "            betas=betas,\n",
    "        )\n",
    "        \n",
    "        if checkpoint:\n",
    "            checkpoint = torch.load(checkpoint, map_location=device)\n",
    "            self._gen.load_state_dict(checkpoint[\"gen\"])\n",
    "            self._dis.load_state_dict(checkpoint[\"dis\"])\n",
    "            self._gen_optim.load_state_dict(checkpoint[\"gen_optim\"])\n",
    "            self._dis_optim.load_state_dict(checkpoint[\"dis_optim\"])\n",
    "            self.epochs = checkpoint[\"epochs\"]\n",
    "        else:\n",
    "            self.epochs = 0\n",
    "\n",
    "        self._loss = nn.BCELoss()\n",
    "\n",
    "    def train(\n",
    "            self,\n",
    "            data: DataLoader,\n",
    "            epochs: int = 10,\n",
    "            print_losses: bool = True,\n",
    "    ):\n",
    "\n",
    "        for epoch in range(epochs):\n",
    "            D_losses = []\n",
    "            G_losses = []\n",
    "\n",
    "            for real_X in tqdm(data, f\"Epoch {self.epochs + 1}\"):\n",
    "\n",
    "                batch_size = real_X.shape\n",
    "\n",
    "                # Updating discriminator\n",
    "                Z = torch.normal(0, 1, size=(BATCH_SIZE, 100, 1, 1), device=device)\n",
    "\n",
    "                fake_X = self._gen(Z).detach()\n",
    "                fake_Y = self._dis(fake_X)\n",
    "\n",
    "                real_Y = self._dis(real_X)\n",
    "\n",
    "                ones = torch.ones_like(real_Y)\n",
    "                zeros = torch.zeros_like(fake_Y)\n",
    "\n",
    "                D_loss = (self._loss(real_Y, ones) + self._loss(fake_Y, zeros)) / 2\n",
    "                D_losses.append(D_loss)\n",
    "\n",
    "                self._dis_optim.zero_grad()\n",
    "                D_loss.backward()\n",
    "                self._dis_optim.step()\n",
    "\n",
    "                # Updating generator\n",
    "                Z = torch.normal(0, 1, size=(BATCH_SIZE, 100, 1, 1), device=device)\n",
    "\n",
    "                fake_X = self._gen(Z)\n",
    "                fake_Y = self._dis(fake_X)\n",
    "\n",
    "                ones = torch.ones_like(fake_Y)\n",
    "\n",
    "                G_loss = self._loss(fake_Y, ones)\n",
    "                G_losses.append(G_loss)\n",
    "\n",
    "                self._gen_optim.zero_grad()\n",
    "                G_loss.backward()\n",
    "                self._gen_optim.step()\n",
    "                \n",
    "            self.epochs += 1\n",
    "\n",
    "            if print_losses:\n",
    "                print(f\"Average discriminator loss: {sum(D_losses) / len(D_losses):5.2f}\")\n",
    "                print(f\"Average generator loss: {sum(G_losses) / len(G_losses):5.2f}\")\n",
    "\n",
    "    def generate_images(self, images: int) -> torch.Tensor:\n",
    "\n",
    "        Z = torch.normal(0, 1, size=(15, 100, 1, 1), device=device)\n",
    "\n",
    "        with torch.no_grad():\n",
    "            images = gan._gen(Z)\n",
    "        \n",
    "        return images.permute(0, 2, 3, 1)/2+0.5\n",
    "    \n",
    "    def save_checkpoint(self, path: str):\n",
    "        checkpoint = {}\n",
    "        checkpoint[\"gen\"] = self._gen.state_dict()\n",
    "        checkpoint[\"dis\"] = self._dis.state_dict()\n",
    "        checkpoint[\"gen_optim\"] = self._gen_optim.state_dict()\n",
    "        checkpoint[\"dis_optim\"] = self._dis_optim.state_dict()\n",
    "        checkpoint[\"epochs\"] = self.epochs\n",
    "        torch.save(checkpoint, path)"
   ],
   "id": "52de0b63a8797041",
   "outputs": [],
   "execution_count": 72
  },
  {
   "metadata": {
    "id": "b92ba8143ca742b8"
   },
   "cell_type": "markdown",
   "source": [
    "### Training the network"
   ],
   "id": "b92ba8143ca742b8"
  },
  {
   "metadata": {
    "ExecuteTime": {
     "end_time": "2025-05-22T14:31:22.444554Z",
     "start_time": "2025-05-22T14:31:22.440995Z"
    }
   },
   "cell_type": "code",
   "source": [
    "# Change from None to file path if want to load an existing checkpoint\n",
    "checkpoint = None"
   ],
   "id": "61bf7ab4bfe163eb",
   "outputs": [],
   "execution_count": 73
  },
  {
   "metadata": {
    "id": "1c2c7be5e0019ce4",
    "ExecuteTime": {
     "end_time": "2025-05-22T14:31:22.822414Z",
     "start_time": "2025-05-22T14:31:22.808910Z"
    }
   },
   "cell_type": "code",
   "source": [
    "gan = GAN(\n",
    "    alpha=0.2,\n",
    "    lr=0.0002,\n",
    "    betas=(0.5, 0.999),\n",
    "    checkpoint=checkpoint\n",
    ")"
   ],
   "id": "1c2c7be5e0019ce4",
   "outputs": [],
   "execution_count": 74
  },
  {
   "metadata": {
    "id": "4c347020b44ba21b",
    "outputId": "225ab117-3d8d-4b52-ed71-692505fd480e",
    "colab": {
     "base_uri": "https://localhost:8080/"
    },
    "ExecuteTime": {
     "end_time": "2025-05-22T14:31:30.432215Z",
     "start_time": "2025-05-22T14:31:25.527377Z"
    }
   },
   "cell_type": "code",
   "source": [
    "gan.train(\n",
    "    data=dataloader,\n",
    "    epochs=99\n",
    ")"
   ],
   "id": "4c347020b44ba21b",
   "outputs": [
    {
     "name": "stderr",
     "output_type": "stream",
     "text": [
      "Epoch 1:   6%|▌         | 84/1397 [00:04<01:15, 17.39it/s]\n"
     ]
    },
    {
     "ename": "KeyboardInterrupt",
     "evalue": "",
     "output_type": "error",
     "traceback": [
      "\u001B[31m---------------------------------------------------------------------------\u001B[39m",
      "\u001B[31mKeyboardInterrupt\u001B[39m                         Traceback (most recent call last)",
      "\u001B[36mCell\u001B[39m\u001B[36m \u001B[39m\u001B[32mIn[75]\u001B[39m\u001B[32m, line 1\u001B[39m\n\u001B[32m----> \u001B[39m\u001B[32m1\u001B[39m \u001B[43mgan\u001B[49m\u001B[43m.\u001B[49m\u001B[43mtrain\u001B[49m\u001B[43m(\u001B[49m\n\u001B[32m      2\u001B[39m \u001B[43m    \u001B[49m\u001B[43mdata\u001B[49m\u001B[43m=\u001B[49m\u001B[43mdataloader\u001B[49m\u001B[43m,\u001B[49m\n\u001B[32m      3\u001B[39m \u001B[43m    \u001B[49m\u001B[43mepochs\u001B[49m\u001B[43m=\u001B[49m\u001B[32;43m99\u001B[39;49m\n\u001B[32m      4\u001B[39m \u001B[43m)\u001B[49m\n",
      "\u001B[36mCell\u001B[39m\u001B[36m \u001B[39m\u001B[32mIn[72]\u001B[39m\u001B[32m, line 82\u001B[39m, in \u001B[36mGAN.train\u001B[39m\u001B[34m(self, data, epochs, print_losses)\u001B[39m\n\u001B[32m     79\u001B[39m     G_losses.append(G_loss)\n\u001B[32m     81\u001B[39m     \u001B[38;5;28mself\u001B[39m._gen_optim.zero_grad()\n\u001B[32m---> \u001B[39m\u001B[32m82\u001B[39m     \u001B[43mG_loss\u001B[49m\u001B[43m.\u001B[49m\u001B[43mbackward\u001B[49m\u001B[43m(\u001B[49m\u001B[43m)\u001B[49m\n\u001B[32m     83\u001B[39m     \u001B[38;5;28mself\u001B[39m._gen_optim.step()\n\u001B[32m     85\u001B[39m \u001B[38;5;28mself\u001B[39m.epochs += \u001B[32m1\u001B[39m\n",
      "\u001B[36mFile \u001B[39m\u001B[32m~/PycharmProjects/Deep Learning^2/.venv/lib/python3.12/site-packages/torch/_tensor.py:648\u001B[39m, in \u001B[36mTensor.backward\u001B[39m\u001B[34m(self, gradient, retain_graph, create_graph, inputs)\u001B[39m\n\u001B[32m    638\u001B[39m \u001B[38;5;28;01mif\u001B[39;00m has_torch_function_unary(\u001B[38;5;28mself\u001B[39m):\n\u001B[32m    639\u001B[39m     \u001B[38;5;28;01mreturn\u001B[39;00m handle_torch_function(\n\u001B[32m    640\u001B[39m         Tensor.backward,\n\u001B[32m    641\u001B[39m         (\u001B[38;5;28mself\u001B[39m,),\n\u001B[32m   (...)\u001B[39m\u001B[32m    646\u001B[39m         inputs=inputs,\n\u001B[32m    647\u001B[39m     )\n\u001B[32m--> \u001B[39m\u001B[32m648\u001B[39m \u001B[43mtorch\u001B[49m\u001B[43m.\u001B[49m\u001B[43mautograd\u001B[49m\u001B[43m.\u001B[49m\u001B[43mbackward\u001B[49m\u001B[43m(\u001B[49m\n\u001B[32m    649\u001B[39m \u001B[43m    \u001B[49m\u001B[38;5;28;43mself\u001B[39;49m\u001B[43m,\u001B[49m\u001B[43m \u001B[49m\u001B[43mgradient\u001B[49m\u001B[43m,\u001B[49m\u001B[43m \u001B[49m\u001B[43mretain_graph\u001B[49m\u001B[43m,\u001B[49m\u001B[43m \u001B[49m\u001B[43mcreate_graph\u001B[49m\u001B[43m,\u001B[49m\u001B[43m \u001B[49m\u001B[43minputs\u001B[49m\u001B[43m=\u001B[49m\u001B[43minputs\u001B[49m\n\u001B[32m    650\u001B[39m \u001B[43m\u001B[49m\u001B[43m)\u001B[49m\n",
      "\u001B[36mFile \u001B[39m\u001B[32m~/PycharmProjects/Deep Learning^2/.venv/lib/python3.12/site-packages/torch/autograd/__init__.py:353\u001B[39m, in \u001B[36mbackward\u001B[39m\u001B[34m(tensors, grad_tensors, retain_graph, create_graph, grad_variables, inputs)\u001B[39m\n\u001B[32m    348\u001B[39m     retain_graph = create_graph\n\u001B[32m    350\u001B[39m \u001B[38;5;66;03m# The reason we repeat the same comment below is that\u001B[39;00m\n\u001B[32m    351\u001B[39m \u001B[38;5;66;03m# some Python versions print out the first line of a multi-line function\u001B[39;00m\n\u001B[32m    352\u001B[39m \u001B[38;5;66;03m# calls in the traceback and some print out the last line\u001B[39;00m\n\u001B[32m--> \u001B[39m\u001B[32m353\u001B[39m \u001B[43m_engine_run_backward\u001B[49m\u001B[43m(\u001B[49m\n\u001B[32m    354\u001B[39m \u001B[43m    \u001B[49m\u001B[43mtensors\u001B[49m\u001B[43m,\u001B[49m\n\u001B[32m    355\u001B[39m \u001B[43m    \u001B[49m\u001B[43mgrad_tensors_\u001B[49m\u001B[43m,\u001B[49m\n\u001B[32m    356\u001B[39m \u001B[43m    \u001B[49m\u001B[43mretain_graph\u001B[49m\u001B[43m,\u001B[49m\n\u001B[32m    357\u001B[39m \u001B[43m    \u001B[49m\u001B[43mcreate_graph\u001B[49m\u001B[43m,\u001B[49m\n\u001B[32m    358\u001B[39m \u001B[43m    \u001B[49m\u001B[43minputs\u001B[49m\u001B[43m,\u001B[49m\n\u001B[32m    359\u001B[39m \u001B[43m    \u001B[49m\u001B[43mallow_unreachable\u001B[49m\u001B[43m=\u001B[49m\u001B[38;5;28;43;01mTrue\u001B[39;49;00m\u001B[43m,\u001B[49m\n\u001B[32m    360\u001B[39m \u001B[43m    \u001B[49m\u001B[43maccumulate_grad\u001B[49m\u001B[43m=\u001B[49m\u001B[38;5;28;43;01mTrue\u001B[39;49;00m\u001B[43m,\u001B[49m\n\u001B[32m    361\u001B[39m \u001B[43m\u001B[49m\u001B[43m)\u001B[49m\n",
      "\u001B[36mFile \u001B[39m\u001B[32m~/PycharmProjects/Deep Learning^2/.venv/lib/python3.12/site-packages/torch/autograd/graph.py:824\u001B[39m, in \u001B[36m_engine_run_backward\u001B[39m\u001B[34m(t_outputs, *args, **kwargs)\u001B[39m\n\u001B[32m    822\u001B[39m     unregister_hooks = _register_logging_hooks_on_whole_graph(t_outputs)\n\u001B[32m    823\u001B[39m \u001B[38;5;28;01mtry\u001B[39;00m:\n\u001B[32m--> \u001B[39m\u001B[32m824\u001B[39m     \u001B[38;5;28;01mreturn\u001B[39;00m \u001B[43mVariable\u001B[49m\u001B[43m.\u001B[49m\u001B[43m_execution_engine\u001B[49m\u001B[43m.\u001B[49m\u001B[43mrun_backward\u001B[49m\u001B[43m(\u001B[49m\u001B[43m  \u001B[49m\u001B[38;5;66;43;03m# Calls into the C++ engine to run the backward pass\u001B[39;49;00m\n\u001B[32m    825\u001B[39m \u001B[43m        \u001B[49m\u001B[43mt_outputs\u001B[49m\u001B[43m,\u001B[49m\u001B[43m \u001B[49m\u001B[43m*\u001B[49m\u001B[43margs\u001B[49m\u001B[43m,\u001B[49m\u001B[43m \u001B[49m\u001B[43m*\u001B[49m\u001B[43m*\u001B[49m\u001B[43mkwargs\u001B[49m\n\u001B[32m    826\u001B[39m \u001B[43m    \u001B[49m\u001B[43m)\u001B[49m  \u001B[38;5;66;03m# Calls into the C++ engine to run the backward pass\u001B[39;00m\n\u001B[32m    827\u001B[39m \u001B[38;5;28;01mfinally\u001B[39;00m:\n\u001B[32m    828\u001B[39m     \u001B[38;5;28;01mif\u001B[39;00m attach_logging_hooks:\n",
      "\u001B[31mKeyboardInterrupt\u001B[39m: "
     ]
    }
   ],
   "execution_count": 75
  },
  {
   "metadata": {
    "id": "5fc632b1aa8aa1e8"
   },
   "cell_type": "markdown",
   "source": [
    "### Inspecting results\n",
    "Checking if our model did pookie"
   ],
   "id": "5fc632b1aa8aa1e8"
  },
  {
   "metadata": {
    "id": "b4f0c418888a8ca5",
    "ExecuteTime": {
     "end_time": "2025-05-22T13:43:34.088525Z",
     "start_time": "2025-05-22T13:43:34.075332Z"
    }
   },
   "cell_type": "code",
   "source": "images = gan.generate_images(15)",
   "id": "b4f0c418888a8ca5",
   "outputs": [],
   "execution_count": 46
  },
  {
   "metadata": {
    "id": "6f7dda2ea321dc5a",
    "outputId": "75d922e9-32fd-417e-f3f1-b79280287291",
    "colab": {
     "base_uri": "https://localhost:8080/",
     "height": 1000
    },
    "ExecuteTime": {
     "end_time": "2025-05-22T13:43:34.671437Z",
     "start_time": "2025-05-22T13:43:34.472223Z"
    }
   },
   "cell_type": "code",
   "source": [
    "fig, axis = plt.subplots(3, 5)\n",
    "axis = axis.flatten()\n",
    "\n",
    "for i in range(15):\n",
    "    axis[i].imshow(images.cpu()[i])\n",
    "\n",
    "plt.show()"
   ],
   "id": "6f7dda2ea321dc5a",
   "outputs": [
    {
     "data": {
      "text/plain": [
       "<Figure size 640x480 with 15 Axes>"
      ],
      "image/png": "[encoded data removed]"
     },
     "metadata": {},
     "output_type": "display_data"
    }
   ],
   "execution_count": 47
  },
  {
   "metadata": {},
   "cell_type": "markdown",
   "source": [
    "### Saving the model as a checkpoint\n",
    "\n",
    "Saving the networks, and optimizers to continue training on another time point."
   ],
   "id": "72a61a66b77012d3"
  },
  {
   "metadata": {},
   "cell_type": "code",
   "outputs": [],
   "execution_count": null,
   "source": [
    "filename = \"checkpoint_22052025.pt\"\n",
    "path = os.path.join(\"checkpoints\", filename)"
   ],
   "id": "1028797587cdfd79"
  },
  {
   "metadata": {},
   "cell_type": "code",
   "outputs": [],
   "execution_count": null,
   "source": "gan.save_checkpoint(path)",
   "id": "6c27b495f050950"
  }
 ],
 "metadata": {
  "kernelspec": {
   "display_name": "Python 3 (ipykernel)",
   "name": "python3",
   "language": "python"
  },
  "language_info": {
   "codemirror_mode": {
    "name": "ipython",
    "version": 2
   },
   "file_extension": ".py",
   "mimetype": "text/x-python",
   "name": "python",
   "nbconvert_exporter": "python",
   "pygments_lexer": "ipython2",
   "version": "2.7.6"
  },
  "colab": {
   "provenance": [],
   "gpuType": "T4"
  },
  "accelerator": "GPU"
 },
 "nbformat": 4,
 "nbformat_minor": 5
}
