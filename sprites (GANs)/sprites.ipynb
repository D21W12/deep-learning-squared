{
 "cells": [
  {
   "metadata": {
    "id": "ae15ebfc126e17db"
   },
   "cell_type": "markdown",
   "source": [
    "### Imports\n",
    "\n",
    "The following cell imports all necessary libraries/modules"
   ],
   "id": "ae15ebfc126e17db"
  },
  {
   "cell_type": "code",
   "id": "initial_id",
   "metadata": {
    "collapsed": true,
    "id": "initial_id",
    "ExecuteTime": {
     "end_time": "2025-05-27T12:43:23.515Z",
     "start_time": "2025-05-27T12:43:23.507243Z"
    }
   },
   "source": [
    "import torch\n",
    "import torchvision\n",
    "import torch.nn as nn\n",
    "from torch.utils.data import DataLoader, Dataset, Subset\n",
    "import os\n",
    "import matplotlib.pyplot as plt\n",
    "from tqdm import tqdm\n",
    "import numpy as np\n",
    "from datetime import datetime"
   ],
   "outputs": [],
   "execution_count": 31
  },
  {
   "metadata": {
    "id": "65e2ed1d1f70a02d"
   },
   "cell_type": "markdown",
   "source": [
    "### Creating dataloader\n",
    "\n",
    "Transforming the data and creating an useful dataloader object to use for training."
   ],
   "id": "65e2ed1d1f70a02d"
  },
  {
   "metadata": {
    "id": "6abfbebde9d21ec1",
    "ExecuteTime": {
     "end_time": "2025-05-27T12:37:11.693368Z",
     "start_time": "2025-05-27T12:37:11.689775Z"
    }
   },
   "cell_type": "code",
   "source": [
    "class SubsetSprites(Dataset):\n",
    "\n",
    "    def __init__(\n",
    "            self,\n",
    "            images: str,\n",
    "            labels: str,\n",
    "            label: np.ndarray,\n",
    "            transform=None,\n",
    "    ):\n",
    "        labels = np.load(labels)\n",
    "        mask = []\n",
    "        for encoding in labels:\n",
    "            mask.append(np.array_equal(encoding, label))\n",
    "        subset = np.load(images)[mask]\n",
    "        images = torch.from_numpy(subset) / 255\n",
    "        if transform:\n",
    "            images = torch.stack([transform(image) for image in images])\n",
    "        self.images = images.to(device)\n",
    "\n",
    "    def __len__(self):\n",
    "        return self.images.shape[0]\n",
    "\n",
    "    def __getitem__(self, idx):\n",
    "        return self.images[idx]"
   ],
   "id": "6abfbebde9d21ec1",
   "outputs": [],
   "execution_count": 3
  },
  {
   "metadata": {
    "id": "903767f66528d506",
    "ExecuteTime": {
     "end_time": "2025-05-27T12:37:12.566343Z",
     "start_time": "2025-05-27T12:37:12.562627Z"
    }
   },
   "cell_type": "code",
   "source": [
    "BATCH_SIZE = 64"
   ],
   "id": "903767f66528d506",
   "outputs": [],
   "execution_count": 4
  },
  {
   "metadata": {
    "id": "902c70b93dba3cb",
    "ExecuteTime": {
     "end_time": "2025-05-27T12:37:12.774482Z",
     "start_time": "2025-05-27T12:37:12.768149Z"
    }
   },
   "cell_type": "code",
   "source": [
    "device = torch.device(\"cuda\" if torch.cuda.is_available() else \"cpu\")\n",
    "device"
   ],
   "id": "902c70b93dba3cb",
   "outputs": [
    {
     "data": {
      "text/plain": [
       "device(type='cpu')"
      ]
     },
     "execution_count": 5,
     "metadata": {},
     "output_type": "execute_result"
    }
   ],
   "execution_count": 5
  },
  {
   "metadata": {
    "ExecuteTime": {
     "end_time": "2025-05-27T12:37:13.390821Z",
     "start_time": "2025-05-27T12:37:13.388475Z"
    }
   },
   "cell_type": "code",
   "source": [
    "class PermuteChannelsAxis:\n",
    "    \n",
    "    def __call__(self, x):\n",
    "        return x.permute(2, 0, 1)"
   ],
   "id": "f69a989c213f9eb3",
   "outputs": [],
   "execution_count": 6
  },
  {
   "metadata": {
    "id": "4970ebaee6f37301",
    "ExecuteTime": {
     "end_time": "2025-05-27T12:37:14.584749Z",
     "start_time": "2025-05-27T12:37:14.578630Z"
    }
   },
   "cell_type": "code",
   "source": [
    "transforms = torchvision.transforms.Compose([\n",
    "    PermuteChannelsAxis(),\n",
    "    torchvision.transforms.Normalize(0.5, 0.5)\n",
    "])"
   ],
   "id": "4970ebaee6f37301",
   "outputs": [],
   "execution_count": 7
  },
  {
   "metadata": {
    "id": "92561656a4beaff2",
    "ExecuteTime": {
     "end_time": "2025-05-27T12:37:15.379662Z",
     "start_time": "2025-05-27T12:37:15.048261Z"
    }
   },
   "cell_type": "code",
   "source": [
    "images = os.path.join(\"data/sprites.npy\")\n",
    "labels = os.path.join(\"data/sprites_labels.npy\")\n",
    "\n",
    "label = 0\n",
    "\n",
    "sprites = SubsetSprites(\n",
    "    images=images,\n",
    "    labels=labels,\n",
    "    label=np.eye(1, 5, label)[0],\n",
    "    transform=transforms\n",
    ")\n",
    "\n",
    "dataloader = DataLoader(\n",
    "    dataset=sprites,\n",
    "    shuffle=True,\n",
    "    batch_size=BATCH_SIZE,\n",
    ")"
   ],
   "id": "92561656a4beaff2",
   "outputs": [],
   "execution_count": 8
  },
  {
   "metadata": {
    "id": "61658a8d496c036d"
   },
   "cell_type": "markdown",
   "source": [
    "### Looking at the data\n",
    "\n",
    "In the following cells we take a look at the data"
   ],
   "id": "61658a8d496c036d"
  },
  {
   "metadata": {
    "id": "48a1a38688c31573",
    "ExecuteTime": {
     "end_time": "2025-05-27T12:37:17.988188Z",
     "start_time": "2025-05-27T12:37:17.976261Z"
    }
   },
   "cell_type": "code",
   "source": "samples = next(iter(dataloader)).to(\"cpu\")",
   "id": "48a1a38688c31573",
   "outputs": [],
   "execution_count": 9
  },
  {
   "metadata": {
    "id": "26ef1181e6588ccc",
    "outputId": "0ba851c8-5181-4623-9208-0ab66f880d19",
    "colab": {
     "base_uri": "https://localhost:8080/",
     "height": 350
    },
    "ExecuteTime": {
     "end_time": "2025-05-27T12:37:18.501790Z",
     "start_time": "2025-05-27T12:37:18.210446Z"
    }
   },
   "cell_type": "code",
   "source": [
    "samples = samples[:10,:,:,:] / 2 + 0.5 # Undo the normalization when showing the images\n",
    "\n",
    "fig, axis = plt.subplots(2, 5)\n",
    "axis = axis.flatten()\n",
    "\n",
    "for i in range(10):\n",
    "    axis[i].imshow(samples[i].permute(1, 2, 0))\n",
    "\n",
    "plt.show()"
   ],
   "id": "26ef1181e6588ccc",
   "outputs": [
    {
     "data": {
      "text/plain": [
       "<Figure size 640x480 with 10 Axes>"
      ],
      "image/png": "[encoded data removed]"
     },
     "metadata": {},
     "output_type": "display_data"
    }
   ],
   "execution_count": 10
  },
  {
   "metadata": {
    "id": "ea6655bf4a1877bb"
   },
   "cell_type": "markdown",
   "source": [
    "### Creating our networks\n",
    "\n",
    "Creating the generator and discriminator network and it's necessary blocks and modules."
   ],
   "id": "ea6655bf4a1877bb"
  },
  {
   "metadata": {
    "id": "6543ed9232cc222b",
    "ExecuteTime": {
     "end_time": "2025-05-27T12:37:21.183034Z",
     "start_time": "2025-05-27T12:37:21.175493Z"
    }
   },
   "cell_type": "code",
   "source": [
    "class PrintShape(nn.Module):\n",
    "    \"\"\"\n",
    "    Neural network model used for debugging the shape.\n",
    "    \"\"\"\n",
    "\n",
    "    def forward(self, x):\n",
    "        print(x.shape)\n",
    "        return x"
   ],
   "id": "6543ed9232cc222b",
   "outputs": [],
   "execution_count": 11
  },
  {
   "metadata": {
    "id": "9938a5537649349a",
    "ExecuteTime": {
     "end_time": "2025-05-27T12:37:21.478210Z",
     "start_time": "2025-05-27T12:37:21.471787Z"
    }
   },
   "cell_type": "code",
   "source": [
    "class GeneratorBlock(nn.Module):\n",
    "\n",
    "    def __init__(\n",
    "            self,\n",
    "            in_channels,\n",
    "            out_channels,\n",
    "            kernel_size=4,\n",
    "            stride=2,\n",
    "            padding=1,\n",
    "            **kwargs\n",
    "    ):\n",
    "        super().__init__(**kwargs)\n",
    "        self.conv_trans2d = nn.ConvTranspose2d(\n",
    "            in_channels=in_channels,\n",
    "            out_channels=out_channels,\n",
    "            kernel_size=kernel_size,\n",
    "            stride=stride,\n",
    "            padding=padding,\n",
    "        )\n",
    "        self.layer_norm = nn.BatchNorm2d(out_channels)\n",
    "        self.activation = nn.ReLU()\n",
    "\n",
    "    def forward(self, x):\n",
    "        return self.activation(self.layer_norm(self.conv_trans2d(x)))"
   ],
   "id": "9938a5537649349a",
   "outputs": [],
   "execution_count": 12
  },
  {
   "metadata": {
    "id": "a5fb358e10815fd5",
    "ExecuteTime": {
     "end_time": "2025-05-27T12:37:22.484910Z",
     "start_time": "2025-05-27T12:37:22.473437Z"
    }
   },
   "cell_type": "code",
   "source": [
    "class Generator(nn.Module):\n",
    "\n",
    "    def __init__(self, **kwargs):\n",
    "        super().__init__(**kwargs)\n",
    "\n",
    "        n_G = 32\n",
    "        self.net = nn.Sequential(\n",
    "            GeneratorBlock(\n",
    "                in_channels=100,\n",
    "                out_channels=n_G * 4,\n",
    "                kernel_size=4,\n",
    "                stride=1,\n",
    "                padding=0,\n",
    "            ), # Output: BATCH_SIZE x 64 x 4 x 4\n",
    "            GeneratorBlock(\n",
    "                in_channels=n_G * 4,\n",
    "                out_channels=n_G * 2,\n",
    "                kernel_size=4,\n",
    "                stride=2,\n",
    "                padding=1,\n",
    "            ), # Output: BATCH_SIZE x 32 x 8 x 8\n",
    "            nn.ConvTranspose2d(\n",
    "                in_channels=n_G * 2,\n",
    "                out_channels=3,\n",
    "                kernel_size=4,\n",
    "                stride=2,\n",
    "                padding=1\n",
    "            ), nn.Tanh()  # Output: BATCH_SIZE x 3 x 16 x 16\n",
    "        )\n",
    "\n",
    "    def forward(self, x):\n",
    "        return self.net(x)"
   ],
   "id": "a5fb358e10815fd5",
   "outputs": [],
   "execution_count": 13
  },
  {
   "metadata": {
    "id": "629808e96c530b41",
    "ExecuteTime": {
     "end_time": "2025-05-27T12:37:23.403720Z",
     "start_time": "2025-05-27T12:37:23.399597Z"
    }
   },
   "cell_type": "code",
   "source": [
    "class DiscriminatorBlock(nn.Module):\n",
    "\n",
    "    def __init__(\n",
    "            self,\n",
    "            in_channels: int,\n",
    "            out_channels: int,\n",
    "            kernel_size: int,\n",
    "            stride: int,\n",
    "            padding: int,\n",
    "            alpha: float,\n",
    "            **kwargs\n",
    "    ):\n",
    "\n",
    "        super().__init__(**kwargs)\n",
    "\n",
    "        self.conv = nn.Conv2d(\n",
    "            in_channels=in_channels,\n",
    "            out_channels=out_channels,\n",
    "            kernel_size=kernel_size,\n",
    "            stride=stride,\n",
    "            padding=padding,\n",
    "        )\n",
    "        self.batch_norm = nn.BatchNorm2d(out_channels)\n",
    "        self.activation = nn.LeakyReLU(alpha)\n",
    "\n",
    "    def forward(self, x):\n",
    "        return self.activation(self.batch_norm(self.conv(x)))"
   ],
   "id": "629808e96c530b41",
   "outputs": [],
   "execution_count": 14
  },
  {
   "metadata": {
    "id": "d38e3d1112875063",
    "ExecuteTime": {
     "end_time": "2025-05-27T12:37:24.157264Z",
     "start_time": "2025-05-27T12:37:24.153658Z"
    }
   },
   "cell_type": "code",
   "source": [
    "class Discriminator(nn.Module):\n",
    "\n",
    "    def __init__(self, alpha: float, **kwargs):\n",
    "        super().__init__(**kwargs)\n",
    "\n",
    "        self.net = nn.Sequential(\n",
    "            DiscriminatorBlock(\n",
    "                in_channels=3,\n",
    "                out_channels=64,\n",
    "                kernel_size=4,\n",
    "                stride=2,\n",
    "                padding=1,\n",
    "                alpha=alpha,\n",
    "            ),  # Output: BATCH_SIZE x 16 x 8 x 8\n",
    "            DiscriminatorBlock(\n",
    "                in_channels=64,\n",
    "                out_channels=128,\n",
    "                kernel_size=4,\n",
    "                stride=2,\n",
    "                padding=1,\n",
    "                alpha=alpha,\n",
    "            ),  # Output: BATCH_SIZE x 32 x 4 x 4\n",
    "            nn.Conv2d(in_channels=128, out_channels=1, kernel_size=4, stride=1, padding=0),\n",
    "            nn.Sigmoid()\n",
    "        )\n",
    "\n",
    "    def forward(self, x):\n",
    "        return self.net(x)"
   ],
   "id": "d38e3d1112875063",
   "outputs": [],
   "execution_count": 15
  },
  {
   "metadata": {
    "id": "52de0b63a8797041",
    "ExecuteTime": {
     "end_time": "2025-05-27T12:37:24.805801Z",
     "start_time": "2025-05-27T12:37:24.794785Z"
    }
   },
   "cell_type": "code",
   "source": [
    "class GAN:\n",
    "\n",
    "    def __init__(\n",
    "            self,\n",
    "            alpha: float = 0.2,\n",
    "            lr: float = 0.0002,\n",
    "            betas: tuple[float, float] = (0.5, 0.999),\n",
    "            checkpoint: dict = None\n",
    "    ):\n",
    "        \n",
    "        self._gen = Generator().to(device)\n",
    "        self._dis = Discriminator(alpha).to(device)\n",
    "        \n",
    "        self._gen_optim = torch.optim.Adam(\n",
    "            params=self._gen.parameters(),\n",
    "            lr=lr,\n",
    "            betas=betas,\n",
    "        )\n",
    "        self._dis_optim = torch.optim.Adam(\n",
    "            params=self._dis.parameters(),\n",
    "            lr=lr,\n",
    "            betas=betas,\n",
    "        )\n",
    "        \n",
    "        if checkpoint:\n",
    "            checkpoint = torch.load(checkpoint, map_location=device)\n",
    "            self._gen.load_state_dict(checkpoint[\"gen\"])\n",
    "            self._dis.load_state_dict(checkpoint[\"dis\"])\n",
    "            self._gen_optim.load_state_dict(checkpoint[\"gen_optim\"])\n",
    "            self._dis_optim.load_state_dict(checkpoint[\"dis_optim\"])\n",
    "            self.epochs = checkpoint[\"epochs\"]\n",
    "        else:\n",
    "            self.epochs = 0\n",
    "\n",
    "        self._loss = nn.BCELoss()\n",
    "\n",
    "    def train(\n",
    "            self,\n",
    "            data: DataLoader,\n",
    "            epochs: int = 10,\n",
    "            print_losses: bool = True,\n",
    "    ):\n",
    "\n",
    "        for epoch in range(epochs):\n",
    "            D_losses = []\n",
    "            G_losses = []\n",
    "\n",
    "            for real_X in tqdm(data, f\"Epoch {self.epochs + 1}\"):\n",
    "\n",
    "                batch_size = real_X.shape\n",
    "\n",
    "                # Updating discriminator\n",
    "                Z = torch.normal(0, 1, size=(BATCH_SIZE, 100, 1, 1), device=device)\n",
    "\n",
    "                fake_X = self._gen(Z).detach()\n",
    "                fake_Y = self._dis(fake_X)\n",
    "\n",
    "                real_Y = self._dis(real_X)\n",
    "\n",
    "                ones = torch.ones_like(real_Y)\n",
    "                zeros = torch.zeros_like(fake_Y)\n",
    "\n",
    "                D_loss = (self._loss(real_Y, ones) + self._loss(fake_Y, zeros)) / 2\n",
    "                D_losses.append(D_loss)\n",
    "\n",
    "                self._dis_optim.zero_grad()\n",
    "                D_loss.backward()\n",
    "                self._dis_optim.step()\n",
    "\n",
    "                # Updating generator\n",
    "                Z = torch.normal(0, 1, size=(BATCH_SIZE, 100, 1, 1), device=device)\n",
    "\n",
    "                fake_X = self._gen(Z)\n",
    "                fake_Y = self._dis(fake_X)\n",
    "\n",
    "                ones = torch.ones_like(fake_Y)\n",
    "\n",
    "                G_loss = self._loss(fake_Y, ones)\n",
    "                G_losses.append(G_loss)\n",
    "\n",
    "                self._gen_optim.zero_grad()\n",
    "                G_loss.backward()\n",
    "                self._gen_optim.step()\n",
    "                \n",
    "            self.epochs += 1\n",
    "\n",
    "            if print_losses:\n",
    "                print(f\"Average discriminator loss: {sum(D_losses) / len(D_losses):5.2f}\")\n",
    "                print(f\"Average generator loss: {sum(G_losses) / len(G_losses):5.2f}\")\n",
    "\n",
    "    def generate_images(self, images: int) -> torch.Tensor:\n",
    "\n",
    "        Z = torch.normal(0, 1, size=(15, 100, 1, 1), device=device)\n",
    "\n",
    "        with torch.no_grad():\n",
    "            images = gan._gen(Z)\n",
    "        \n",
    "        return images.permute(0, 2, 3, 1)/2+0.5\n",
    "    \n",
    "    def save_checkpoint(self, path: str):\n",
    "        checkpoint = {}\n",
    "        checkpoint[\"gen\"] = self._gen.state_dict()\n",
    "        checkpoint[\"dis\"] = self._dis.state_dict()\n",
    "        checkpoint[\"gen_optim\"] = self._gen_optim.state_dict()\n",
    "        checkpoint[\"dis_optim\"] = self._dis_optim.state_dict()\n",
    "        checkpoint[\"epochs\"] = self.epochs\n",
    "        torch.save(checkpoint, path)"
   ],
   "id": "52de0b63a8797041",
   "outputs": [],
   "execution_count": 16
  },
  {
   "metadata": {
    "id": "b92ba8143ca742b8"
   },
   "cell_type": "markdown",
   "source": [
    "### Training the network"
   ],
   "id": "b92ba8143ca742b8"
  },
  {
   "metadata": {
    "ExecuteTime": {
     "end_time": "2025-05-27T12:38:01.569654Z",
     "start_time": "2025-05-27T12:38:01.564414Z"
    }
   },
   "cell_type": "code",
   "source": [
    "filename = \"checkpoint_23052025_people_n_G_16_1000_e.pt\"\n",
    "\n",
    "# Change from None to file path if want to load an existing checkpoint\n",
    "checkpoint = os.path.join(\"checkpoints\", filename)\n",
    "# checkpoint = None"
   ],
   "id": "61bf7ab4bfe163eb",
   "outputs": [],
   "execution_count": 17
  },
  {
   "metadata": {
    "id": "1c2c7be5e0019ce4",
    "ExecuteTime": {
     "end_time": "2025-05-27T12:38:03.202704Z",
     "start_time": "2025-05-27T12:38:03.167854Z"
    }
   },
   "cell_type": "code",
   "source": [
    "gan = GAN(\n",
    "    alpha=0.2,\n",
    "    lr=0.0002,\n",
    "    betas=(0.5, 0.999),\n",
    "    checkpoint=checkpoint\n",
    ")"
   ],
   "id": "1c2c7be5e0019ce4",
   "outputs": [],
   "execution_count": 18
  },
  {
   "metadata": {
    "id": "4c347020b44ba21b",
    "outputId": "225ab117-3d8d-4b52-ed71-692505fd480e",
    "colab": {
     "base_uri": "https://localhost:8080/"
    },
    "ExecuteTime": {
     "end_time": "2025-05-27T12:40:13.405490Z",
     "start_time": "2025-05-27T12:39:53.942463Z"
    }
   },
   "cell_type": "code",
   "source": [
    "gan.train(\n",
    "    data=dataloader,\n",
    "    epochs=2,\n",
    "    print_losses=False,\n",
    ")"
   ],
   "id": "4c347020b44ba21b",
   "outputs": [
    {
     "name": "stderr",
     "output_type": "stream",
     "text": [
      "Epoch 54: 100%|██████████| 125/125 [00:09<00:00, 12.80it/s]\n",
      "Epoch 55: 100%|██████████| 125/125 [00:09<00:00, 12.90it/s]\n"
     ]
    }
   ],
   "execution_count": 27
  },
  {
   "metadata": {
    "id": "5fc632b1aa8aa1e8"
   },
   "cell_type": "markdown",
   "source": [
    "### Inspecting results\n",
    "Checking if our model did pookie"
   ],
   "id": "5fc632b1aa8aa1e8"
  },
  {
   "metadata": {
    "id": "b4f0c418888a8ca5",
    "ExecuteTime": {
     "end_time": "2025-05-27T12:40:28.525116Z",
     "start_time": "2025-05-27T12:40:28.520180Z"
    }
   },
   "cell_type": "code",
   "source": "images = gan.generate_images(15)",
   "id": "b4f0c418888a8ca5",
   "outputs": [],
   "execution_count": 28
  },
  {
   "metadata": {
    "id": "6f7dda2ea321dc5a",
    "outputId": "75d922e9-32fd-417e-f3f1-b79280287291",
    "colab": {
     "base_uri": "https://localhost:8080/",
     "height": 1000
    },
    "ExecuteTime": {
     "end_time": "2025-05-27T12:40:29.163157Z",
     "start_time": "2025-05-27T12:40:28.804266Z"
    }
   },
   "cell_type": "code",
   "source": [
    "fig, axis = plt.subplots(3, 5)\n",
    "axis = axis.flatten()\n",
    "\n",
    "for i in range(15):\n",
    "    axis[i].imshow(images.cpu()[i])\n",
    "\n",
    "plt.show()"
   ],
   "id": "6f7dda2ea321dc5a",
   "outputs": [
    {
     "data": {
      "text/plain": [
       "<Figure size 640x480 with 15 Axes>"
      ],
      "image/png": "[encoded data removed]"
     },
     "metadata": {},
     "output_type": "display_data"
    }
   ],
   "execution_count": 29
  },
  {
   "metadata": {},
   "cell_type": "markdown",
   "source": [
    "### Saving the model as a checkpoint\n",
    "\n",
    "Saving the networks, and optimizers to continue training on another time point."
   ],
   "id": "72a61a66b77012d3"
  },
  {
   "metadata": {
    "ExecuteTime": {
     "end_time": "2025-05-27T12:46:06.699773Z",
     "start_time": "2025-05-27T12:46:06.689989Z"
    }
   },
   "cell_type": "code",
   "source": [
    "datetime_ = datetime.now().strftime(\"%d%m%Y%H%M%S\")\n",
    "\n",
    "filename = f\"checkpoint_{datetime_}.pt\"\n",
    "path = os.path.join(\"checkpoints\", filename)"
   ],
   "id": "1028797587cdfd79",
   "outputs": [],
   "execution_count": 37
  },
  {
   "metadata": {
    "ExecuteTime": {
     "end_time": "2025-05-27T12:46:07.955409Z",
     "start_time": "2025-05-27T12:46:07.928787Z"
    }
   },
   "cell_type": "code",
   "source": "gan.save_checkpoint(path)",
   "id": "6c27b495f050950",
   "outputs": [],
   "execution_count": 38
  },
  {
   "metadata": {
    "ExecuteTime": {
     "end_time": "2025-05-26T21:39:55.341236Z",
     "start_time": "2025-05-26T21:39:55.339383Z"
    }
   },
   "cell_type": "code",
   "source": "",
   "id": "ef5989dd5087e5be",
   "outputs": [],
   "execution_count": null
  }
 ],
 "metadata": {
  "kernelspec": {
   "display_name": "Python 3 (ipykernel)",
   "name": "python3",
   "language": "python"
  },
  "language_info": {
   "codemirror_mode": {
    "name": "ipython",
    "version": 2
   },
   "file_extension": ".py",
   "mimetype": "text/x-python",
   "name": "python",
   "nbconvert_exporter": "python",
   "pygments_lexer": "ipython2",
   "version": "2.7.6"
  },
  "colab": {
   "provenance": [],
   "gpuType": "T4"
  },
  "accelerator": "GPU"
 },
 "nbformat": 4,
 "nbformat_minor": 5
}
